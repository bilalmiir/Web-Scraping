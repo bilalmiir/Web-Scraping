{
 "cells": [
  {
   "cell_type": "markdown",
   "metadata": {},
   "source": [
    "# Assignment 1: Web Scraping"
   ]
  },
  {
   "cell_type": "code",
   "execution_count": 2,
   "metadata": {},
   "outputs": [],
   "source": [
    "import re\n",
    "import requests\n",
    "import pandas as pd\n",
    "from bs4 import BeautifulSoup"
   ]
  },
  {
   "cell_type": "markdown",
   "metadata": {},
   "source": [
    "# Scraping Fast, Lahore website to get Faculty Information"
   ]
  },
  {
   "cell_type": "code",
   "execution_count": 132,
   "metadata": {},
   "outputs": [],
   "source": [
    "lhr_facultyURL = 'https://lhr.nu.edu.pk/faculty/'\n",
    "r = requests.get(lhr_facultyURL)"
   ]
  },
  {
   "cell_type": "code",
   "execution_count": 133,
   "metadata": {},
   "outputs": [],
   "source": [
    "soup = BeautifulSoup(r.content, 'html.parser')"
   ]
  },
  {
   "cell_type": "markdown",
   "metadata": {},
   "source": [
    "Getting all the information about the faculty of Fast School of Computing"
   ]
  },
  {
   "cell_type": "code",
   "execution_count": 134,
   "metadata": {},
   "outputs": [],
   "source": [
    "fsc_info = soup.find('div', id= 'fsc')"
   ]
  },
  {
   "cell_type": "markdown",
   "metadata": {},
   "source": [
    "Getting the department name"
   ]
  },
  {
   "cell_type": "code",
   "execution_count": 135,
   "metadata": {},
   "outputs": [],
   "source": [
    "fsc_department = fsc_info.find(class_='mb-2 mt-3').text"
   ]
  },
  {
   "cell_type": "markdown",
   "metadata": {},
   "source": [
    "Getting list of all faculty members"
   ]
  },
  {
   "cell_type": "code",
   "execution_count": 136,
   "metadata": {},
   "outputs": [],
   "source": [
    "fsc_faculty_list = fsc_info.findAll(class_='col-lg-3 col-md-4 col-sm-6 col-12')"
   ]
  },
  {
   "cell_type": "markdown",
   "metadata": {},
   "source": [
    "Creating Dataframe for storing faculty members' data of Fast, lahore"
   ]
  },
  {
   "cell_type": "code",
   "execution_count": 225,
   "metadata": {},
   "outputs": [],
   "source": [
    "lhr_faculty = pd.DataFrame(columns=['Id', 'Name', 'Designation', 'HEC Approved PhD Supervisor', 'Highest Education', 'Email', 'Department', 'Extension', 'ImageURL'])"
   ]
  },
  {
   "cell_type": "code",
   "execution_count": 226,
   "metadata": {},
   "outputs": [],
   "source": [
    "for member in fsc_faculty_list:\n",
    "    profileURL = 'https://lhr.nu.edu.pk' + member.find(class_='faculty-link').get('href')\n",
    "    member_id = int(profileURL.split('/')[-1])\n",
    "        \n",
    "    # Sending req to profileURL\n",
    "    profileURL_res = requests.get(profileURL)\n",
    "    \n",
    "    profileURL_soup = BeautifulSoup(profileURL_res.content, 'html.parser')\n",
    "    \n",
    "    # Getting the latest education of the faculty member\n",
    "    degree = profileURL_soup.find(class_='col-lg-8 col-md-6 col-sm-12 text-justify')\n",
    "    if degree:\n",
    "        # Attempt to find the first <li> element\n",
    "        li_element = degree.find('li')\n",
    "        \n",
    "        if li_element:\n",
    "            li_text = li_element.text.strip()\n",
    "            \n",
    "            # Getting the characters before first comma\n",
    "            match = re.match(r'^[^,]+', li_text)\n",
    "            if match:\n",
    "                highest_education = match.group(0)  # Get the matched part\n",
    "    \n",
    "    # Getting phone tag to get Ext from it\n",
    "    phone_tag = profileURL_soup.find('span', class_='small')\n",
    "\n",
    "    if phone_tag is not None:\n",
    "        phone_tag_text = phone_tag.text\n",
    "        if phone_tag_text:\n",
    "            # Getting the digits after Ext:\n",
    "            extension_match = re.search(r'Ext:(\\d+)$', phone_tag_text)\n",
    "            if extension_match:\n",
    "                extension_number = extension_match.group(1)\n",
    "        else:\n",
    "            extension_number = None        \n",
    "    else:\n",
    "        extension_number = None\n",
    "    \n",
    "    # Checking the designation and whether the member is HEC approved Phd advisor or not\n",
    "    text = member.find('p', class_='small text-center font-italic').text.strip()\n",
    "\n",
    "    # text is splitted on the basis of \\n removing extra spaces between them\n",
    "    parts = [part.strip() for part in text.split(\"\\n\") if part.strip()]\n",
    "\n",
    "    # first part which is the designation\n",
    "    designation = parts[0]\n",
    "\n",
    "    # Checking HEC approval\n",
    "    hec_approved = False\n",
    "    if len(parts) > 1 and \"HEC Approved PhD Supervisor\" in parts[1]:\n",
    "        hec_approved = True\n",
    "\n",
    "    new_data = {'Id': member_id,\n",
    "                'Name': member.find(class_='text-center').text,\n",
    "                'Designation': designation,\n",
    "                'HEC Approved PhD Supervisor': hec_approved,\n",
    "                'Highest Education': highest_education,\n",
    "                'Email': member.find(class_='mb-0 text-center').text,\n",
    "                'Department': fsc_department,\n",
    "                'Extension': extension_number,\n",
    "                'ImageURL': 'https://lhr.nu.edu.pk' + member.find('img', class_='card-img-top rounded-circle mt-3 mb-0 d-block mx-auto').get('src')}\n",
    "    \n",
    "    new_df = pd.DataFrame([new_data])\n",
    "    lhr_faculty = pd.concat([lhr_faculty, new_df], ignore_index=True)"
   ]
  },
  {
   "cell_type": "markdown",
   "metadata": {},
   "source": [
    "Getting all the information about the faculty of department of Electrical Engineering"
   ]
  },
  {
   "cell_type": "code",
   "execution_count": 227,
   "metadata": {},
   "outputs": [],
   "source": [
    "ee_info = soup.find('div', id= 'ee')"
   ]
  },
  {
   "cell_type": "markdown",
   "metadata": {},
   "source": [
    "Getting department name"
   ]
  },
  {
   "cell_type": "code",
   "execution_count": 228,
   "metadata": {},
   "outputs": [],
   "source": [
    "ee_department = ee_info.find(class_='mb-2 mt-3').text"
   ]
  },
  {
   "cell_type": "markdown",
   "metadata": {},
   "source": [
    "Getting list of all faculty members"
   ]
  },
  {
   "cell_type": "code",
   "execution_count": 229,
   "metadata": {},
   "outputs": [],
   "source": [
    "ee_faculty_list = ee_info.findAll(class_='col-lg-3 col-md-4 col-sm-6 col-12')"
   ]
  },
  {
   "cell_type": "code",
   "execution_count": 230,
   "metadata": {},
   "outputs": [],
   "source": [
    "for member in ee_faculty_list:\n",
    "    profileURL = 'https://lhr.nu.edu.pk' + member.find(class_='faculty-link').get('href')\n",
    "    member_id = int(profileURL.split('/')[-1])\n",
    "    \n",
    "    # Sending req to profileURL\n",
    "    profileURL_res = requests.get(profileURL)\n",
    "    \n",
    "    profileURL_soup = BeautifulSoup(profileURL_res.content, 'html.parser')\n",
    "    \n",
    "    # Getting the latest education of the faculty member\n",
    "    degree = profileURL_soup.find(class_='col-lg-8 col-md-6 col-sm-12 text-justify')\n",
    "    if degree:\n",
    "        # Attempt to find the first <li> element\n",
    "        li_element = degree.find('li')\n",
    "        \n",
    "        if li_element:\n",
    "            li_text = li_element.text.strip()\n",
    "            \n",
    "            # Getting the characters before first comma\n",
    "            match = re.match(r'^[^,]+', li_text)\n",
    "            if match:\n",
    "                highest_education = match.group(0)  # Get the matched part\n",
    "    \n",
    "    # Getting phone tag to get Ext from it\n",
    "    phone_tag = profileURL_soup.find('span', class_='small')\n",
    "\n",
    "    if phone_tag is not None:\n",
    "        phone_tag_text = phone_tag.text\n",
    "        if phone_tag_text:\n",
    "            # Getting the digits after Ext:\n",
    "            extension_match = re.search(r'Ext:(\\d+)$', phone_tag_text)\n",
    "            if extension_match:\n",
    "                extension_number = extension_match.group(1)\n",
    "        else:\n",
    "            extension_number = None        \n",
    "    else:\n",
    "        extension_number = None    \n",
    "    \n",
    "    # Checking the designation and whether the member is HEC approved Phd advisor or not\n",
    "    text = member.find('p', class_='small text-center font-italic').text.strip()\n",
    "\n",
    "    # text is splitted on the basis of \\n removing extra spaces between them\n",
    "    parts = [part.strip() for part in text.split(\"\\n\") if part.strip()]\n",
    "\n",
    "    # first part which is the designation\n",
    "    designation = parts[0]\n",
    "\n",
    "    # Checking HEC approval\n",
    "    hec_approved = False\n",
    "    if len(parts) > 1 and \"HEC Approved PhD Supervisor\" in parts[1]:\n",
    "        hec_approved = True\n",
    "\n",
    "    new_data = {'Id': member_id,\n",
    "                'Name': member.find(class_='text-center').text,\n",
    "                'Designation': designation,\n",
    "                'HEC Approved PhD Supervisor': hec_approved,\n",
    "                'Highest Education': highest_education,\n",
    "                'Email': member.find(class_='mb-0 text-center').text,\n",
    "                'Department': ee_department,\n",
    "                'Extension': extension_number,\n",
    "                'ImageURL': 'https://lhr.nu.edu.pk' + member.find('img', class_='card-img-top rounded-circle mt-3 mb-0 d-block mx-auto').get('src')}\n",
    "    \n",
    "    new_df = pd.DataFrame([new_data])\n",
    "    lhr_faculty = pd.concat([lhr_faculty, new_df], ignore_index=True)"
   ]
  },
  {
   "cell_type": "markdown",
   "metadata": {},
   "source": [
    "Getting all the information about the faculty of department of Civil Engineering"
   ]
  },
  {
   "cell_type": "code",
   "execution_count": 231,
   "metadata": {},
   "outputs": [],
   "source": [
    "cv_info = soup.find('div', id= 'cv')"
   ]
  },
  {
   "cell_type": "markdown",
   "metadata": {},
   "source": [
    "Getting department name"
   ]
  },
  {
   "cell_type": "code",
   "execution_count": 232,
   "metadata": {},
   "outputs": [],
   "source": [
    "cv_department = cv_info.find(class_='mb-2 mt-3').text"
   ]
  },
  {
   "cell_type": "markdown",
   "metadata": {},
   "source": [
    "Getting list of all faculty members"
   ]
  },
  {
   "cell_type": "code",
   "execution_count": 233,
   "metadata": {},
   "outputs": [],
   "source": [
    "cv_faculty_list = cv_info.findAll(class_='col-lg-3 col-md-4 col-sm-6 col-12')"
   ]
  },
  {
   "cell_type": "code",
   "execution_count": 234,
   "metadata": {},
   "outputs": [],
   "source": [
    "for member in cv_faculty_list:\n",
    "    profileURL = 'https://lhr.nu.edu.pk' + member.find(class_='faculty-link').get('href')\n",
    "    member_id = int(profileURL.split('/')[-1])\n",
    "    \n",
    "    # Sending req to profileURL\n",
    "    profileURL_res = requests.get(profileURL)\n",
    "    \n",
    "    profileURL_soup = BeautifulSoup(profileURL_res.content, 'html.parser')\n",
    "    \n",
    "    # Getting the latest education of the faculty member\n",
    "    degree = profileURL_soup.find(class_='col-lg-8 col-md-6 col-sm-12 text-justify')\n",
    "    if degree:\n",
    "        # Attempt to find the first <li> element\n",
    "        li_element = degree.find('li')\n",
    "        \n",
    "        if li_element:\n",
    "            li_text = li_element.text.strip()\n",
    "            \n",
    "            # Getting the characters before first comma\n",
    "            match = re.match(r'^[^,]+', li_text)\n",
    "            if match:\n",
    "                highest_education = match.group(0)  # Get the matched part\n",
    "    \n",
    "    # Getting phone tag to get Ext from it\n",
    "    phone_tag = profileURL_soup.find('span', class_='small')\n",
    "\n",
    "    if phone_tag is not None:\n",
    "        phone_tag_text = phone_tag.text\n",
    "        if phone_tag_text:\n",
    "            # Getting the digits after Ext:\n",
    "            extension_match = re.search(r'Ext:(\\d+)$', phone_tag_text)\n",
    "            if extension_match:\n",
    "                extension_number = extension_match.group(1)\n",
    "        else:\n",
    "            extension_number = None        \n",
    "    else:\n",
    "        extension_number = None\n",
    "        \n",
    "    # Checking the designation and whether the member is HEC approved Phd advisor or not\n",
    "    text = member.find('p', class_='small text-center font-italic').text.strip()\n",
    "\n",
    "    # text is splitted on the basis of \\n removing extra spaces between them\n",
    "    parts = [part.strip() for part in text.split(\"\\n\") if part.strip()]\n",
    "\n",
    "    # first part which is the designation\n",
    "    designation = parts[0]\n",
    "\n",
    "    # Checking HEC approval\n",
    "    hec_approved = False\n",
    "    if len(parts) > 1 and \"HEC Approved PhD Supervisor\" in parts[1]:\n",
    "        hec_approved = True\n",
    "\n",
    "    new_data = {'Id': member_id,\n",
    "                'Name': member.find(class_='text-center').text,\n",
    "                'Designation': designation,\n",
    "                'HEC Approved PhD Supervisor': hec_approved,\n",
    "                'Highest Education': highest_education,\n",
    "                'Email': member.find(class_='mb-0 text-center').text,\n",
    "                'Department': cv_department,\n",
    "                'Extension': extension_number,\n",
    "                'ImageURL': 'https://lhr.nu.edu.pk' + member.find('img', class_='card-img-top rounded-circle mt-3 mb-0 d-block mx-auto').get('src')}\n",
    "    \n",
    "    new_df = pd.DataFrame([new_data])\n",
    "    lhr_faculty = pd.concat([lhr_faculty, new_df], ignore_index=True)"
   ]
  },
  {
   "cell_type": "markdown",
   "metadata": {},
   "source": [
    "Getting all the information about the faculty of Fast School of Management"
   ]
  },
  {
   "cell_type": "code",
   "execution_count": 235,
   "metadata": {},
   "outputs": [],
   "source": [
    "fsm_info = soup.find('div', id= 'fsm')"
   ]
  },
  {
   "cell_type": "markdown",
   "metadata": {},
   "source": [
    "Getting department name"
   ]
  },
  {
   "cell_type": "code",
   "execution_count": 236,
   "metadata": {},
   "outputs": [],
   "source": [
    "fsm_department = fsm_info.find(class_='mb-2 mt-3').text"
   ]
  },
  {
   "cell_type": "markdown",
   "metadata": {},
   "source": [
    "Getting list of all faculty members"
   ]
  },
  {
   "cell_type": "code",
   "execution_count": 237,
   "metadata": {},
   "outputs": [],
   "source": [
    "fsm_faculty_list = fsm_info.findAll(class_='col-lg-3 col-md-4 col-sm-6 col-12')"
   ]
  },
  {
   "cell_type": "code",
   "execution_count": 238,
   "metadata": {},
   "outputs": [],
   "source": [
    "for member in fsm_faculty_list:\n",
    "    profileURL = 'https://lhr.nu.edu.pk' + member.find(class_='faculty-link').get('href')\n",
    "    member_id = int(profileURL.split('/')[-1])\n",
    "    \n",
    "    # Sending req to profileURL\n",
    "    profileURL_res = requests.get(profileURL)\n",
    "    \n",
    "    profileURL_soup = BeautifulSoup(profileURL_res.content, 'html.parser')\n",
    "    \n",
    "    # Getting the latest education of the faculty member\n",
    "    degree = profileURL_soup.find(class_='col-lg-8 col-md-6 col-sm-12 text-justify')\n",
    "    if degree:\n",
    "        # Attempt to find the first <li> element\n",
    "        li_element = degree.find('li')\n",
    "        \n",
    "        if li_element:\n",
    "            li_text = li_element.text.strip()\n",
    "            \n",
    "            # Getting the characters before first comma\n",
    "            match = re.match(r'^[^,]+', li_text)\n",
    "            if match:\n",
    "                highest_education = match.group(0)  # Get the matched part\n",
    "    \n",
    "    # Getting phone tag to get Ext from it\n",
    "    phone_tag = profileURL_soup.find('span', class_='small')\n",
    "\n",
    "    if phone_tag is not None:\n",
    "        phone_tag_text = phone_tag.text\n",
    "        if phone_tag_text:\n",
    "            # Getting the digits after Ext:\n",
    "            extension_match = re.search(r'Ext:(\\d+)$', phone_tag_text)\n",
    "            if extension_match:\n",
    "                extension_number = extension_match.group(1)\n",
    "        else:\n",
    "            extension_number = None        \n",
    "    else:\n",
    "        extension_number = None\n",
    "        \n",
    "    # Checking the designation and whether the member is HEC approved Phd advisor or not\n",
    "    text = member.find('p', class_='small text-center font-italic').text.strip()\n",
    "    \n",
    "    # text is splitted on the basis of \\n removing extra spaces between them\n",
    "    parts = [part.strip() for part in text.split(\"\\n\") if part.strip()]\n",
    "\n",
    "    # first part which is the designation\n",
    "    designation = parts[0]\n",
    "\n",
    "    # Checking HEC approval\n",
    "    hec_approved = False\n",
    "    if len(parts) > 1 and \"HEC Approved PhD Supervisor\" in parts[1]:\n",
    "        hec_approved = True\n",
    "\n",
    "    new_data = {'Id': member_id,\n",
    "                'Name': member.find(class_='text-center').text,\n",
    "                'Designation': designation,\n",
    "                'HEC Approved PhD Supervisor': hec_approved,\n",
    "                'Highest Education': highest_education,\n",
    "                'Email': member.find(class_='mb-0 text-center').text,\n",
    "                'Department': fsm_department,\n",
    "                'Extension': extension_number,\n",
    "                'ImageURL': 'https://lhr.nu.edu.pk' + member.find('img', class_='card-img-top rounded-circle mt-3 mb-0 d-block mx-auto').get('src')}\n",
    "    \n",
    "    new_df = pd.DataFrame([new_data])\n",
    "    lhr_faculty = pd.concat([lhr_faculty, new_df], ignore_index=True)"
   ]
  },
  {
   "cell_type": "markdown",
   "metadata": {},
   "source": [
    "Getting all the information about the faculty of Department of Science and Humanities"
   ]
  },
  {
   "cell_type": "code",
   "execution_count": 239,
   "metadata": {},
   "outputs": [],
   "source": [
    "ss_info = soup.find('div', id= 'ss')"
   ]
  },
  {
   "cell_type": "markdown",
   "metadata": {},
   "source": [
    "Getting department name"
   ]
  },
  {
   "cell_type": "code",
   "execution_count": 240,
   "metadata": {},
   "outputs": [],
   "source": [
    "ss_department = ss_info.find(class_='mb-2 mt-3').text"
   ]
  },
  {
   "cell_type": "markdown",
   "metadata": {},
   "source": [
    "Getting list of all faculty members"
   ]
  },
  {
   "cell_type": "code",
   "execution_count": 241,
   "metadata": {},
   "outputs": [],
   "source": [
    "ss_faculty_list = ss_info.findAll(class_='col-lg-3 col-md-4 col-sm-6 col-12')"
   ]
  },
  {
   "cell_type": "code",
   "execution_count": 242,
   "metadata": {},
   "outputs": [],
   "source": [
    "for member in ss_faculty_list:\n",
    "    profileURL = 'https://lhr.nu.edu.pk' + member.find(class_='faculty-link').get('href')\n",
    "    member_id = int(profileURL.split('/')[-1])\n",
    "    \n",
    "    # Sending req to profileURL\n",
    "    profileURL_res = requests.get(profileURL)\n",
    "    \n",
    "    profileURL_soup = BeautifulSoup(profileURL_res.content, 'html.parser')\n",
    "    \n",
    "    # Getting the latest education of the faculty member\n",
    "    degree = profileURL_soup.find(class_='col-lg-8 col-md-6 col-sm-12 text-justify')\n",
    "    if degree:\n",
    "        # Attempt to find the first <li> element\n",
    "        li_element = degree.find('li')\n",
    "        \n",
    "        if li_element:\n",
    "            li_text = li_element.text.strip()\n",
    "            \n",
    "            # Getting the characters before first comma\n",
    "            match = re.match(r'^[^,]+', li_text)\n",
    "            if match:\n",
    "                highest_education = match.group(0)  # Get the matched part\n",
    "    \n",
    "    # Getting phone tag to get Ext from it\n",
    "    phone_tag = profileURL_soup.find('span', class_='small')\n",
    "\n",
    "    if phone_tag is not None:\n",
    "        phone_tag_text = phone_tag.text\n",
    "        if phone_tag_text:\n",
    "            # Getting the digits after Ext:\n",
    "            extension_match = re.search(r'Ext:(\\d+)$', phone_tag_text)\n",
    "            if extension_match:\n",
    "                extension_number = extension_match.group(1)\n",
    "        else:\n",
    "            extension_number = None        \n",
    "    else:\n",
    "        extension_number = None\n",
    "        \n",
    "    # Checking the designation and whether the member is HEC approved Phd advisor or not\n",
    "    text = member.find('p', class_='small text-center font-italic').text.strip()\n",
    "    \n",
    "    # text is splitted on the basis of \\n removing extra spaces between them\n",
    "    parts = [part.strip() for part in text.split(\"\\n\") if part.strip()]\n",
    "\n",
    "    # first part which is the designation\n",
    "    designation = parts[0]\n",
    "\n",
    "    # Checking HEC approval\n",
    "    hec_approved = False\n",
    "    if len(parts) > 1 and \"HEC Approved PhD Supervisor\" in parts[1]:\n",
    "        hec_approved = True\n",
    "\n",
    "    new_data = {'Id': member_id,\n",
    "                'Name': member.find(class_='text-center').text,\n",
    "                'Designation': designation,\n",
    "                'HEC Approved PhD Supervisor': hec_approved,\n",
    "                'Highest Education': highest_education,\n",
    "                'Email': member.find(class_='mb-0 text-center').text,\n",
    "                'Department': ss_department,\n",
    "                'Extension': extension_number,\n",
    "                'ImageURL': 'https://lhr.nu.edu.pk' + member.find('img', class_='card-img-top rounded-circle mt-3 mb-0 d-block mx-auto').get('src')}\n",
    "    \n",
    "    new_df = pd.DataFrame([new_data])\n",
    "    lhr_faculty = pd.concat([lhr_faculty, new_df], ignore_index=True)"
   ]
  },
  {
   "cell_type": "code",
   "execution_count": 243,
   "metadata": {},
   "outputs": [],
   "source": [
    "# Changing type of the columns\n",
    "lhr_faculty[['Id', 'Extension']] = lhr_faculty[['Id', 'Extension']].astype(int)\n",
    "lhr_faculty['HEC Approved PhD Supervisor'] = lhr_faculty['HEC Approved PhD Supervisor'].astype(bool)\n",
    "lhr_faculty[['Name', 'Designation', 'Highest Education', 'Email', 'Department', 'ImageURL']] = lhr_faculty[['Name', 'Designation', 'Highest Education', 'Email', 'Department', 'ImageURL']].astype('string')"
   ]
  },
  {
   "cell_type": "code",
   "execution_count": 244,
   "metadata": {},
   "outputs": [
    {
     "name": "stdout",
     "output_type": "stream",
     "text": [
      "<class 'pandas.core.frame.DataFrame'>\n",
      "RangeIndex: 195 entries, 0 to 194\n",
      "Data columns (total 9 columns):\n",
      " #   Column                       Non-Null Count  Dtype \n",
      "---  ------                       --------------  ----- \n",
      " 0   Id                           195 non-null    int32 \n",
      " 1   Name                         195 non-null    string\n",
      " 2   Designation                  195 non-null    string\n",
      " 3   HEC Approved PhD Supervisor  195 non-null    bool  \n",
      " 4   Highest Education            195 non-null    string\n",
      " 5   Email                        195 non-null    string\n",
      " 6   Department                   195 non-null    string\n",
      " 7   Extension                    195 non-null    int32 \n",
      " 8   ImageURL                     195 non-null    string\n",
      "dtypes: bool(1), int32(2), string(6)\n",
      "memory usage: 11.0 KB\n"
     ]
    }
   ],
   "source": [
    "lhr_faculty.info()"
   ]
  },
  {
   "cell_type": "code",
   "execution_count": 245,
   "metadata": {},
   "outputs": [
    {
     "data": {
      "text/plain": [
       "Department\n",
       "FAST School of Computing Faculty                89\n",
       "FAST School of Management Faculty               32\n",
       "Department of Science & Humanities Faculty      30\n",
       "Department of Electrical Engineering Faculty    23\n",
       "Department of Civil Engineering Faculty         21\n",
       "Name: count, dtype: Int64"
      ]
     },
     "execution_count": 245,
     "metadata": {},
     "output_type": "execute_result"
    }
   ],
   "source": [
    "lhr_faculty['Department'].value_counts()"
   ]
  },
  {
   "cell_type": "code",
   "execution_count": 246,
   "metadata": {},
   "outputs": [
    {
     "data": {
      "text/html": [
       "<div>\n",
       "<style scoped>\n",
       "    .dataframe tbody tr th:only-of-type {\n",
       "        vertical-align: middle;\n",
       "    }\n",
       "\n",
       "    .dataframe tbody tr th {\n",
       "        vertical-align: top;\n",
       "    }\n",
       "\n",
       "    .dataframe thead th {\n",
       "        text-align: right;\n",
       "    }\n",
       "</style>\n",
       "<table border=\"1\" class=\"dataframe\">\n",
       "  <thead>\n",
       "    <tr style=\"text-align: right;\">\n",
       "      <th></th>\n",
       "      <th>Id</th>\n",
       "      <th>Name</th>\n",
       "      <th>Designation</th>\n",
       "      <th>HEC Approved PhD Supervisor</th>\n",
       "      <th>Highest Education</th>\n",
       "      <th>Email</th>\n",
       "      <th>Department</th>\n",
       "      <th>Extension</th>\n",
       "      <th>ImageURL</th>\n",
       "    </tr>\n",
       "  </thead>\n",
       "  <tbody>\n",
       "    <tr>\n",
       "      <th>131</th>\n",
       "      <td>6571</td>\n",
       "      <td>Ms. Maham Akram</td>\n",
       "      <td>Lab Engineer</td>\n",
       "      <td>False</td>\n",
       "      <td>BS (Civil Engineering)</td>\n",
       "      <td>maham.akram@nu.edu.pk</td>\n",
       "      <td>Department of Civil Engineering Faculty</td>\n",
       "      <td>447</td>\n",
       "      <td>https://lhr.nu.edu.pk/media/Faculty/90_-_Maham...</td>\n",
       "    </tr>\n",
       "    <tr>\n",
       "      <th>122</th>\n",
       "      <td>6839</td>\n",
       "      <td>Mr. Asim Sharif</td>\n",
       "      <td>Lecturer</td>\n",
       "      <td>False</td>\n",
       "      <td>MS (Civil Engineering)</td>\n",
       "      <td>asim.sharif@nu.edu.pk</td>\n",
       "      <td>Department of Civil Engineering Faculty</td>\n",
       "      <td>446</td>\n",
       "      <td>https://lhr.nu.edu.pk/media/Faculty/6839.png</td>\n",
       "    </tr>\n",
       "    <tr>\n",
       "      <th>16</th>\n",
       "      <td>4335</td>\n",
       "      <td>Dr. Asma Ahmad Farhan</td>\n",
       "      <td>Assistant Professor</td>\n",
       "      <td>True</td>\n",
       "      <td>PhD (CS)</td>\n",
       "      <td>asma.ahmad@nu.edu.pk</td>\n",
       "      <td>FAST School of Computing Faculty</td>\n",
       "      <td>212</td>\n",
       "      <td>https://lhr.nu.edu.pk/media/Faculty/54._Dr_Asm...</td>\n",
       "    </tr>\n",
       "    <tr>\n",
       "      <th>25</th>\n",
       "      <td>5466</td>\n",
       "      <td>Dr. Zeeshan Ali Rana</td>\n",
       "      <td>Assistant Professor</td>\n",
       "      <td>True</td>\n",
       "      <td>Ph.D (CS)</td>\n",
       "      <td>zeeshan.rana@nu.edu.pk</td>\n",
       "      <td>FAST School of Computing Faculty</td>\n",
       "      <td>562</td>\n",
       "      <td>https://lhr.nu.edu.pk/media/Faculty/66_Dr_Zees...</td>\n",
       "    </tr>\n",
       "  </tbody>\n",
       "</table>\n",
       "</div>"
      ],
      "text/plain": [
       "       Id                   Name          Designation  \\\n",
       "131  6571        Ms. Maham Akram         Lab Engineer   \n",
       "122  6839        Mr. Asim Sharif             Lecturer   \n",
       "16   4335  Dr. Asma Ahmad Farhan  Assistant Professor   \n",
       "25   5466   Dr. Zeeshan Ali Rana  Assistant Professor   \n",
       "\n",
       "     HEC Approved PhD Supervisor       Highest Education  \\\n",
       "131                        False  BS (Civil Engineering)   \n",
       "122                        False  MS (Civil Engineering)   \n",
       "16                          True                PhD (CS)   \n",
       "25                          True               Ph.D (CS)   \n",
       "\n",
       "                      Email                               Department  \\\n",
       "131   maham.akram@nu.edu.pk  Department of Civil Engineering Faculty   \n",
       "122   asim.sharif@nu.edu.pk  Department of Civil Engineering Faculty   \n",
       "16     asma.ahmad@nu.edu.pk         FAST School of Computing Faculty   \n",
       "25   zeeshan.rana@nu.edu.pk         FAST School of Computing Faculty   \n",
       "\n",
       "     Extension                                           ImageURL  \n",
       "131        447  https://lhr.nu.edu.pk/media/Faculty/90_-_Maham...  \n",
       "122        446       https://lhr.nu.edu.pk/media/Faculty/6839.png  \n",
       "16         212  https://lhr.nu.edu.pk/media/Faculty/54._Dr_Asm...  \n",
       "25         562  https://lhr.nu.edu.pk/media/Faculty/66_Dr_Zees...  "
      ]
     },
     "execution_count": 246,
     "metadata": {},
     "output_type": "execute_result"
    }
   ],
   "source": [
    "lhr_faculty.sample(4)"
   ]
  },
  {
   "cell_type": "markdown",
   "metadata": {},
   "source": [
    "Converting into csv file"
   ]
  },
  {
   "cell_type": "code",
   "execution_count": 159,
   "metadata": {},
   "outputs": [],
   "source": [
    "lhr_faculty.to_csv('lhr.csv')"
   ]
  },
  {
   "cell_type": "markdown",
   "metadata": {},
   "source": [
    "# Scraping Fast, Islamabad website to get Faculty Information"
   ]
  },
  {
   "cell_type": "code",
   "execution_count": 160,
   "metadata": {},
   "outputs": [],
   "source": [
    "import json"
   ]
  },
  {
   "cell_type": "markdown",
   "metadata": {},
   "source": [
    "Computing Faculty"
   ]
  },
  {
   "cell_type": "code",
   "execution_count": 161,
   "metadata": {},
   "outputs": [],
   "source": [
    "isb_cs_faculty_URL = 'http://isb.nu.edu.pk/Faculty/GetAllEmp?id=301'"
   ]
  },
  {
   "cell_type": "code",
   "execution_count": 162,
   "metadata": {},
   "outputs": [
    {
     "name": "stdout",
     "output_type": "stream",
     "text": [
      "<Response [200]>\n"
     ]
    }
   ],
   "source": [
    "# define header to mimic a chrome browser\n",
    "headers = {\n",
    "    'User-Agent': 'Chrome/92.0.4515.159 Safari/537.36'\n",
    "}\n",
    "\n",
    "# making req to get info about cs faculty\n",
    "cs_res = requests.get(isb_cs_faculty_URL, headers=headers)\n",
    "\n",
    "# printing res\n",
    "print(cs_res)"
   ]
  },
  {
   "cell_type": "code",
   "execution_count": 163,
   "metadata": {},
   "outputs": [],
   "source": [
    "# converting response from json into dictionary\n",
    "cs_faculty_info = json.loads(cs_res.content)"
   ]
  },
  {
   "cell_type": "code",
   "execution_count": 164,
   "metadata": {},
   "outputs": [],
   "source": [
    "isb_faculty_info = []"
   ]
  },
  {
   "cell_type": "code",
   "execution_count": 165,
   "metadata": {},
   "outputs": [],
   "source": [
    "# storing cs faculty info\n",
    "for info in cs_faculty_info:\n",
    "    isb_faculty_info.append({\n",
    "      'Id': info.get('Emp_ID'),\n",
    "      'Name': info.get('Name'),\n",
    "      'Designation': info.get('Designation_Title'),\n",
    "      'HEC Approved PhD Supervisor': info.get('hec_supervisor'),\n",
    "      'Highest Education': None,\n",
    "      'Email': info.get('Email'),\n",
    "      'Department': info.get('Dept_ID'),\n",
    "      'Extension': info.get('Extension'),\n",
    "      'ImageURL': info.get('ImagePath')\n",
    "    })"
   ]
  },
  {
   "cell_type": "markdown",
   "metadata": {},
   "source": [
    "Electrical Faculty"
   ]
  },
  {
   "cell_type": "code",
   "execution_count": 166,
   "metadata": {},
   "outputs": [
    {
     "name": "stdout",
     "output_type": "stream",
     "text": [
      "<Response [200]>\n"
     ]
    }
   ],
   "source": [
    "isb_ee_faculty_URL = 'http://isb.nu.edu.pk/Faculty/GetAllEmp?id=302'\n",
    "\n",
    "# making req to get info about ee faculty\n",
    "ee_res = requests.get(isb_ee_faculty_URL, headers=headers)\n",
    "print(ee_res)"
   ]
  },
  {
   "cell_type": "code",
   "execution_count": 167,
   "metadata": {},
   "outputs": [],
   "source": [
    "# converting response in json into dictionary\n",
    "ee_faculty_info = json.loads(ee_res.content)"
   ]
  },
  {
   "cell_type": "code",
   "execution_count": 168,
   "metadata": {},
   "outputs": [],
   "source": [
    "# storing ee faculty info\n",
    "for info in ee_faculty_info:\n",
    "    isb_faculty_info.append({\n",
    "      'Id': info.get('Emp_ID'),\n",
    "      'Name': info.get('Name'),\n",
    "      'Designation': info.get('Designation_Title'),\n",
    "      'HEC Approved PhD Supervisor': info.get('hec_supervisor'),\n",
    "      'Highest Education': None,\n",
    "      'Email': info.get('Email'),\n",
    "      'Department': info.get('Dept_ID'),\n",
    "      'Extension': info.get('Extension'),\n",
    "      'ImageURL': info.get('ImagePath')\n",
    "    })"
   ]
  },
  {
   "cell_type": "markdown",
   "metadata": {},
   "source": [
    "Management Faculty"
   ]
  },
  {
   "cell_type": "code",
   "execution_count": 169,
   "metadata": {},
   "outputs": [
    {
     "name": "stdout",
     "output_type": "stream",
     "text": [
      "<Response [200]>\n"
     ]
    }
   ],
   "source": [
    "isb_mgmt_faculty_URL = 'http://isb.nu.edu.pk/Faculty/GetAllEmp?id=303'\n",
    "\n",
    "# making req to get info about mgmt faculty\n",
    "mgmt_res = requests.get(isb_mgmt_faculty_URL, headers=headers)\n",
    "print(mgmt_res)"
   ]
  },
  {
   "cell_type": "code",
   "execution_count": 170,
   "metadata": {},
   "outputs": [],
   "source": [
    "# converting response in json into dictionary\n",
    "mgmt_faculty_info = json.loads(mgmt_res.content)"
   ]
  },
  {
   "cell_type": "code",
   "execution_count": 171,
   "metadata": {},
   "outputs": [],
   "source": [
    "# storing mgmt faculty info\n",
    "for info in mgmt_faculty_info:\n",
    "    isb_faculty_info.append({\n",
    "      'Id': info.get('Emp_ID'),\n",
    "      'Name': info.get('Name'),\n",
    "      'Designation': info.get('Designation_Title'),\n",
    "      'HEC Approved PhD Supervisor': info.get('hec_supervisor'),\n",
    "      'Highest Education': None,\n",
    "      'Email': info.get('Email'),\n",
    "      'Department': info.get('Dept_ID'),\n",
    "      'Extension': info.get('Extension'),\n",
    "      'ImageURL': info.get('ImagePath')\n",
    "    })"
   ]
  },
  {
   "cell_type": "markdown",
   "metadata": {},
   "source": [
    "Science and Humanities Faculty"
   ]
  },
  {
   "cell_type": "code",
   "execution_count": 172,
   "metadata": {},
   "outputs": [
    {
     "name": "stdout",
     "output_type": "stream",
     "text": [
      "<Response [200]>\n"
     ]
    }
   ],
   "source": [
    "isb_ss_faculty_URL = 'http://isb.nu.edu.pk/Faculty/GetAllEmp?id=313'\n",
    "\n",
    "# making req to get info about ss faculty\n",
    "ss_res = requests.get(isb_ss_faculty_URL, headers=headers)\n",
    "print(ss_res)"
   ]
  },
  {
   "cell_type": "code",
   "execution_count": 173,
   "metadata": {},
   "outputs": [],
   "source": [
    "# converting response in json into dictionary\n",
    "ss_faculty_info = json.loads(ss_res.content)"
   ]
  },
  {
   "cell_type": "code",
   "execution_count": 174,
   "metadata": {},
   "outputs": [],
   "source": [
    "# storing ss faculty info\n",
    "for info in ss_faculty_info:\n",
    "    isb_faculty_info.append({\n",
    "      'Id': info.get('Emp_ID'),\n",
    "      'Name': info.get('Name'),\n",
    "      'Designation': info.get('Designation_Title'),\n",
    "      'HEC Approved PhD Supervisor': info.get('hec_supervisor'),\n",
    "      'Highest Education': None,\n",
    "      'Email': info.get('Email'),\n",
    "      'Department': info.get('Dept_ID'),\n",
    "      'Extension': info.get('Extension'),\n",
    "      'ImageURL': info.get('ImagePath')\n",
    "    })"
   ]
  },
  {
   "cell_type": "markdown",
   "metadata": {},
   "source": [
    "Converting into Dataframe"
   ]
  },
  {
   "cell_type": "code",
   "execution_count": 175,
   "metadata": {},
   "outputs": [],
   "source": [
    "isb_faculty = pd.DataFrame(isb_faculty_info)"
   ]
  },
  {
   "cell_type": "code",
   "execution_count": 176,
   "metadata": {},
   "outputs": [],
   "source": [
    "# chaging extension datatype into int\n",
    "isb_faculty['Extension'] = pd.to_numeric(isb_faculty['Extension'], errors='coerce').fillna(0).astype(int)"
   ]
  },
  {
   "cell_type": "code",
   "execution_count": 177,
   "metadata": {},
   "outputs": [],
   "source": [
    "# changing id datatype into int\n",
    "isb_faculty['Id'] = isb_faculty['Id'].astype(int)"
   ]
  },
  {
   "cell_type": "code",
   "execution_count": 178,
   "metadata": {},
   "outputs": [],
   "source": [
    "# chaging datatypes of Name, desg, email, dept, imageURL into string\n",
    "isb_faculty['Name'] = isb_faculty['Name'].astype('string')\n",
    "isb_faculty['Designation'] = isb_faculty['Designation'].astype('string')\n",
    "isb_faculty['Highest Education'] = isb_faculty['Highest Education'].astype('string')\n",
    "isb_faculty['Email'] = isb_faculty['Email'].astype('string')\n",
    "isb_faculty['Department'] = isb_faculty['Department'].astype('string')\n",
    "isb_faculty['ImageURL'] = isb_faculty['ImageURL'].astype('string')"
   ]
  },
  {
   "cell_type": "code",
   "execution_count": 179,
   "metadata": {},
   "outputs": [],
   "source": [
    "# chaginging datatype of HEC Approved PhD Supervisor into bool\n",
    "isb_faculty['HEC Approved PhD Supervisor'] = isb_faculty['HEC Approved PhD Supervisor'].astype(bool)"
   ]
  },
  {
   "cell_type": "code",
   "execution_count": 180,
   "metadata": {},
   "outputs": [],
   "source": [
    "# removing unwanted spaces from name\n",
    "isb_faculty['Name'] = isb_faculty['Name'].str.strip()"
   ]
  },
  {
   "cell_type": "code",
   "execution_count": 181,
   "metadata": {},
   "outputs": [],
   "source": [
    "depts_list = []\n",
    "\n",
    "for idx, dept in isb_faculty['Department'].items():\n",
    "    if dept == '301':\n",
    "        depts_list.append('CS')\n",
    "    elif dept == '302':\n",
    "        depts_list.append('EE')\n",
    "    elif dept == '303':\n",
    "        depts_list.append('MG')\n",
    "    elif dept == '313':\n",
    "        depts_list.append('SS')"
   ]
  },
  {
   "cell_type": "code",
   "execution_count": 182,
   "metadata": {},
   "outputs": [],
   "source": [
    "isb_faculty['Department'] = depts_list"
   ]
  },
  {
   "cell_type": "markdown",
   "metadata": {},
   "source": [
    "Accessing education"
   ]
  },
  {
   "cell_type": "code",
   "execution_count": 183,
   "metadata": {},
   "outputs": [],
   "source": [
    "edu_detail_URL = 'http://isb.nu.edu.pk/Faculty/Details1'"
   ]
  },
  {
   "cell_type": "code",
   "execution_count": 184,
   "metadata": {},
   "outputs": [],
   "source": [
    "degree_list = []"
   ]
  },
  {
   "cell_type": "code",
   "execution_count": 185,
   "metadata": {},
   "outputs": [],
   "source": [
    "for idx, ids in isb_faculty['Id'].items():\n",
    "    data = {'id': int(ids)}\n",
    "    myres = requests.post(edu_detail_URL, headers=headers, json=data)\n",
    "\n",
    "    temp = json.loads(myres.content)\n",
    "    if 'listEEdu' in temp and len(temp['listEEdu']) > 0:\n",
    "        degree_list.append(temp['listEEdu'][0]['Degree_Name'])\n",
    "    else:\n",
    "        degree_list.append('None')"
   ]
  },
  {
   "cell_type": "code",
   "execution_count": 186,
   "metadata": {},
   "outputs": [],
   "source": [
    "isb_faculty['Highest Education'] = degree_list"
   ]
  },
  {
   "cell_type": "code",
   "execution_count": 187,
   "metadata": {},
   "outputs": [
    {
     "data": {
      "text/html": [
       "<div>\n",
       "<style scoped>\n",
       "    .dataframe tbody tr th:only-of-type {\n",
       "        vertical-align: middle;\n",
       "    }\n",
       "\n",
       "    .dataframe tbody tr th {\n",
       "        vertical-align: top;\n",
       "    }\n",
       "\n",
       "    .dataframe thead th {\n",
       "        text-align: right;\n",
       "    }\n",
       "</style>\n",
       "<table border=\"1\" class=\"dataframe\">\n",
       "  <thead>\n",
       "    <tr style=\"text-align: right;\">\n",
       "      <th></th>\n",
       "      <th>Id</th>\n",
       "      <th>Name</th>\n",
       "      <th>Designation</th>\n",
       "      <th>HEC Approved PhD Supervisor</th>\n",
       "      <th>Highest Education</th>\n",
       "      <th>Email</th>\n",
       "      <th>Department</th>\n",
       "      <th>Extension</th>\n",
       "      <th>ImageURL</th>\n",
       "    </tr>\n",
       "  </thead>\n",
       "  <tbody>\n",
       "    <tr>\n",
       "      <th>0</th>\n",
       "      <td>4553</td>\n",
       "      <td>Waseem Shahzad</td>\n",
       "      <td>Director &amp; Professor</td>\n",
       "      <td>True</td>\n",
       "      <td>Ph.D</td>\n",
       "      <td>waseem.shahzad@nu.edu.pk</td>\n",
       "      <td>CS</td>\n",
       "      <td>101</td>\n",
       "      <td>/Images/Profile/CS/4553-3.jpg</td>\n",
       "    </tr>\n",
       "    <tr>\n",
       "      <th>1</th>\n",
       "      <td>4551</td>\n",
       "      <td>Hasan Mujtaba Kiyani</td>\n",
       "      <td>Head, School of Computing &amp; Professor</td>\n",
       "      <td>True</td>\n",
       "      <td>Ph.D</td>\n",
       "      <td>hasan.mujtaba@nu.edu.pk</td>\n",
       "      <td>CS</td>\n",
       "      <td>626</td>\n",
       "      <td>/Images/Profile/CS/4551.jpg</td>\n",
       "    </tr>\n",
       "    <tr>\n",
       "      <th>2</th>\n",
       "      <td>4400</td>\n",
       "      <td>Hammad Majeed</td>\n",
       "      <td>HoD (Computer Science) &amp; Professor</td>\n",
       "      <td>True</td>\n",
       "      <td>P.hD</td>\n",
       "      <td>hammad.majeed@nu.edu.pk</td>\n",
       "      <td>CS</td>\n",
       "      <td>672</td>\n",
       "      <td>/Images/Profile/CS/4400.jpg</td>\n",
       "    </tr>\n",
       "    <tr>\n",
       "      <th>3</th>\n",
       "      <td>5099</td>\n",
       "      <td>Muhammad Asim</td>\n",
       "      <td>HoD (Cyber Security) &amp; Professor</td>\n",
       "      <td>True</td>\n",
       "      <td>P.hD</td>\n",
       "      <td>muhammad.asim@nu.edu.pk</td>\n",
       "      <td>CS</td>\n",
       "      <td>503</td>\n",
       "      <td>/Images/Profile/CS/5099.jpg</td>\n",
       "    </tr>\n",
       "    <tr>\n",
       "      <th>4</th>\n",
       "      <td>5200</td>\n",
       "      <td>Usman Habib</td>\n",
       "      <td>HoD (Software Engineering) &amp; Associate Professor</td>\n",
       "      <td>True</td>\n",
       "      <td>PhD</td>\n",
       "      <td>usman.habib@nu.edu.pk</td>\n",
       "      <td>CS</td>\n",
       "      <td>0</td>\n",
       "      <td>/Images/Profile/CS/5200.jpg</td>\n",
       "    </tr>\n",
       "  </tbody>\n",
       "</table>\n",
       "</div>"
      ],
      "text/plain": [
       "     Id                  Name  \\\n",
       "0  4553        Waseem Shahzad   \n",
       "1  4551  Hasan Mujtaba Kiyani   \n",
       "2  4400         Hammad Majeed   \n",
       "3  5099         Muhammad Asim   \n",
       "4  5200           Usman Habib   \n",
       "\n",
       "                                        Designation  \\\n",
       "0                              Director & Professor   \n",
       "1             Head, School of Computing & Professor   \n",
       "2                HoD (Computer Science) & Professor   \n",
       "3                  HoD (Cyber Security) & Professor   \n",
       "4  HoD (Software Engineering) & Associate Professor   \n",
       "\n",
       "   HEC Approved PhD Supervisor Highest Education                     Email  \\\n",
       "0                         True              Ph.D  waseem.shahzad@nu.edu.pk   \n",
       "1                         True              Ph.D  hasan.mujtaba@nu.edu.pk    \n",
       "2                         True              P.hD   hammad.majeed@nu.edu.pk   \n",
       "3                         True              P.hD   muhammad.asim@nu.edu.pk   \n",
       "4                         True               PhD     usman.habib@nu.edu.pk   \n",
       "\n",
       "  Department  Extension                       ImageURL  \n",
       "0         CS        101  /Images/Profile/CS/4553-3.jpg  \n",
       "1         CS        626    /Images/Profile/CS/4551.jpg  \n",
       "2         CS        672    /Images/Profile/CS/4400.jpg  \n",
       "3         CS        503    /Images/Profile/CS/5099.jpg  \n",
       "4         CS          0    /Images/Profile/CS/5200.jpg  "
      ]
     },
     "execution_count": 187,
     "metadata": {},
     "output_type": "execute_result"
    }
   ],
   "source": [
    "isb_faculty.head(5)"
   ]
  },
  {
   "cell_type": "code",
   "execution_count": 188,
   "metadata": {},
   "outputs": [
    {
     "name": "stdout",
     "output_type": "stream",
     "text": [
      "<class 'pandas.core.frame.DataFrame'>\n",
      "RangeIndex: 240 entries, 0 to 239\n",
      "Data columns (total 9 columns):\n",
      " #   Column                       Non-Null Count  Dtype \n",
      "---  ------                       --------------  ----- \n",
      " 0   Id                           240 non-null    int32 \n",
      " 1   Name                         240 non-null    string\n",
      " 2   Designation                  240 non-null    string\n",
      " 3   HEC Approved PhD Supervisor  240 non-null    bool  \n",
      " 4   Highest Education            240 non-null    object\n",
      " 5   Email                        240 non-null    string\n",
      " 6   Department                   240 non-null    object\n",
      " 7   Extension                    240 non-null    int32 \n",
      " 8   ImageURL                     237 non-null    string\n",
      "dtypes: bool(1), int32(2), object(2), string(4)\n",
      "memory usage: 13.5+ KB\n"
     ]
    }
   ],
   "source": [
    "isb_faculty.info()"
   ]
  },
  {
   "cell_type": "markdown",
   "metadata": {},
   "source": [
    "Converting into csv file"
   ]
  },
  {
   "cell_type": "code",
   "execution_count": 189,
   "metadata": {},
   "outputs": [],
   "source": [
    "isb_faculty.to_csv('isb.csv')"
   ]
  },
  {
   "cell_type": "markdown",
   "metadata": {},
   "source": [
    "# Scraping Fast, Peshawar website to get Faculty Information"
   ]
  },
  {
   "cell_type": "code",
   "execution_count": 190,
   "metadata": {},
   "outputs": [],
   "source": [
    "psw_URL = 'http://pwr.nu.edu.pk/'\n",
    "psw_res = requests.get(psw_URL)"
   ]
  },
  {
   "cell_type": "code",
   "execution_count": 191,
   "metadata": {},
   "outputs": [],
   "source": [
    "psw_soup = BeautifulSoup(psw_res.content, 'html.parser')"
   ]
  },
  {
   "cell_type": "code",
   "execution_count": 192,
   "metadata": {},
   "outputs": [],
   "source": [
    "psw_faculty_href = []"
   ]
  },
  {
   "cell_type": "code",
   "execution_count": 193,
   "metadata": {},
   "outputs": [],
   "source": [
    "# loop through all <a> tags and extract the 'href' attribute\n",
    "for link in psw_soup.findAll('a'):\n",
    "    href = link.get('href')\n",
    "    if href == 'cs-faculty/':\n",
    "        psw_faculty_href.append(psw_URL + href)\n",
    "    \n",
    "    elif href == 'ee-faculty/':\n",
    "        psw_faculty_href.append(psw_URL + href)\n",
    "        \n",
    "    elif href == 'lab-technician-ee-staff/':\n",
    "        psw_faculty_href.append(psw_URL + href)\n",
    "    \n",
    "    elif href == \"sh-faculty/\":\n",
    "        psw_faculty_href.append(psw_URL + href)   \n",
    "        \n",
    "    elif href == 'hec-faculty/':\n",
    "        psw_faculty_href.append(psw_URL + href)    "
   ]
  },
  {
   "cell_type": "code",
   "execution_count": 194,
   "metadata": {},
   "outputs": [],
   "source": [
    "# assigning each link to a variable\n",
    "if len(psw_faculty_href) == 5:\n",
    "    psw_cs_faculty_href, psw_ee_faculty_href, psw_ee_lab_faculty_href, psw_sh_faculty_href, psw_hec_faculty_link = psw_faculty_href"
   ]
  },
  {
   "cell_type": "code",
   "execution_count": 357,
   "metadata": {},
   "outputs": [],
   "source": [
    "# dataframe to store psw faculty data\n",
    "psw_faculty = pd.DataFrame(columns=['Id', 'Name', 'Designation', 'HEC Approved PhD Supervisor', 'Highest Education', 'Email', 'Department', 'Extension', 'ImageURL'])"
   ]
  },
  {
   "cell_type": "markdown",
   "metadata": {},
   "source": [
    "HEC approved supervisor list"
   ]
  },
  {
   "cell_type": "code",
   "execution_count": 248,
   "metadata": {},
   "outputs": [
    {
     "data": {
      "text/plain": [
       "<Response [200]>"
      ]
     },
     "execution_count": 248,
     "metadata": {},
     "output_type": "execute_result"
    }
   ],
   "source": [
    "psw_hec_faculty_res = requests.get(psw_hec_faculty_link)\n",
    "psw_hec_faculty_res"
   ]
  },
  {
   "cell_type": "code",
   "execution_count": 249,
   "metadata": {},
   "outputs": [],
   "source": [
    "psw_hec_faculty_soup = BeautifulSoup(psw_hec_faculty_res.content, 'html.parser')"
   ]
  },
  {
   "cell_type": "code",
   "execution_count": 250,
   "metadata": {},
   "outputs": [],
   "source": [
    "psw_hec_faculty_allDivs = psw_hec_faculty_soup.findAll('div', class_='faculty-member')"
   ]
  },
  {
   "cell_type": "code",
   "execution_count": 251,
   "metadata": {},
   "outputs": [],
   "source": [
    "psw_hec_faculty_list = []"
   ]
  },
  {
   "cell_type": "code",
   "execution_count": 252,
   "metadata": {},
   "outputs": [],
   "source": [
    "for faculty_member in psw_hec_faculty_allDivs:\n",
    "    name = faculty_member.find('div', class_='faculty-details').find('h2').text.strip()\n",
    "    psw_hec_faculty_list.append(name)"
   ]
  },
  {
   "cell_type": "markdown",
   "metadata": {},
   "source": [
    "Computing Faculty"
   ]
  },
  {
   "cell_type": "code",
   "execution_count": 253,
   "metadata": {},
   "outputs": [],
   "source": [
    "psw_cs_href_res = requests.get(psw_cs_faculty_href)"
   ]
  },
  {
   "cell_type": "code",
   "execution_count": 254,
   "metadata": {},
   "outputs": [],
   "source": [
    "psw_cs_soup = BeautifulSoup(psw_cs_href_res.content, 'html.parser')"
   ]
  },
  {
   "cell_type": "code",
   "execution_count": 255,
   "metadata": {},
   "outputs": [],
   "source": [
    "psw_cs_faculty_list = psw_cs_soup.find_all('div', class_='faculty-member')"
   ]
  },
  {
   "cell_type": "code",
   "execution_count": 358,
   "metadata": {},
   "outputs": [],
   "source": [
    "for member in psw_cs_faculty_list:\n",
    "    # id of member\n",
    "    input_str = member.find('h2').find('a').get('href')\n",
    "    # Regular expression to extract the `id` value\n",
    "    match = re.search(r\"faculty-profile\\.php\\?id=(\\d+)\", input_str)\n",
    "    if match:\n",
    "        # ID value\n",
    "        member_id = match.group(1)\n",
    "        \n",
    "    else:\n",
    "        member_id = None\n",
    "        \n",
    "    # name of member    \n",
    "    name = member.find('h2').text\n",
    "    \n",
    "    # designation, email, extension str\n",
    "    p_list = member.find_all('p')\n",
    "    if len(p_list) == 3:\n",
    "        designation_name, email, extension_str = p_list\n",
    "    \n",
    "    designation = designation_name.text\n",
    "    email = email.text\n",
    "    extension_str = extension_str.text\n",
    "    \n",
    "    # Regular expression to find extension number\n",
    "    match = re.search(r'Ext\\.\\s*(\\d+)', extension_str)\n",
    "    # If there's a match, extract the number, else set to None\n",
    "    extension_number = match.group(1) if match else None\n",
    "    \n",
    "    # hec_approved or not\n",
    "    if name in psw_hec_faculty_list:\n",
    "        hec_approved = True\n",
    "    else:\n",
    "        hec_approved = False   \n",
    "    \n",
    "    # finding department name\n",
    "    match = re.search(r'/(\\w+)-faculty', psw_cs_faculty_href)\n",
    "\n",
    "    if match:\n",
    "        department = match.group(1)\n",
    "    \n",
    "    # image\n",
    "    imageURL = psw_URL + member.find('img').get('src')\n",
    "    \n",
    "    # getting highest educaton\n",
    "    psw_cs_faculty_profile_res = requests.get(psw_URL + input_str)\n",
    "    psw_cs_soup2 = BeautifulSoup(psw_cs_faculty_profile_res.content, 'html.parser')\n",
    "    edu_str = psw_cs_soup2.find('div', class_='tab-content').find(class_='tab-pane').find('li').text.strip()\n",
    "    \n",
    "    match = re.match(r'^([^,]+)', edu_str)\n",
    "    if match:\n",
    "        highest_education = match.group(1)\n",
    "    else:\n",
    "        highest_education = None\n",
    "    \n",
    "    new_data = {'Id': member_id,\n",
    "            'Name': name,\n",
    "            'Designation': designation,\n",
    "            'HEC Approved PhD Supervisor': hec_approved,\n",
    "            'Highest Education': highest_education,\n",
    "            'Email': email,\n",
    "            'Department': department,\n",
    "            'Extension': extension_number,\n",
    "            'ImageURL': imageURL}\n",
    "    \n",
    "    new_df = pd.DataFrame([new_data])\n",
    "    psw_faculty = pd.concat([psw_faculty, new_df], ignore_index=True)"
   ]
  },
  {
   "cell_type": "markdown",
   "metadata": {},
   "source": [
    "Electrical Faculty"
   ]
  },
  {
   "cell_type": "code",
   "execution_count": 257,
   "metadata": {},
   "outputs": [
    {
     "data": {
      "text/plain": [
       "<Response [200]>"
      ]
     },
     "execution_count": 257,
     "metadata": {},
     "output_type": "execute_result"
    }
   ],
   "source": [
    "psw_ee_href_res = requests.get(psw_ee_faculty_href)\n",
    "psw_ee_href_res"
   ]
  },
  {
   "cell_type": "code",
   "execution_count": 258,
   "metadata": {},
   "outputs": [],
   "source": [
    "psw_ee_soup = BeautifulSoup(psw_ee_href_res.content, 'html.parser')"
   ]
  },
  {
   "cell_type": "code",
   "execution_count": 259,
   "metadata": {},
   "outputs": [],
   "source": [
    "psw_ee_faculty_list = psw_ee_soup.find_all('div', class_='faculty-member')"
   ]
  },
  {
   "cell_type": "code",
   "execution_count": 359,
   "metadata": {},
   "outputs": [],
   "source": [
    "for member in psw_ee_faculty_list:\n",
    "    # id of member\n",
    "    input_str = member.find('h2').find('a').get('href')\n",
    "    # Regular expression to extract the `id` value\n",
    "    match = re.search(r\"faculty-profile\\.php\\?id=(\\d+)\", input_str)\n",
    "    if match:\n",
    "        # ID value\n",
    "        member_id = match.group(1)\n",
    "        \n",
    "    else:\n",
    "        member_id = None\n",
    "        \n",
    "    # name of member    \n",
    "    name = member.find('h2').text\n",
    "    \n",
    "    # designation, email, extension str\n",
    "    p_list = member.find_all('p')\n",
    "    if len(p_list) == 3:\n",
    "        designation_name, email, extension_str = p_list\n",
    "    \n",
    "    designation = designation_name.text\n",
    "    email = email.text\n",
    "    extension_str = extension_str.text\n",
    "    \n",
    "    # Regular expression to find extension number\n",
    "    match = re.search(r'Ext\\.\\s*(\\d+)', extension_str)\n",
    "    # If there's a match, extract the number, else set to None\n",
    "    extension_number = match.group(1) if match else None\n",
    "    \n",
    "    # hec_approved or not\n",
    "    if name in psw_hec_faculty_list:\n",
    "        hec_approved = True\n",
    "    else:\n",
    "        hec_approved = False   \n",
    "    \n",
    "    # department name\n",
    "    # Use regex to find 'cs' followed by a hyphen and any other characters\n",
    "    match = re.search(r'/(\\w+)-faculty', psw_ee_faculty_href)\n",
    "\n",
    "    if match:\n",
    "        department = match.group(1)\n",
    "    \n",
    "    # image\n",
    "    imageURL = psw_URL + member.find('img').get('src')\n",
    "    \n",
    "    # getting highest educaton\n",
    "    psw_cs_faculty_profile_res = requests.get(psw_URL + input_str)\n",
    "    psw_cs_soup2 = BeautifulSoup(psw_cs_faculty_profile_res.content, 'html.parser')\n",
    "    edu_str = psw_cs_soup2.find('div', class_='tab-content').find(class_='tab-pane').find('li').text.strip()\n",
    "    \n",
    "    match = re.match(r'^([^,]+)', edu_str)\n",
    "    if match:\n",
    "        highest_education = match.group(1)\n",
    "    else:\n",
    "        highest_education = None\n",
    "    \n",
    "    new_data = {'Id': member_id,\n",
    "            'Name': name,\n",
    "            'Designation': designation,\n",
    "            'HEC Approved PhD Supervisor': hec_approved,\n",
    "            'Highest Education': highest_education,\n",
    "            'Email': email,\n",
    "            'Department': department,\n",
    "            'Extension': extension_number,\n",
    "            'ImageURL': imageURL}\n",
    "    \n",
    "    new_df = pd.DataFrame([new_data])\n",
    "    psw_faculty = pd.concat([psw_faculty, new_df], ignore_index=True)"
   ]
  },
  {
   "cell_type": "code",
   "execution_count": 360,
   "metadata": {},
   "outputs": [
    {
     "data": {
      "text/html": [
       "<div>\n",
       "<style scoped>\n",
       "    .dataframe tbody tr th:only-of-type {\n",
       "        vertical-align: middle;\n",
       "    }\n",
       "\n",
       "    .dataframe tbody tr th {\n",
       "        vertical-align: top;\n",
       "    }\n",
       "\n",
       "    .dataframe thead th {\n",
       "        text-align: right;\n",
       "    }\n",
       "</style>\n",
       "<table border=\"1\" class=\"dataframe\">\n",
       "  <thead>\n",
       "    <tr style=\"text-align: right;\">\n",
       "      <th></th>\n",
       "      <th>Id</th>\n",
       "      <th>Name</th>\n",
       "      <th>Designation</th>\n",
       "      <th>HEC Approved PhD Supervisor</th>\n",
       "      <th>Highest Education</th>\n",
       "      <th>Email</th>\n",
       "      <th>Department</th>\n",
       "      <th>Extension</th>\n",
       "      <th>ImageURL</th>\n",
       "    </tr>\n",
       "  </thead>\n",
       "  <tbody>\n",
       "    <tr>\n",
       "      <th>0</th>\n",
       "      <td>3704</td>\n",
       "      <td>Fazl-e-Basit</td>\n",
       "      <td>Assistant Professor &amp; HoD</td>\n",
       "      <td>False</td>\n",
       "      <td>M.S(Computer Science)</td>\n",
       "      <td>fazl.basit@nu.edu.pk</td>\n",
       "      <td>cs</td>\n",
       "      <td>110</td>\n",
       "      <td>http://pwr.nu.edu.pk/images/faculty/thumb3704.jpg</td>\n",
       "    </tr>\n",
       "    <tr>\n",
       "      <th>1</th>\n",
       "      <td>9237</td>\n",
       "      <td>Dr. Omar Usman Khan</td>\n",
       "      <td>Professor &amp; Director</td>\n",
       "      <td>True</td>\n",
       "      <td>Ph.D. (Computer And Control Engineering)</td>\n",
       "      <td>omar.khan@nu.edu.pk</td>\n",
       "      <td>cs</td>\n",
       "      <td>103</td>\n",
       "      <td>http://pwr.nu.edu.pk/images/faculty/thumb9237.jpg</td>\n",
       "    </tr>\n",
       "    <tr>\n",
       "      <th>2</th>\n",
       "      <td>9315</td>\n",
       "      <td>Dr. Hafeez Ur Rehman</td>\n",
       "      <td>Associate Professor (On Leave)</td>\n",
       "      <td>True</td>\n",
       "      <td>Ph.D. in Computer and Control Engineering</td>\n",
       "      <td>hafeez.urrehman@nu.edu.pk</td>\n",
       "      <td>cs</td>\n",
       "      <td>None</td>\n",
       "      <td>http://pwr.nu.edu.pk/images/faculty/thumb9315.jpg</td>\n",
       "    </tr>\n",
       "    <tr>\n",
       "      <th>3</th>\n",
       "      <td>9482</td>\n",
       "      <td>Dr. Nouman Azam</td>\n",
       "      <td>Associate Professor</td>\n",
       "      <td>True</td>\n",
       "      <td>Ph.D. (CS)</td>\n",
       "      <td>nouman.azam@nu.edu.pk</td>\n",
       "      <td>cs</td>\n",
       "      <td>134</td>\n",
       "      <td>http://pwr.nu.edu.pk/images/faculty/thumb9482.jpg</td>\n",
       "    </tr>\n",
       "    <tr>\n",
       "      <th>4</th>\n",
       "      <td>6833</td>\n",
       "      <td>Dr. Hafeez Anwar</td>\n",
       "      <td>Associate Professor</td>\n",
       "      <td>False</td>\n",
       "      <td>PhD (Informatics)</td>\n",
       "      <td>hafeez.anwar@nu.edu.pk</td>\n",
       "      <td>cs</td>\n",
       "      <td>None</td>\n",
       "      <td>http://pwr.nu.edu.pk/images/faculty/thumb6833.jpg</td>\n",
       "    </tr>\n",
       "    <tr>\n",
       "      <th>5</th>\n",
       "      <td>3692</td>\n",
       "      <td>Shoaib Muhammad Khan</td>\n",
       "      <td>Assistant Professor</td>\n",
       "      <td>False</td>\n",
       "      <td>M.S(Computer Science)</td>\n",
       "      <td>shoaib.khan@nu.edu.pk</td>\n",
       "      <td>cs</td>\n",
       "      <td>144</td>\n",
       "      <td>http://pwr.nu.edu.pk/images/faculty/thumb3692.jpg</td>\n",
       "    </tr>\n",
       "    <tr>\n",
       "      <th>6</th>\n",
       "      <td>9348</td>\n",
       "      <td>Dr. Taimoor Khan</td>\n",
       "      <td>Assistant Professor (On Leave)</td>\n",
       "      <td>True</td>\n",
       "      <td>Ph.D. (Computer Science)</td>\n",
       "      <td>taimoor.khan@nu.edu.pk</td>\n",
       "      <td>cs</td>\n",
       "      <td>None</td>\n",
       "      <td>http://pwr.nu.edu.pk/images/faculty/thumb9348.jpg</td>\n",
       "    </tr>\n",
       "    <tr>\n",
       "      <th>7</th>\n",
       "      <td>5436</td>\n",
       "      <td>Dr. Bilal Khan</td>\n",
       "      <td>Assistant Professor</td>\n",
       "      <td>True</td>\n",
       "      <td>PhD (CE)</td>\n",
       "      <td>khan.bilal@nu.edu.pk</td>\n",
       "      <td>cs</td>\n",
       "      <td>None</td>\n",
       "      <td>http://pwr.nu.edu.pk/images/faculty/thumb5436.jpg</td>\n",
       "    </tr>\n",
       "    <tr>\n",
       "      <th>8</th>\n",
       "      <td>4564</td>\n",
       "      <td>Dr. Muhammad Amin</td>\n",
       "      <td>Assistant Professor</td>\n",
       "      <td>False</td>\n",
       "      <td>PhD (Computer Science)</td>\n",
       "      <td>muhammad.amin@nu.edu.pk</td>\n",
       "      <td>cs</td>\n",
       "      <td>127</td>\n",
       "      <td>http://pwr.nu.edu.pk/images/faculty/thumb4564.jpg</td>\n",
       "    </tr>\n",
       "    <tr>\n",
       "      <th>9</th>\n",
       "      <td>4918</td>\n",
       "      <td>Dr. Waqas Ali</td>\n",
       "      <td>Assistant Professor</td>\n",
       "      <td>False</td>\n",
       "      <td>PhD(Computer Science)</td>\n",
       "      <td>waqas.ali@nu.edu.pk</td>\n",
       "      <td>cs</td>\n",
       "      <td>107</td>\n",
       "      <td>http://pwr.nu.edu.pk/images/faculty/thumb4918.jpg</td>\n",
       "    </tr>\n",
       "    <tr>\n",
       "      <th>10</th>\n",
       "      <td>6670</td>\n",
       "      <td>Dr. Ali Sayyed</td>\n",
       "      <td>Assistant Professor</td>\n",
       "      <td>True</td>\n",
       "      <td>PhD (Cont. Aut. and Sys.)</td>\n",
       "      <td>ali.sayyed@nu.edu.pk</td>\n",
       "      <td>cs</td>\n",
       "      <td>161</td>\n",
       "      <td>http://pwr.nu.edu.pk/images/faculty/thumb6670.jpg</td>\n",
       "    </tr>\n",
       "    <tr>\n",
       "      <th>11</th>\n",
       "      <td>6713</td>\n",
       "      <td>Dr. Muhammad Waqar Aziz</td>\n",
       "      <td>Assistant Professor (On Leave)</td>\n",
       "      <td>True</td>\n",
       "      <td>PhD (CS)</td>\n",
       "      <td>waqar.aziz@nu.edu.pk</td>\n",
       "      <td>cs</td>\n",
       "      <td>None</td>\n",
       "      <td>http://pwr.nu.edu.pk/images/faculty/thumb6713.jpg</td>\n",
       "    </tr>\n",
       "    <tr>\n",
       "      <th>12</th>\n",
       "      <td>6821</td>\n",
       "      <td>Dr. Qasim Jan</td>\n",
       "      <td>Assistant Professor</td>\n",
       "      <td>True</td>\n",
       "      <td>PhD (Info. and Comm. Engg.)</td>\n",
       "      <td>qasim.jan@nu.edu.pk</td>\n",
       "      <td>cs</td>\n",
       "      <td>None</td>\n",
       "      <td>http://pwr.nu.edu.pk/images/faculty/thumb6821.jpg</td>\n",
       "    </tr>\n",
       "    <tr>\n",
       "      <th>13</th>\n",
       "      <td>5913</td>\n",
       "      <td>Sara Rehmat</td>\n",
       "      <td>Lecturer</td>\n",
       "      <td>False</td>\n",
       "      <td>MS (CS)</td>\n",
       "      <td>sara.rehmat@nu.edu.pk</td>\n",
       "      <td>cs</td>\n",
       "      <td>147</td>\n",
       "      <td>http://pwr.nu.edu.pk/images/faculty/thumb5913.jpg</td>\n",
       "    </tr>\n",
       "    <tr>\n",
       "      <th>14</th>\n",
       "      <td>5914</td>\n",
       "      <td>Mashal Khan</td>\n",
       "      <td>Lecturer (On Leave)</td>\n",
       "      <td>False</td>\n",
       "      <td>MS Information Security  2020 SEECS NUST Islam...</td>\n",
       "      <td>mashal.khan@nu.edu.pk</td>\n",
       "      <td>cs</td>\n",
       "      <td>None</td>\n",
       "      <td>http://pwr.nu.edu.pk/images/faculty/thumb5914.jpg</td>\n",
       "    </tr>\n",
       "    <tr>\n",
       "      <th>15</th>\n",
       "      <td>6071</td>\n",
       "      <td>Usama Musharaf</td>\n",
       "      <td>Lecturer</td>\n",
       "      <td>False</td>\n",
       "      <td>MS (CS)</td>\n",
       "      <td>usama.musharaf@nu.edu.pk</td>\n",
       "      <td>cs</td>\n",
       "      <td>145</td>\n",
       "      <td>http://pwr.nu.edu.pk/images/faculty/thumb6071.jpg</td>\n",
       "    </tr>\n",
       "    <tr>\n",
       "      <th>16</th>\n",
       "      <td>6523</td>\n",
       "      <td>Shahzeb Khan</td>\n",
       "      <td>Lecturer</td>\n",
       "      <td>False</td>\n",
       "      <td>MS (AI)</td>\n",
       "      <td>shahzeb.khan@nu.edu.pk</td>\n",
       "      <td>cs</td>\n",
       "      <td>None</td>\n",
       "      <td>http://pwr.nu.edu.pk/images/faculty/thumb6523.jpg</td>\n",
       "    </tr>\n",
       "    <tr>\n",
       "      <th>17</th>\n",
       "      <td>6524</td>\n",
       "      <td>Sanaa Jeehan</td>\n",
       "      <td>Lecturer</td>\n",
       "      <td>False</td>\n",
       "      <td>MS (CS)</td>\n",
       "      <td>sanaa.jeehan@nu.edu.pk</td>\n",
       "      <td>cs</td>\n",
       "      <td>None</td>\n",
       "      <td>http://pwr.nu.edu.pk/images/faculty/thumb6524.jpg</td>\n",
       "    </tr>\n",
       "    <tr>\n",
       "      <th>18</th>\n",
       "      <td>6525</td>\n",
       "      <td>Usman Wajid</td>\n",
       "      <td>Lecturer</td>\n",
       "      <td>False</td>\n",
       "      <td>MS (CS)</td>\n",
       "      <td>usman.wajid@nu.edu.pk</td>\n",
       "      <td>cs</td>\n",
       "      <td>None</td>\n",
       "      <td>http://pwr.nu.edu.pk/images/faculty/thumb6525.jpg</td>\n",
       "    </tr>\n",
       "    <tr>\n",
       "      <th>19</th>\n",
       "      <td>6564</td>\n",
       "      <td>Muhammad Umer Haroon</td>\n",
       "      <td>Lecturer</td>\n",
       "      <td>False</td>\n",
       "      <td>MS (SE)</td>\n",
       "      <td>umer.haroon@nu.edu.pk</td>\n",
       "      <td>cs</td>\n",
       "      <td>None</td>\n",
       "      <td>http://pwr.nu.edu.pk/images/faculty/thumb6564.jpg</td>\n",
       "    </tr>\n",
       "    <tr>\n",
       "      <th>20</th>\n",
       "      <td>6705</td>\n",
       "      <td>Haroon Zafar</td>\n",
       "      <td>Lecturer</td>\n",
       "      <td>False</td>\n",
       "      <td>MS (SE)</td>\n",
       "      <td>haroon.zafar@nu.edu.pk</td>\n",
       "      <td>cs</td>\n",
       "      <td>None</td>\n",
       "      <td>http://pwr.nu.edu.pk/images/faculty/thumb6705.jpg</td>\n",
       "    </tr>\n",
       "    <tr>\n",
       "      <th>21</th>\n",
       "      <td>6586</td>\n",
       "      <td>Muhammad Saad Rashad</td>\n",
       "      <td>Instructor</td>\n",
       "      <td>False</td>\n",
       "      <td>BS (SE)</td>\n",
       "      <td>saad.rashad@nu.edu.pk</td>\n",
       "      <td>cs</td>\n",
       "      <td>None</td>\n",
       "      <td>http://pwr.nu.edu.pk/images/faculty/thumb6586.jpg</td>\n",
       "    </tr>\n",
       "    <tr>\n",
       "      <th>22</th>\n",
       "      <td>6657</td>\n",
       "      <td>Muhammad Saood Sarwar</td>\n",
       "      <td>Instructor</td>\n",
       "      <td>False</td>\n",
       "      <td>BS (SE)</td>\n",
       "      <td>saood.sarwar@nu.edu.pk</td>\n",
       "      <td>cs</td>\n",
       "      <td>None</td>\n",
       "      <td>http://pwr.nu.edu.pk/images/faculty/thumb6657.jpg</td>\n",
       "    </tr>\n",
       "    <tr>\n",
       "      <th>23</th>\n",
       "      <td>6841</td>\n",
       "      <td>Iqra Rehman</td>\n",
       "      <td>Instructor</td>\n",
       "      <td>False</td>\n",
       "      <td>BS (SE)</td>\n",
       "      <td>iqra.rehman@nu.edu.pk</td>\n",
       "      <td>cs</td>\n",
       "      <td>None</td>\n",
       "      <td>http://pwr.nu.edu.pk/images/faculty/thumb6841.jpg</td>\n",
       "    </tr>\n",
       "    <tr>\n",
       "      <th>24</th>\n",
       "      <td>6840</td>\n",
       "      <td>Muhammad Saad Khan</td>\n",
       "      <td>Instructor</td>\n",
       "      <td>False</td>\n",
       "      <td>BS (SE)</td>\n",
       "      <td>saad.khan@nu.edu.pk</td>\n",
       "      <td>cs</td>\n",
       "      <td>None</td>\n",
       "      <td>http://pwr.nu.edu.pk/images/faculty/thumb6840.jpg</td>\n",
       "    </tr>\n",
       "    <tr>\n",
       "      <th>25</th>\n",
       "      <td>4457</td>\n",
       "      <td>Dr. Muhammad Usman Abbasi</td>\n",
       "      <td>Assistant Professor &amp; HoD</td>\n",
       "      <td>True</td>\n",
       "      <td>PhD (Electrical Engineering)</td>\n",
       "      <td>usman.abbasi@nu.edu.pk</td>\n",
       "      <td>ee</td>\n",
       "      <td>116</td>\n",
       "      <td>http://pwr.nu.edu.pk/images/faculty/thumb4457.jpg</td>\n",
       "    </tr>\n",
       "    <tr>\n",
       "      <th>26</th>\n",
       "      <td>3953</td>\n",
       "      <td>Muhammad Asif Khan</td>\n",
       "      <td>Assistant Professor</td>\n",
       "      <td>False</td>\n",
       "      <td>M.Sc(Engineering)</td>\n",
       "      <td>m.asif@nu.edu.pk</td>\n",
       "      <td>ee</td>\n",
       "      <td>146</td>\n",
       "      <td>http://pwr.nu.edu.pk/images/faculty/thumb3953.jpg</td>\n",
       "    </tr>\n",
       "    <tr>\n",
       "      <th>27</th>\n",
       "      <td>4501</td>\n",
       "      <td>Rahat Ehsan</td>\n",
       "      <td>Assistant Professor</td>\n",
       "      <td>False</td>\n",
       "      <td>M.Sc(Telecom Engineering)</td>\n",
       "      <td>rahat.ehsan@nu.edu.pk</td>\n",
       "      <td>ee</td>\n",
       "      <td>146</td>\n",
       "      <td>http://pwr.nu.edu.pk/images/faculty/thumb4501.jpg</td>\n",
       "    </tr>\n",
       "    <tr>\n",
       "      <th>28</th>\n",
       "      <td>4815</td>\n",
       "      <td>Dr. Suleman Mir</td>\n",
       "      <td>Assistant Professor</td>\n",
       "      <td>False</td>\n",
       "      <td>PhD(Electrical Engineering)</td>\n",
       "      <td>suleman.mir@nu.edu.pk</td>\n",
       "      <td>ee</td>\n",
       "      <td>138</td>\n",
       "      <td>http://pwr.nu.edu.pk/images/faculty/thumb4815.jpg</td>\n",
       "    </tr>\n",
       "    <tr>\n",
       "      <th>29</th>\n",
       "      <td>4800</td>\n",
       "      <td>Dr. Maqsood Khan</td>\n",
       "      <td>Assistant Professor</td>\n",
       "      <td>False</td>\n",
       "      <td>M.Sc(Electrical Engineering)</td>\n",
       "      <td>maqsood.khan@nu.edu.pk</td>\n",
       "      <td>ee</td>\n",
       "      <td>132</td>\n",
       "      <td>http://pwr.nu.edu.pk/images/faculty/thumb4800.jpg</td>\n",
       "    </tr>\n",
       "    <tr>\n",
       "      <th>30</th>\n",
       "      <td>4567</td>\n",
       "      <td>Waseem Ullah</td>\n",
       "      <td>Lab Engineer</td>\n",
       "      <td>False</td>\n",
       "      <td>B.E(Electrical Engineering)</td>\n",
       "      <td>waseemullah@nu.edu.pk</td>\n",
       "      <td>ee</td>\n",
       "      <td>133</td>\n",
       "      <td>http://pwr.nu.edu.pk/images/faculty/thumb4567.jpg</td>\n",
       "    </tr>\n",
       "    <tr>\n",
       "      <th>31</th>\n",
       "      <td>9178</td>\n",
       "      <td>Kashif Javed</td>\n",
       "      <td>Lab Engineer</td>\n",
       "      <td>False</td>\n",
       "      <td>B.S(Telecom Engineering)</td>\n",
       "      <td>kashif.javed@nu.edu.pk</td>\n",
       "      <td>ee</td>\n",
       "      <td>125</td>\n",
       "      <td>http://pwr.nu.edu.pk/images/faculty/thumb9178.jpg</td>\n",
       "    </tr>\n",
       "    <tr>\n",
       "      <th>32</th>\n",
       "      <td>9362</td>\n",
       "      <td>Anum Rashad</td>\n",
       "      <td>Lab Engineer</td>\n",
       "      <td>False</td>\n",
       "      <td>BS(EE)</td>\n",
       "      <td>anum.rashad@nu.edu.pk</td>\n",
       "      <td>ee</td>\n",
       "      <td>150</td>\n",
       "      <td>http://pwr.nu.edu.pk/images/faculty/thumb9362.jpg</td>\n",
       "    </tr>\n",
       "    <tr>\n",
       "      <th>33</th>\n",
       "      <td>4471</td>\n",
       "      <td>Muneeb Suhail</td>\n",
       "      <td>Lab Engineer</td>\n",
       "      <td>False</td>\n",
       "      <td>B.S(Electrical Engineering)</td>\n",
       "      <td>muneeb.sohail@nu.edu.pk</td>\n",
       "      <td>ee</td>\n",
       "      <td>133</td>\n",
       "      <td>http://pwr.nu.edu.pk/images/faculty/thumb4471.jpg</td>\n",
       "    </tr>\n",
       "  </tbody>\n",
       "</table>\n",
       "</div>"
      ],
      "text/plain": [
       "      Id                       Name                     Designation  \\\n",
       "0   3704               Fazl-e-Basit       Assistant Professor & HoD   \n",
       "1   9237        Dr. Omar Usman Khan           Professor & Director    \n",
       "2   9315       Dr. Hafeez Ur Rehman  Associate Professor (On Leave)   \n",
       "3   9482            Dr. Nouman Azam             Associate Professor   \n",
       "4   6833           Dr. Hafeez Anwar             Associate Professor   \n",
       "5   3692       Shoaib Muhammad Khan             Assistant Professor   \n",
       "6   9348           Dr. Taimoor Khan  Assistant Professor (On Leave)   \n",
       "7   5436             Dr. Bilal Khan             Assistant Professor   \n",
       "8   4564          Dr. Muhammad Amin             Assistant Professor   \n",
       "9   4918              Dr. Waqas Ali             Assistant Professor   \n",
       "10  6670             Dr. Ali Sayyed             Assistant Professor   \n",
       "11  6713    Dr. Muhammad Waqar Aziz  Assistant Professor (On Leave)   \n",
       "12  6821              Dr. Qasim Jan             Assistant Professor   \n",
       "13  5913                Sara Rehmat                        Lecturer   \n",
       "14  5914                Mashal Khan             Lecturer (On Leave)   \n",
       "15  6071             Usama Musharaf                        Lecturer   \n",
       "16  6523               Shahzeb Khan                        Lecturer   \n",
       "17  6524               Sanaa Jeehan                        Lecturer   \n",
       "18  6525                Usman Wajid                        Lecturer   \n",
       "19  6564       Muhammad Umer Haroon                        Lecturer   \n",
       "20  6705               Haroon Zafar                        Lecturer   \n",
       "21  6586       Muhammad Saad Rashad                      Instructor   \n",
       "22  6657      Muhammad Saood Sarwar                      Instructor   \n",
       "23  6841                Iqra Rehman                      Instructor   \n",
       "24  6840         Muhammad Saad Khan                      Instructor   \n",
       "25  4457  Dr. Muhammad Usman Abbasi       Assistant Professor & HoD   \n",
       "26  3953         Muhammad Asif Khan             Assistant Professor   \n",
       "27  4501                Rahat Ehsan             Assistant Professor   \n",
       "28  4815            Dr. Suleman Mir             Assistant Professor   \n",
       "29  4800           Dr. Maqsood Khan             Assistant Professor   \n",
       "30  4567               Waseem Ullah                    Lab Engineer   \n",
       "31  9178               Kashif Javed                    Lab Engineer   \n",
       "32  9362                Anum Rashad                    Lab Engineer   \n",
       "33  4471              Muneeb Suhail                    Lab Engineer   \n",
       "\n",
       "   HEC Approved PhD Supervisor  \\\n",
       "0                        False   \n",
       "1                         True   \n",
       "2                         True   \n",
       "3                         True   \n",
       "4                        False   \n",
       "5                        False   \n",
       "6                         True   \n",
       "7                         True   \n",
       "8                        False   \n",
       "9                        False   \n",
       "10                        True   \n",
       "11                        True   \n",
       "12                        True   \n",
       "13                       False   \n",
       "14                       False   \n",
       "15                       False   \n",
       "16                       False   \n",
       "17                       False   \n",
       "18                       False   \n",
       "19                       False   \n",
       "20                       False   \n",
       "21                       False   \n",
       "22                       False   \n",
       "23                       False   \n",
       "24                       False   \n",
       "25                        True   \n",
       "26                       False   \n",
       "27                       False   \n",
       "28                       False   \n",
       "29                       False   \n",
       "30                       False   \n",
       "31                       False   \n",
       "32                       False   \n",
       "33                       False   \n",
       "\n",
       "                                    Highest Education  \\\n",
       "0                               M.S(Computer Science)   \n",
       "1            Ph.D. (Computer And Control Engineering)   \n",
       "2           Ph.D. in Computer and Control Engineering   \n",
       "3                                          Ph.D. (CS)   \n",
       "4                                   PhD (Informatics)   \n",
       "5                               M.S(Computer Science)   \n",
       "6                            Ph.D. (Computer Science)   \n",
       "7                                            PhD (CE)   \n",
       "8                              PhD (Computer Science)   \n",
       "9                               PhD(Computer Science)   \n",
       "10                          PhD (Cont. Aut. and Sys.)   \n",
       "11                                           PhD (CS)   \n",
       "12                        PhD (Info. and Comm. Engg.)   \n",
       "13                                            MS (CS)   \n",
       "14  MS Information Security  2020 SEECS NUST Islam...   \n",
       "15                                            MS (CS)   \n",
       "16                                            MS (AI)   \n",
       "17                                            MS (CS)   \n",
       "18                                            MS (CS)   \n",
       "19                                            MS (SE)   \n",
       "20                                            MS (SE)   \n",
       "21                                            BS (SE)   \n",
       "22                                            BS (SE)   \n",
       "23                                            BS (SE)   \n",
       "24                                            BS (SE)   \n",
       "25                       PhD (Electrical Engineering)   \n",
       "26                                  M.Sc(Engineering)   \n",
       "27                          M.Sc(Telecom Engineering)   \n",
       "28                        PhD(Electrical Engineering)   \n",
       "29                       M.Sc(Electrical Engineering)   \n",
       "30                        B.E(Electrical Engineering)   \n",
       "31                           B.S(Telecom Engineering)   \n",
       "32                                             BS(EE)   \n",
       "33                        B.S(Electrical Engineering)   \n",
       "\n",
       "                        Email Department Extension  \\\n",
       "0        fazl.basit@nu.edu.pk         cs       110   \n",
       "1         omar.khan@nu.edu.pk         cs       103   \n",
       "2   hafeez.urrehman@nu.edu.pk         cs      None   \n",
       "3       nouman.azam@nu.edu.pk         cs       134   \n",
       "4      hafeez.anwar@nu.edu.pk         cs      None   \n",
       "5       shoaib.khan@nu.edu.pk         cs       144   \n",
       "6      taimoor.khan@nu.edu.pk         cs      None   \n",
       "7        khan.bilal@nu.edu.pk         cs      None   \n",
       "8     muhammad.amin@nu.edu.pk         cs       127   \n",
       "9         waqas.ali@nu.edu.pk         cs       107   \n",
       "10       ali.sayyed@nu.edu.pk         cs       161   \n",
       "11       waqar.aziz@nu.edu.pk         cs      None   \n",
       "12        qasim.jan@nu.edu.pk         cs      None   \n",
       "13      sara.rehmat@nu.edu.pk         cs       147   \n",
       "14      mashal.khan@nu.edu.pk         cs      None   \n",
       "15   usama.musharaf@nu.edu.pk         cs       145   \n",
       "16     shahzeb.khan@nu.edu.pk         cs      None   \n",
       "17     sanaa.jeehan@nu.edu.pk         cs      None   \n",
       "18      usman.wajid@nu.edu.pk         cs      None   \n",
       "19      umer.haroon@nu.edu.pk         cs      None   \n",
       "20     haroon.zafar@nu.edu.pk         cs      None   \n",
       "21      saad.rashad@nu.edu.pk         cs      None   \n",
       "22     saood.sarwar@nu.edu.pk         cs      None   \n",
       "23      iqra.rehman@nu.edu.pk         cs      None   \n",
       "24        saad.khan@nu.edu.pk         cs      None   \n",
       "25     usman.abbasi@nu.edu.pk         ee       116   \n",
       "26           m.asif@nu.edu.pk         ee       146   \n",
       "27      rahat.ehsan@nu.edu.pk         ee       146   \n",
       "28      suleman.mir@nu.edu.pk         ee       138   \n",
       "29     maqsood.khan@nu.edu.pk         ee       132   \n",
       "30      waseemullah@nu.edu.pk         ee       133   \n",
       "31     kashif.javed@nu.edu.pk         ee       125   \n",
       "32      anum.rashad@nu.edu.pk         ee       150   \n",
       "33    muneeb.sohail@nu.edu.pk         ee       133   \n",
       "\n",
       "                                             ImageURL  \n",
       "0   http://pwr.nu.edu.pk/images/faculty/thumb3704.jpg  \n",
       "1   http://pwr.nu.edu.pk/images/faculty/thumb9237.jpg  \n",
       "2   http://pwr.nu.edu.pk/images/faculty/thumb9315.jpg  \n",
       "3   http://pwr.nu.edu.pk/images/faculty/thumb9482.jpg  \n",
       "4   http://pwr.nu.edu.pk/images/faculty/thumb6833.jpg  \n",
       "5   http://pwr.nu.edu.pk/images/faculty/thumb3692.jpg  \n",
       "6   http://pwr.nu.edu.pk/images/faculty/thumb9348.jpg  \n",
       "7   http://pwr.nu.edu.pk/images/faculty/thumb5436.jpg  \n",
       "8   http://pwr.nu.edu.pk/images/faculty/thumb4564.jpg  \n",
       "9   http://pwr.nu.edu.pk/images/faculty/thumb4918.jpg  \n",
       "10  http://pwr.nu.edu.pk/images/faculty/thumb6670.jpg  \n",
       "11  http://pwr.nu.edu.pk/images/faculty/thumb6713.jpg  \n",
       "12  http://pwr.nu.edu.pk/images/faculty/thumb6821.jpg  \n",
       "13  http://pwr.nu.edu.pk/images/faculty/thumb5913.jpg  \n",
       "14  http://pwr.nu.edu.pk/images/faculty/thumb5914.jpg  \n",
       "15  http://pwr.nu.edu.pk/images/faculty/thumb6071.jpg  \n",
       "16  http://pwr.nu.edu.pk/images/faculty/thumb6523.jpg  \n",
       "17  http://pwr.nu.edu.pk/images/faculty/thumb6524.jpg  \n",
       "18  http://pwr.nu.edu.pk/images/faculty/thumb6525.jpg  \n",
       "19  http://pwr.nu.edu.pk/images/faculty/thumb6564.jpg  \n",
       "20  http://pwr.nu.edu.pk/images/faculty/thumb6705.jpg  \n",
       "21  http://pwr.nu.edu.pk/images/faculty/thumb6586.jpg  \n",
       "22  http://pwr.nu.edu.pk/images/faculty/thumb6657.jpg  \n",
       "23  http://pwr.nu.edu.pk/images/faculty/thumb6841.jpg  \n",
       "24  http://pwr.nu.edu.pk/images/faculty/thumb6840.jpg  \n",
       "25  http://pwr.nu.edu.pk/images/faculty/thumb4457.jpg  \n",
       "26  http://pwr.nu.edu.pk/images/faculty/thumb3953.jpg  \n",
       "27  http://pwr.nu.edu.pk/images/faculty/thumb4501.jpg  \n",
       "28  http://pwr.nu.edu.pk/images/faculty/thumb4815.jpg  \n",
       "29  http://pwr.nu.edu.pk/images/faculty/thumb4800.jpg  \n",
       "30  http://pwr.nu.edu.pk/images/faculty/thumb4567.jpg  \n",
       "31  http://pwr.nu.edu.pk/images/faculty/thumb9178.jpg  \n",
       "32  http://pwr.nu.edu.pk/images/faculty/thumb9362.jpg  \n",
       "33  http://pwr.nu.edu.pk/images/faculty/thumb4471.jpg  "
      ]
     },
     "execution_count": 360,
     "metadata": {},
     "output_type": "execute_result"
    }
   ],
   "source": [
    "psw_faculty"
   ]
  },
  {
   "cell_type": "markdown",
   "metadata": {},
   "source": [
    "Electrical Lab Technician"
   ]
  },
  {
   "cell_type": "code",
   "execution_count": 262,
   "metadata": {},
   "outputs": [
    {
     "data": {
      "text/plain": [
       "<Response [200]>"
      ]
     },
     "execution_count": 262,
     "metadata": {},
     "output_type": "execute_result"
    }
   ],
   "source": [
    "psw_ee_lab_href_res = requests.get(psw_ee_lab_faculty_href)\n",
    "psw_ee_lab_href_res"
   ]
  },
  {
   "cell_type": "code",
   "execution_count": 263,
   "metadata": {},
   "outputs": [],
   "source": [
    "psw_ee_lab_soup = BeautifulSoup(psw_ee_lab_href_res.content, 'html.parser')"
   ]
  },
  {
   "cell_type": "code",
   "execution_count": 264,
   "metadata": {},
   "outputs": [],
   "source": [
    "psw_ee_lab_technician_div = psw_ee_lab_soup.find('div', class_='row mtli-row-clearfix')"
   ]
  },
  {
   "cell_type": "code",
   "execution_count": 265,
   "metadata": {},
   "outputs": [],
   "source": [
    "psw_ee_lab_technician_list = psw_ee_lab_technician_div.findAll('div', class_='col-xs-12 col-sm-6 col-md-3 sm-text-center mb-30 mb-sm-30')"
   ]
  },
  {
   "cell_type": "code",
   "execution_count": 361,
   "metadata": {},
   "outputs": [],
   "source": [
    "for member in psw_ee_lab_technician_list:\n",
    "    # name of member    \n",
    "    name = member.find('h4', class_='text-uppercase font-raleway font-weight-600 m-0').text\n",
    "    \n",
    "    # designation, email, extension str\n",
    "    designation = member.findAll(class_='text-theme-color')[0].text\n",
    "    \n",
    "    extension_str = member.findAll(class_='text-theme-color')[-1].text\n",
    "    # Regular expression to find extension number\n",
    "    match = re.search(r'Ext\\.\\s*(\\d+)', extension_str)\n",
    "    # If there's a match, extract the number, else set to None\n",
    "    extension_number = match.group(1) if match else None\n",
    "     \n",
    "    # department name\n",
    "    match = re.search(r'/(\\w+)-faculty', psw_ee_lab_faculty_href)\n",
    "    if match:\n",
    "        department = match.group(1)\n",
    "    \n",
    "    # image\n",
    "    imageURL = psw_URL + member.find('img', class_='img-fullwidth').get('src')\n",
    "    \n",
    "    new_data = {'Id': None,\n",
    "            'Name': name,\n",
    "            'Designation': designation,\n",
    "            'HEC Approved PhD Supervisor': None,\n",
    "            'Highest Education': None,\n",
    "            'Email': None,\n",
    "            'Department': department,\n",
    "            'Extension': extension_number,\n",
    "            'ImageURL': imageURL}\n",
    "    \n",
    "    new_df = pd.DataFrame([new_data])\n",
    "    psw_faculty = pd.concat([psw_faculty, new_df], ignore_index=True)"
   ]
  },
  {
   "cell_type": "markdown",
   "metadata": {},
   "source": [
    "Science and Humanites Department"
   ]
  },
  {
   "cell_type": "code",
   "execution_count": 267,
   "metadata": {},
   "outputs": [
    {
     "data": {
      "text/plain": [
       "<Response [200]>"
      ]
     },
     "execution_count": 267,
     "metadata": {},
     "output_type": "execute_result"
    }
   ],
   "source": [
    "psw_sh_href_res = requests.get(psw_sh_faculty_href)\n",
    "psw_sh_href_res"
   ]
  },
  {
   "cell_type": "code",
   "execution_count": 268,
   "metadata": {},
   "outputs": [],
   "source": [
    "psw_sh_soup = BeautifulSoup(psw_sh_href_res.content, 'html.parser')"
   ]
  },
  {
   "cell_type": "code",
   "execution_count": 269,
   "metadata": {},
   "outputs": [],
   "source": [
    "psw_sh_faculty_list = psw_sh_soup.find_all('div', class_='faculty-member')"
   ]
  },
  {
   "cell_type": "code",
   "execution_count": 362,
   "metadata": {},
   "outputs": [],
   "source": [
    "for member in psw_sh_faculty_list:\n",
    "    # id of member\n",
    "    input_str = member.find('h2').find('a').get('href')\n",
    "    # Regular expression to extract the `id` value\n",
    "    match = re.search(r\"faculty-profile\\.php\\?id=(\\d+)\", input_str)\n",
    "    if match:\n",
    "        # ID value\n",
    "        member_id = match.group(1)\n",
    "        \n",
    "    else:\n",
    "        member_id = None\n",
    "        \n",
    "    # name of member    \n",
    "    name = member.find('h2').text\n",
    "    \n",
    "    # designation, email, extension str\n",
    "    p_list = member.find_all('p')\n",
    "    if len(p_list) == 3:\n",
    "        designation_name, email, extension_str = p_list\n",
    "    \n",
    "    designation = designation_name.text\n",
    "    email = email.text\n",
    "    extension_str = extension_str.text\n",
    "    \n",
    "    # Regular expression to find extension number\n",
    "    match = re.search(r'Ext\\.\\s*(\\d+)', extension_str)\n",
    "    # If there's a match, extract the number, else set to None\n",
    "    extension_number = match.group(1) if match else None\n",
    "    \n",
    "    # hec_approved or not\n",
    "    if name in psw_hec_faculty_list:\n",
    "        hec_approved = True\n",
    "    else:\n",
    "        hec_approved = False   \n",
    "    \n",
    "    # department name\n",
    "    # Use regex to find 'cs' followed by a hyphen and any other characters\n",
    "    match = re.search(r'/(\\w+)-faculty', psw_sh_faculty_href)\n",
    "\n",
    "    if match:\n",
    "        department = match.group(1)\n",
    "    \n",
    "    # image\n",
    "    imageURL  = psw_URL + member.find('img').get('src')\n",
    "    \n",
    "    # getting highest educaton\n",
    "    psw_cs_faculty_profile_res = requests.get(psw_URL + input_str)\n",
    "    psw_cs_soup2 = BeautifulSoup(psw_cs_faculty_profile_res.content, 'html.parser')\n",
    "    edu_str = psw_cs_soup2.find('div', class_='tab-content').find(class_='tab-pane').find('li').text.strip()\n",
    "    \n",
    "    match = re.match(r'^([^,]+)', edu_str)\n",
    "    if match:\n",
    "        highest_education = match.group(1)\n",
    "    else:\n",
    "        highest_education = None\n",
    "    \n",
    "    new_data = {'Id': member_id,\n",
    "            'Name': name,\n",
    "            'Designation': designation,\n",
    "            'HEC Approved PhD Supervisor': hec_approved,\n",
    "            'Highest Education': highest_education,\n",
    "            'Email': email,\n",
    "            'Department': department,\n",
    "            'Extension': extension_number,\n",
    "            'ImageURL': imageURL}\n",
    "    \n",
    "    new_df = pd.DataFrame([new_data])\n",
    "    psw_faculty = pd.concat([psw_faculty, new_df], ignore_index=True)"
   ]
  },
  {
   "cell_type": "code",
   "execution_count": 363,
   "metadata": {},
   "outputs": [],
   "source": [
    "# Changing type of the columns\n",
    "psw_faculty[['Id', 'Extension']] = psw_faculty[['Id', 'Extension']].fillna(0).astype(int)\n",
    "psw_faculty['HEC Approved PhD Supervisor'] = psw_faculty['HEC Approved PhD Supervisor'].astype(bool)\n",
    "psw_faculty[['Name', 'Designation', 'Highest Education', 'Email', 'Department', 'ImageURL']] = psw_faculty[['Name', 'Designation', 'Highest Education', 'Email', 'Department', 'ImageURL']].astype('string')"
   ]
  },
  {
   "cell_type": "code",
   "execution_count": 364,
   "metadata": {},
   "outputs": [
    {
     "data": {
      "text/html": [
       "<div>\n",
       "<style scoped>\n",
       "    .dataframe tbody tr th:only-of-type {\n",
       "        vertical-align: middle;\n",
       "    }\n",
       "\n",
       "    .dataframe tbody tr th {\n",
       "        vertical-align: top;\n",
       "    }\n",
       "\n",
       "    .dataframe thead th {\n",
       "        text-align: right;\n",
       "    }\n",
       "</style>\n",
       "<table border=\"1\" class=\"dataframe\">\n",
       "  <thead>\n",
       "    <tr style=\"text-align: right;\">\n",
       "      <th></th>\n",
       "      <th>Id</th>\n",
       "      <th>Name</th>\n",
       "      <th>Designation</th>\n",
       "      <th>HEC Approved PhD Supervisor</th>\n",
       "      <th>Highest Education</th>\n",
       "      <th>Email</th>\n",
       "      <th>Department</th>\n",
       "      <th>Extension</th>\n",
       "      <th>ImageURL</th>\n",
       "    </tr>\n",
       "  </thead>\n",
       "  <tbody>\n",
       "    <tr>\n",
       "      <th>0</th>\n",
       "      <td>3704</td>\n",
       "      <td>Fazl-e-Basit</td>\n",
       "      <td>Assistant Professor &amp; HoD</td>\n",
       "      <td>False</td>\n",
       "      <td>M.S(Computer Science)</td>\n",
       "      <td>fazl.basit@nu.edu.pk</td>\n",
       "      <td>cs</td>\n",
       "      <td>110</td>\n",
       "      <td>http://pwr.nu.edu.pk/images/faculty/thumb3704.jpg</td>\n",
       "    </tr>\n",
       "    <tr>\n",
       "      <th>1</th>\n",
       "      <td>9237</td>\n",
       "      <td>Dr. Omar Usman Khan</td>\n",
       "      <td>Professor &amp; Director</td>\n",
       "      <td>True</td>\n",
       "      <td>Ph.D. (Computer And Control Engineering)</td>\n",
       "      <td>omar.khan@nu.edu.pk</td>\n",
       "      <td>cs</td>\n",
       "      <td>103</td>\n",
       "      <td>http://pwr.nu.edu.pk/images/faculty/thumb9237.jpg</td>\n",
       "    </tr>\n",
       "    <tr>\n",
       "      <th>2</th>\n",
       "      <td>9315</td>\n",
       "      <td>Dr. Hafeez Ur Rehman</td>\n",
       "      <td>Associate Professor (On Leave)</td>\n",
       "      <td>True</td>\n",
       "      <td>Ph.D. in Computer and Control Engineering</td>\n",
       "      <td>hafeez.urrehman@nu.edu.pk</td>\n",
       "      <td>cs</td>\n",
       "      <td>0</td>\n",
       "      <td>http://pwr.nu.edu.pk/images/faculty/thumb9315.jpg</td>\n",
       "    </tr>\n",
       "    <tr>\n",
       "      <th>3</th>\n",
       "      <td>9482</td>\n",
       "      <td>Dr. Nouman Azam</td>\n",
       "      <td>Associate Professor</td>\n",
       "      <td>True</td>\n",
       "      <td>Ph.D. (CS)</td>\n",
       "      <td>nouman.azam@nu.edu.pk</td>\n",
       "      <td>cs</td>\n",
       "      <td>134</td>\n",
       "      <td>http://pwr.nu.edu.pk/images/faculty/thumb9482.jpg</td>\n",
       "    </tr>\n",
       "    <tr>\n",
       "      <th>4</th>\n",
       "      <td>6833</td>\n",
       "      <td>Dr. Hafeez Anwar</td>\n",
       "      <td>Associate Professor</td>\n",
       "      <td>False</td>\n",
       "      <td>PhD (Informatics)</td>\n",
       "      <td>hafeez.anwar@nu.edu.pk</td>\n",
       "      <td>cs</td>\n",
       "      <td>0</td>\n",
       "      <td>http://pwr.nu.edu.pk/images/faculty/thumb6833.jpg</td>\n",
       "    </tr>\n",
       "  </tbody>\n",
       "</table>\n",
       "</div>"
      ],
      "text/plain": [
       "     Id                  Name                     Designation  \\\n",
       "0  3704          Fazl-e-Basit       Assistant Professor & HoD   \n",
       "1  9237   Dr. Omar Usman Khan           Professor & Director    \n",
       "2  9315  Dr. Hafeez Ur Rehman  Associate Professor (On Leave)   \n",
       "3  9482       Dr. Nouman Azam             Associate Professor   \n",
       "4  6833      Dr. Hafeez Anwar             Associate Professor   \n",
       "\n",
       "   HEC Approved PhD Supervisor                          Highest Education  \\\n",
       "0                        False                      M.S(Computer Science)   \n",
       "1                         True   Ph.D. (Computer And Control Engineering)   \n",
       "2                         True  Ph.D. in Computer and Control Engineering   \n",
       "3                         True                                 Ph.D. (CS)   \n",
       "4                        False                          PhD (Informatics)   \n",
       "\n",
       "                       Email Department  Extension  \\\n",
       "0       fazl.basit@nu.edu.pk         cs        110   \n",
       "1        omar.khan@nu.edu.pk         cs        103   \n",
       "2  hafeez.urrehman@nu.edu.pk         cs          0   \n",
       "3      nouman.azam@nu.edu.pk         cs        134   \n",
       "4     hafeez.anwar@nu.edu.pk         cs          0   \n",
       "\n",
       "                                            ImageURL  \n",
       "0  http://pwr.nu.edu.pk/images/faculty/thumb3704.jpg  \n",
       "1  http://pwr.nu.edu.pk/images/faculty/thumb9237.jpg  \n",
       "2  http://pwr.nu.edu.pk/images/faculty/thumb9315.jpg  \n",
       "3  http://pwr.nu.edu.pk/images/faculty/thumb9482.jpg  \n",
       "4  http://pwr.nu.edu.pk/images/faculty/thumb6833.jpg  "
      ]
     },
     "execution_count": 364,
     "metadata": {},
     "output_type": "execute_result"
    }
   ],
   "source": [
    "psw_faculty.head(5)"
   ]
  },
  {
   "cell_type": "code",
   "execution_count": 365,
   "metadata": {},
   "outputs": [
    {
     "name": "stdout",
     "output_type": "stream",
     "text": [
      "<class 'pandas.core.frame.DataFrame'>\n",
      "RangeIndex: 45 entries, 0 to 44\n",
      "Data columns (total 9 columns):\n",
      " #   Column                       Non-Null Count  Dtype \n",
      "---  ------                       --------------  ----- \n",
      " 0   Id                           45 non-null     int32 \n",
      " 1   Name                         45 non-null     string\n",
      " 2   Designation                  45 non-null     string\n",
      " 3   HEC Approved PhD Supervisor  45 non-null     bool  \n",
      " 4   Highest Education            41 non-null     string\n",
      " 5   Email                        41 non-null     string\n",
      " 6   Department                   45 non-null     string\n",
      " 7   Extension                    45 non-null     int32 \n",
      " 8   ImageURL                     45 non-null     string\n",
      "dtypes: bool(1), int32(2), string(6)\n",
      "memory usage: 2.6 KB\n"
     ]
    }
   ],
   "source": [
    "psw_faculty.info()"
   ]
  },
  {
   "cell_type": "markdown",
   "metadata": {},
   "source": [
    "Converting into CSV file"
   ]
  },
  {
   "cell_type": "code",
   "execution_count": 222,
   "metadata": {},
   "outputs": [],
   "source": [
    "psw_faculty.to_csv('psw.csv')"
   ]
  },
  {
   "cell_type": "markdown",
   "metadata": {},
   "source": [
    "# Scraping Fast, Karachi website to get Faculty Information"
   ]
  },
  {
   "cell_type": "code",
   "execution_count": 278,
   "metadata": {},
   "outputs": [],
   "source": [
    "# URLs for each department\n",
    "khi_cs_faculty_href =  \"https://khi.nu.edu.pk/faculty-php/\"\n",
    "khi_cyber_faculty_href = \"https://khi.nu.edu.pk/department-of-cyber-security/\"\n",
    "khi_ai_faculty_href = \"https://khi.nu.edu.pk/department-of-artificial-intelligence/\"\n",
    "khi_se_faculty_href = \"https://khi.nu.edu.pk/department-of-software-engineering/\"\n",
    "khi_ee_faculty_href = \"https://khi.nu.edu.pk/department-of-electrical-engineering/\"\n",
    "khi_mgs_faculty_href = \"https://khi.nu.edu.pk/department-of-management-sciences/\"\n",
    "khi_sh_faculty_href = \"https://khi.nu.edu.pk/department-of-sciences-humanities/\""
   ]
  },
  {
   "cell_type": "code",
   "execution_count": 279,
   "metadata": {},
   "outputs": [],
   "source": [
    "# Datafrme to store kharachi faculty data\n",
    "khi_faculty = pd.DataFrame(columns=['Id', 'Name', 'Designation', 'HEC Approved PhD Supervisor', 'Highest Education', 'Email', 'Department', 'Extension', 'ImageURL'])"
   ]
  },
  {
   "cell_type": "markdown",
   "metadata": {},
   "source": [
    "Department of Computer Science Faculty"
   ]
  },
  {
   "cell_type": "code",
   "execution_count": 280,
   "metadata": {},
   "outputs": [
    {
     "data": {
      "text/plain": [
       "<Response [200]>"
      ]
     },
     "execution_count": 280,
     "metadata": {},
     "output_type": "execute_result"
    }
   ],
   "source": [
    "# define header to mimic a chrome browser\n",
    "headers = {\n",
    "    'User-Agent': 'Chrome/92.0.4515.159 Safari/537.36'\n",
    "}\n",
    "khi_cs_faculty_href_res = requests.get(khi_cs_faculty_href, headers=headers)\n",
    "khi_cs_faculty_href_res"
   ]
  },
  {
   "cell_type": "code",
   "execution_count": 281,
   "metadata": {},
   "outputs": [],
   "source": [
    "khi_cs_soup = BeautifulSoup(khi_cs_faculty_href_res.content, 'html.parser')"
   ]
  },
  {
   "cell_type": "code",
   "execution_count": 282,
   "metadata": {},
   "outputs": [],
   "source": [
    "khi_cs_faculty_sections = khi_cs_soup.find_all('div', class_='gdlr-core-personnel-list-column')"
   ]
  },
  {
   "cell_type": "code",
   "execution_count": 283,
   "metadata": {},
   "outputs": [],
   "source": [
    "for member in khi_cs_faculty_sections:\n",
    "    # Extracting the faculty details\n",
    "    name = member.find('h3', class_='gdlr-core-personnel-list-title').get_text(strip=True)\n",
    "    designation = member.find('div', class_='gdlr-core-personnel-list-position').get_text(strip=True)\n",
    "    email = member.find('div', class_='kingster-type-email').get_text(strip=True)\n",
    "    extension_number = member.find('div', class_='kingster-type-phone').get_text(strip=True) if member.find('div', class_='kingster-type-phone') else None\n",
    "    imageURL = member.find('img')['src']\n",
    "    faculty_url = member.find('a')['href']\n",
    "    \n",
    "    # Finding department\n",
    "    department = khi_cs_soup.find('h1', class_='kingster-page-title').text\n",
    "    \n",
    "    # Check for PhD Supervisor from faculty details (assuming further detail page can have this info)\n",
    "    hec_approved = 'HEC Approved PhD Supervisor' in requests.get(faculty_url).text\n",
    "\n",
    "    # Visit individual faculty profile to get highest education\n",
    "    response3 = requests.get(faculty_url)\n",
    "    soup3 = BeautifulSoup(response3.content, \"html.parser\")\n",
    "    educationMainDiv = soup3.find('div', class_='gdlr-core-pbf-wrapper-container')\\\n",
    "        .find('div', class_='gdlr-core-column-40')\\\n",
    "        .find('div', class_='gdlr-core-pbf-column-content')\\\n",
    "        .findAll('div', class_='gdlr-core-pbf-element')\n",
    "\n",
    "    highest_education = None\n",
    "\n",
    "    # Iterate through the education all possible elements\n",
    "    for k in range(0, len(educationMainDiv), 1):\n",
    "        highestEduMain = educationMainDiv[k].find('div', class_='gdlr-core-item-pdlr')\n",
    "        if highestEduMain is not None:\n",
    "            highest_education = highestEduMain.find('ul')\n",
    "            if highest_education is not None:\n",
    "                highest_education = highest_education.find('li')\n",
    "                if highest_education is not None:\n",
    "                    highest_education = highest_education.find('div', class_='gdlr-core-icon-list-content-wrap')\n",
    "                    if highest_education is not None:\n",
    "                        # Extract the highest education text\n",
    "                        highest_education = highest_education.find('span').text.strip()\n",
    "                        break\n",
    "                    else:\n",
    "                        highest_education = highestEduMain.find('span', class_='gdlr-core-title-item-caption')\n",
    "            \n",
    "            # Check if education is available\n",
    "            educationAvailable = highestEduMain.find('h3', class_='gdlr-core-title-item-title gdlr-core-skin-title')\n",
    "            if educationAvailable:\n",
    "                educationAvailable = educationAvailable.text.strip()\n",
    "\n",
    "            # Exit loop if highest education is found and available\n",
    "            if highest_education is not None and k > 1 and educationAvailable is not None:\n",
    "                highest_education = highest_education.strip()\n",
    "                break\n",
    "            else:\n",
    "                highest_education = None\n",
    "                continue\n",
    "    \n",
    "    new_data = {'Id': None,\n",
    "            'Name': name,\n",
    "            'Designation': designation,\n",
    "            'HEC Approved PhD Supervisor': hec_approved,\n",
    "            'Highest Education': highest_education,\n",
    "            'Email': email,\n",
    "            'Department': department,\n",
    "            'Extension': extension_number,\n",
    "            'ImageURL': imageURL}\n",
    "    \n",
    "    new_df = pd.DataFrame([new_data])\n",
    "    khi_faculty = pd.concat([khi_faculty, new_df], ignore_index=True)"
   ]
  },
  {
   "cell_type": "markdown",
   "metadata": {},
   "source": [
    "Department of Cyber Security Faculty"
   ]
  },
  {
   "cell_type": "code",
   "execution_count": 284,
   "metadata": {},
   "outputs": [
    {
     "data": {
      "text/plain": [
       "<Response [200]>"
      ]
     },
     "execution_count": 284,
     "metadata": {},
     "output_type": "execute_result"
    }
   ],
   "source": [
    "# define header to mimic a chrome browser\n",
    "headers = {\n",
    "    'User-Agent': 'Chrome/92.0.4515.159 Safari/537.36'\n",
    "}\n",
    "khi_cyber_faculty_href_res = requests.get(khi_cyber_faculty_href, headers=headers)\n",
    "khi_cyber_faculty_href_res"
   ]
  },
  {
   "cell_type": "code",
   "execution_count": 285,
   "metadata": {},
   "outputs": [],
   "source": [
    "khi_cyber_soup = BeautifulSoup(khi_cyber_faculty_href_res.content, 'html.parser')"
   ]
  },
  {
   "cell_type": "code",
   "execution_count": 286,
   "metadata": {},
   "outputs": [],
   "source": [
    "khi_cyber_faculty_sections = khi_cyber_soup.find_all('div', class_='gdlr-core-personnel-list-column')"
   ]
  },
  {
   "cell_type": "code",
   "execution_count": 287,
   "metadata": {},
   "outputs": [],
   "source": [
    "for member in khi_cyber_faculty_sections:\n",
    "    # Extracting the faculty details\n",
    "    name = member.find('h3', class_='gdlr-core-personnel-list-title').get_text(strip=True)\n",
    "    designation = member.find('div', class_='gdlr-core-personnel-list-position').get_text(strip=True)\n",
    "    email = member.find('div', class_='kingster-type-email').get_text(strip=True)\n",
    "    extension_number = member.find('div', class_='kingster-type-phone').get_text(strip=True) if member.find('div', class_='kingster-type-phone') else None\n",
    "    imageURL = member.find('img')['src']\n",
    "    faculty_url = member.find('a')['href']\n",
    "    \n",
    "    # Finding department\n",
    "    department = khi_cyber_soup.find('h1', class_='kingster-page-title').text\n",
    "    \n",
    "    # Check for PhD Supervisor from faculty details (assuming further detail page can have this info)\n",
    "    hec_approved = 'HEC Approved PhD Supervisor' in requests.get(faculty_url).text\n",
    "\n",
    "    # Visit individual faculty profile to get highest education\n",
    "    response3 = requests.get(faculty_url)\n",
    "    soup3 = BeautifulSoup(response3.content, \"html.parser\")\n",
    "    educationMainDiv = soup3.find('div', class_='gdlr-core-pbf-wrapper-container')\\\n",
    "        .find('div', class_='gdlr-core-column-40')\\\n",
    "        .find('div', class_='gdlr-core-pbf-column-content')\\\n",
    "        .findAll('div', class_='gdlr-core-pbf-element')\n",
    "\n",
    "    highest_education = None\n",
    "\n",
    "    # Iterate through the education all possible elements\n",
    "    for k in range(0, len(educationMainDiv), 1):\n",
    "        highestEduMain = educationMainDiv[k].find('div', class_='gdlr-core-item-pdlr')\n",
    "        if highestEduMain is not None:\n",
    "            highest_education = highestEduMain.find('ul')\n",
    "            if highest_education is not None:\n",
    "                highest_education = highest_education.find('li')\n",
    "                if highest_education is not None:\n",
    "                    highest_education = highest_education.find('div', class_='gdlr-core-icon-list-content-wrap')\n",
    "                    if highest_education is not None:\n",
    "                        # Extract the highest education text\n",
    "                        highest_education = highest_education.find('span').text.strip()\n",
    "                        break\n",
    "                    else:\n",
    "                        highest_education = highestEduMain.find('span', class_='gdlr-core-title-item-caption')\n",
    "            \n",
    "            # Check if education is available\n",
    "            educationAvailable = highestEduMain.find('h3', class_='gdlr-core-title-item-title gdlr-core-skin-title')\n",
    "            if educationAvailable:\n",
    "                educationAvailable = educationAvailable.text.strip()\n",
    "\n",
    "            # Exit loop if highest education is found and available\n",
    "            if highest_education is not None and k > 1 and educationAvailable is not None:\n",
    "                highest_education = highest_education.strip()\n",
    "                break\n",
    "            else:\n",
    "                highest_education = None\n",
    "                continue\n",
    "    \n",
    "    new_data = {'Id': None,\n",
    "            'Name': name,\n",
    "            'Designation': designation,\n",
    "            'HEC Approved PhD Supervisor': hec_approved,\n",
    "            'Highest Education': highest_education,\n",
    "            'Email': email,\n",
    "            'Department': department,\n",
    "            'Extension': extension_number,\n",
    "            'ImageURL': imageURL}\n",
    "    \n",
    "    new_df = pd.DataFrame([new_data])\n",
    "    khi_faculty = pd.concat([khi_faculty, new_df], ignore_index=True)"
   ]
  },
  {
   "cell_type": "markdown",
   "metadata": {},
   "source": [
    "Department of AI Faculty"
   ]
  },
  {
   "cell_type": "code",
   "execution_count": 288,
   "metadata": {},
   "outputs": [
    {
     "data": {
      "text/plain": [
       "<Response [200]>"
      ]
     },
     "execution_count": 288,
     "metadata": {},
     "output_type": "execute_result"
    }
   ],
   "source": [
    "headers = {\n",
    "    'User-Agent': 'Chrome/92.0.4515.159 Safari/537.36'\n",
    "}\n",
    "khi_ai_faculty_href_res = requests.get(khi_ai_faculty_href, headers=headers)\n",
    "khi_ai_faculty_href_res"
   ]
  },
  {
   "cell_type": "code",
   "execution_count": 289,
   "metadata": {},
   "outputs": [],
   "source": [
    "khi_ai_soup = BeautifulSoup(khi_ai_faculty_href_res.content, 'html.parser')"
   ]
  },
  {
   "cell_type": "code",
   "execution_count": 290,
   "metadata": {},
   "outputs": [],
   "source": [
    "khi_ai_faculty_sections = khi_ai_soup.find_all('div', class_='gdlr-core-personnel-list-column')"
   ]
  },
  {
   "cell_type": "code",
   "execution_count": 291,
   "metadata": {},
   "outputs": [],
   "source": [
    "for member in khi_ai_faculty_sections:\n",
    "    # Extracting the faculty details\n",
    "    name = member.find('h3', class_='gdlr-core-personnel-list-title').get_text(strip=True)\n",
    "    designation = member.find('div', class_='gdlr-core-personnel-list-position').get_text(strip=True)\n",
    "    email = member.find('div', class_='kingster-type-email').get_text(strip=True)\n",
    "    extension_number = member.find('div', class_='kingster-type-phone').get_text(strip=True) if member.find('div', class_='kingster-type-phone') else None\n",
    "    imageURL = member.find('img')['src']\n",
    "    faculty_url = member.find('a')['href']\n",
    "    \n",
    "    # Finding department\n",
    "    department = khi_ai_soup.find('h1', class_='kingster-page-title').text\n",
    "    \n",
    "    # Check for PhD Supervisor from faculty details (assuming further detail page can have this info)\n",
    "    hec_approved = 'HEC Approved PhD Supervisor' in requests.get(faculty_url).text\n",
    "\n",
    "    # Visit individual faculty profile to get highest education\n",
    "    response3 = requests.get(faculty_url)\n",
    "    soup3 = BeautifulSoup(response3.content, \"html.parser\")\n",
    "    educationMainDiv = soup3.find('div', class_='gdlr-core-pbf-wrapper-container')\\\n",
    "        .find('div', class_='gdlr-core-column-40')\\\n",
    "        .find('div', class_='gdlr-core-pbf-column-content')\\\n",
    "        .findAll('div', class_='gdlr-core-pbf-element')\n",
    "\n",
    "    highest_education = None\n",
    "\n",
    "    # Iterate through the education all possible elements\n",
    "    for k in range(0, len(educationMainDiv), 1):\n",
    "        highestEduMain = educationMainDiv[k].find('div', class_='gdlr-core-item-pdlr')\n",
    "        if highestEduMain is not None:\n",
    "            highest_education = highestEduMain.find('ul')\n",
    "            if highest_education is not None:\n",
    "                highest_education = highest_education.find('li')\n",
    "                if highest_education is not None:\n",
    "                    highest_education = highest_education.find('div', class_='gdlr-core-icon-list-content-wrap')\n",
    "                    if highest_education is not None:\n",
    "                        # Extract the highest education text\n",
    "                        highest_education = highest_education.find('span').text.strip()\n",
    "                        break\n",
    "                    else:\n",
    "                        highest_education = highestEduMain.find('span', class_='gdlr-core-title-item-caption')\n",
    "            \n",
    "            # Check if education is available\n",
    "            educationAvailable = highestEduMain.find('h3', class_='gdlr-core-title-item-title gdlr-core-skin-title')\n",
    "            if educationAvailable:\n",
    "                educationAvailable = educationAvailable.text.strip()\n",
    "\n",
    "            # Exit loop if highest education is found and available\n",
    "            if highest_education is not None and k > 1 and educationAvailable is not None:\n",
    "                highest_education = highest_education.strip()\n",
    "                break\n",
    "            else:\n",
    "                highest_education = None\n",
    "                continue\n",
    "    \n",
    "    new_data = {'Id': None,\n",
    "            'Name': name,\n",
    "            'Designation': designation,\n",
    "            'HEC Approved PhD Supervisor': hec_approved,\n",
    "            'Highest Education': highest_education,\n",
    "            'Email': email,\n",
    "            'Department': department,\n",
    "            'Extension': extension_number,\n",
    "            'ImageURL': imageURL}\n",
    "    \n",
    "    new_df = pd.DataFrame([new_data])\n",
    "    khi_faculty = pd.concat([khi_faculty, new_df], ignore_index=True)"
   ]
  },
  {
   "cell_type": "markdown",
   "metadata": {},
   "source": [
    "Department of SE Faculty"
   ]
  },
  {
   "cell_type": "code",
   "execution_count": 292,
   "metadata": {},
   "outputs": [
    {
     "data": {
      "text/plain": [
       "<Response [200]>"
      ]
     },
     "execution_count": 292,
     "metadata": {},
     "output_type": "execute_result"
    }
   ],
   "source": [
    "headers = {\n",
    "    'User-Agent': 'Chrome/92.0.4515.159 Safari/537.36'\n",
    "}\n",
    "khi_se_faculty_href_res = requests.get(khi_se_faculty_href, headers=headers)\n",
    "khi_se_faculty_href_res"
   ]
  },
  {
   "cell_type": "code",
   "execution_count": 293,
   "metadata": {},
   "outputs": [],
   "source": [
    "khi_se_soup = BeautifulSoup(khi_se_faculty_href_res.content, 'html.parser')"
   ]
  },
  {
   "cell_type": "code",
   "execution_count": 294,
   "metadata": {},
   "outputs": [],
   "source": [
    "khi_se_faculty_sections = khi_se_soup.find_all('div', class_='gdlr-core-personnel-list-column')"
   ]
  },
  {
   "cell_type": "code",
   "execution_count": 295,
   "metadata": {},
   "outputs": [],
   "source": [
    "for member in khi_se_faculty_sections:\n",
    "    # Extracting the faculty details\n",
    "    name = member.find('h3', class_='gdlr-core-personnel-list-title').get_text(strip=True)\n",
    "    designation = member.find('div', class_='gdlr-core-personnel-list-position').get_text(strip=True)\n",
    "    email = member.find('div', class_='kingster-type-email').get_text(strip=True)\n",
    "    extension_number = member.find('div', class_='kingster-type-phone').get_text(strip=True) if member.find('div', class_='kingster-type-phone') else None\n",
    "    imageURL = member.find('img')['src']\n",
    "    faculty_url = member.find('a')['href']\n",
    "    \n",
    "    # Finding department\n",
    "    department = khi_se_soup.find('h1', class_='kingster-page-title').text\n",
    "    \n",
    "    # Check for PhD Supervisor from faculty details (assuming further detail page can have this info)\n",
    "    hec_approved = 'HEC Approved PhD Supervisor' in requests.get(faculty_url).text\n",
    "\n",
    "    # Visit individual faculty profile to get highest education\n",
    "    response3 = requests.get(faculty_url)\n",
    "    soup3 = BeautifulSoup(response3.content, \"html.parser\")\n",
    "    educationMainDiv = soup3.find('div', class_='gdlr-core-pbf-wrapper-container')\\\n",
    "        .find('div', class_='gdlr-core-column-40')\\\n",
    "        .find('div', class_='gdlr-core-pbf-column-content')\\\n",
    "        .findAll('div', class_='gdlr-core-pbf-element')\n",
    "\n",
    "    highest_education = None\n",
    "\n",
    "    # Iterate through the education all possible elements\n",
    "    for k in range(0, len(educationMainDiv), 1):\n",
    "        highestEduMain = educationMainDiv[k].find('div', class_='gdlr-core-item-pdlr')\n",
    "        if highestEduMain is not None:\n",
    "            highest_education = highestEduMain.find('ul')\n",
    "            if highest_education is not None:\n",
    "                highest_education = highest_education.find('li')\n",
    "                if highest_education is not None:\n",
    "                    highest_education = highest_education.find('div', class_='gdlr-core-icon-list-content-wrap')\n",
    "                    if highest_education is not None:\n",
    "                        # Extract the highest education text\n",
    "                        highest_education = highest_education.find('span').text.strip()\n",
    "                        break\n",
    "                    else:\n",
    "                        highest_education = highestEduMain.find('span', class_='gdlr-core-title-item-caption')\n",
    "            \n",
    "            # Check if education is available\n",
    "            educationAvailable = highestEduMain.find('h3', class_='gdlr-core-title-item-title gdlr-core-skin-title')\n",
    "            if educationAvailable:\n",
    "                educationAvailable = educationAvailable.text.strip()\n",
    "\n",
    "            # Exit loop if highest education is found and available\n",
    "            if highest_education is not None and k > 1 and educationAvailable is not None:\n",
    "                highest_education = highest_education.strip()\n",
    "                break\n",
    "            else:\n",
    "                highest_education = None\n",
    "                continue\n",
    "    \n",
    "    new_data = {'Id': None,\n",
    "            'Name': name,\n",
    "            'Designation': designation,\n",
    "            'HEC Approved PhD Supervisor': hec_approved,\n",
    "            'Highest Education': highest_education,\n",
    "            'Email': email,\n",
    "            'Department': department,\n",
    "            'Extension': extension_number,\n",
    "            'ImageURL': imageURL}\n",
    "    \n",
    "    new_df = pd.DataFrame([new_data])\n",
    "    khi_faculty = pd.concat([khi_faculty, new_df], ignore_index=True)"
   ]
  },
  {
   "cell_type": "markdown",
   "metadata": {},
   "source": [
    "Department of EE Faculty"
   ]
  },
  {
   "cell_type": "code",
   "execution_count": 296,
   "metadata": {},
   "outputs": [
    {
     "data": {
      "text/plain": [
       "<Response [200]>"
      ]
     },
     "execution_count": 296,
     "metadata": {},
     "output_type": "execute_result"
    }
   ],
   "source": [
    "headers = {\n",
    "    'User-Agent': 'Chrome/92.0.4515.159 Safari/537.36'\n",
    "}\n",
    "khi_ee_faculty_href_res = requests.get(khi_ee_faculty_href, headers=headers)\n",
    "khi_ee_faculty_href_res"
   ]
  },
  {
   "cell_type": "code",
   "execution_count": 297,
   "metadata": {},
   "outputs": [],
   "source": [
    "khi_ee_soup = BeautifulSoup(khi_ee_faculty_href_res.content, 'html.parser')"
   ]
  },
  {
   "cell_type": "code",
   "execution_count": 298,
   "metadata": {},
   "outputs": [],
   "source": [
    "khi_ee_faculty_sections = khi_ee_soup.find_all('div', class_='gdlr-core-personnel-list-column')"
   ]
  },
  {
   "cell_type": "code",
   "execution_count": 299,
   "metadata": {},
   "outputs": [],
   "source": [
    "for member in khi_ee_faculty_sections:\n",
    "    # Extracting the faculty details\n",
    "    name = member.find('h3', class_='gdlr-core-personnel-list-title').get_text(strip=True)\n",
    "    designation = member.find('div', class_='gdlr-core-personnel-list-position').get_text(strip=True)\n",
    "    email = member.find('div', class_='kingster-type-email').get_text(strip=True)\n",
    "    extension_number = member.find('div', class_='kingster-type-phone').get_text(strip=True) if member.find('div', class_='kingster-type-phone') else None\n",
    "    imageURL = member.find('img')['src']\n",
    "    faculty_url = member.find('a')['href']\n",
    "    \n",
    "    # Finding department\n",
    "    department = khi_ee_soup.find('h1', class_='kingster-page-title').text\n",
    "    \n",
    "    # Check for PhD Supervisor from faculty details (assuming further detail page can have this info)\n",
    "    hec_approved = 'HEC Approved PhD Supervisor' in requests.get(faculty_url).text\n",
    "\n",
    "    # Visit individual faculty profile to get highest education\n",
    "    response3 = requests.get(faculty_url)\n",
    "    soup3 = BeautifulSoup(response3.content, \"html.parser\")\n",
    "    educationMainDiv = soup3.find('div', class_='gdlr-core-pbf-wrapper-container')\\\n",
    "        .find('div', class_='gdlr-core-column-40')\\\n",
    "        .find('div', class_='gdlr-core-pbf-column-content')\\\n",
    "        .findAll('div', class_='gdlr-core-pbf-element')\n",
    "\n",
    "    highest_education = None\n",
    "\n",
    "    # Iterate through the education all possible elements\n",
    "    for k in range(0, len(educationMainDiv), 1):\n",
    "        highestEduMain = educationMainDiv[k].find('div', class_='gdlr-core-item-pdlr')\n",
    "        if highestEduMain is not None:\n",
    "            highest_education = highestEduMain.find('ul')\n",
    "            if highest_education is not None:\n",
    "                highest_education = highest_education.find('li')\n",
    "                if highest_education is not None:\n",
    "                    highest_education = highest_education.find('div', class_='gdlr-core-icon-list-content-wrap')\n",
    "                    if highest_education is not None:\n",
    "                        # Extract the highest education text\n",
    "                        highest_education = highest_education.find('span').text.strip()\n",
    "                        break\n",
    "                    else:\n",
    "                        highest_education = highestEduMain.find('span', class_='gdlr-core-title-item-caption')\n",
    "            \n",
    "            # Check if education is available\n",
    "            educationAvailable = highestEduMain.find('h3', class_='gdlr-core-title-item-title gdlr-core-skin-title')\n",
    "            if educationAvailable:\n",
    "                educationAvailable = educationAvailable.text.strip()\n",
    "\n",
    "            # Exit loop if highest education is found and available\n",
    "            if highest_education is not None and k > 1 and educationAvailable is not None:\n",
    "                highest_education = highest_education.strip()\n",
    "                break\n",
    "            else:\n",
    "                highest_education = None\n",
    "                continue\n",
    "    \n",
    "    new_data = {'Id': None,\n",
    "            'Name': name,\n",
    "            'Designation': designation,\n",
    "            'HEC Approved PhD Supervisor': hec_approved,\n",
    "            'Highest Education': highest_education,\n",
    "            'Email': email,\n",
    "            'Department': department,\n",
    "            'Extension': extension_number,\n",
    "            'ImageURL': imageURL}\n",
    "    \n",
    "    new_df = pd.DataFrame([new_data])\n",
    "    khi_faculty = pd.concat([khi_faculty, new_df], ignore_index=True)"
   ]
  },
  {
   "cell_type": "markdown",
   "metadata": {},
   "source": [
    "Department of Managemnet Science Faculty"
   ]
  },
  {
   "cell_type": "code",
   "execution_count": 300,
   "metadata": {},
   "outputs": [
    {
     "data": {
      "text/plain": [
       "<Response [200]>"
      ]
     },
     "execution_count": 300,
     "metadata": {},
     "output_type": "execute_result"
    }
   ],
   "source": [
    "headers = {\n",
    "    'User-Agent': 'Chrome/92.0.4515.159 Safari/537.36'\n",
    "}\n",
    "khi_mgs_faculty_href_res = requests.get(khi_mgs_faculty_href, headers=headers)\n",
    "khi_mgs_faculty_href_res"
   ]
  },
  {
   "cell_type": "code",
   "execution_count": 301,
   "metadata": {},
   "outputs": [],
   "source": [
    "khi_mgs_soup = BeautifulSoup(khi_mgs_faculty_href_res.content, 'html.parser')"
   ]
  },
  {
   "cell_type": "code",
   "execution_count": 302,
   "metadata": {},
   "outputs": [],
   "source": [
    "khi_mgs_faculty_sections = khi_mgs_soup.find_all('div', class_='gdlr-core-personnel-list-column')"
   ]
  },
  {
   "cell_type": "code",
   "execution_count": 303,
   "metadata": {},
   "outputs": [],
   "source": [
    "for member in khi_mgs_faculty_sections:\n",
    "    # Extracting the faculty details\n",
    "    name = member.find('h3', class_='gdlr-core-personnel-list-title').get_text(strip=True)\n",
    "    designation = member.find('div', class_='gdlr-core-personnel-list-position').get_text(strip=True)\n",
    "    email = member.find('div', class_='kingster-type-email').get_text(strip=True)\n",
    "    extension_number = member.find('div', class_='kingster-type-phone').get_text(strip=True) if member.find('div', class_='kingster-type-phone') else None\n",
    "    imageURL = member.find('img')['src']\n",
    "    faculty_url = member.find('a')['href']\n",
    "    \n",
    "    # Finding department\n",
    "    department = khi_mgs_soup.find('h1', class_='kingster-page-title').text\n",
    "    \n",
    "    # Check for PhD Supervisor from faculty details (assuming further detail page can have this info)\n",
    "    hec_approved = 'HEC Approved PhD Supervisor' in requests.get(faculty_url).text\n",
    "\n",
    "    # Visit individual faculty profile to get highest education\n",
    "    response3 = requests.get(faculty_url)\n",
    "    soup3 = BeautifulSoup(response3.content, \"html.parser\")\n",
    "    educationMainDiv = soup3.find('div', class_='gdlr-core-pbf-wrapper-container')\\\n",
    "        .find('div', class_='gdlr-core-column-40')\\\n",
    "        .find('div', class_='gdlr-core-pbf-column-content')\\\n",
    "        .findAll('div', class_='gdlr-core-pbf-element')\n",
    "\n",
    "    highest_education = None\n",
    "\n",
    "    # Iterate through the education all possible elements\n",
    "    for k in range(0, len(educationMainDiv), 1):\n",
    "        highestEduMain = educationMainDiv[k].find('div', class_='gdlr-core-item-pdlr')\n",
    "        if highestEduMain is not None:\n",
    "            highest_education = highestEduMain.find('ul')\n",
    "            if highest_education is not None:\n",
    "                highest_education = highest_education.find('li')\n",
    "                if highest_education is not None:\n",
    "                    highest_education = highest_education.find('div', class_='gdlr-core-icon-list-content-wrap')\n",
    "                    if highest_education is not None:\n",
    "                        # Extract the highest education text\n",
    "                        highest_education = highest_education.find('span').text.strip()\n",
    "                        break\n",
    "                    else:\n",
    "                        highest_education = highestEduMain.find('span', class_='gdlr-core-title-item-caption')\n",
    "            \n",
    "            # Check if education is available\n",
    "            educationAvailable = highestEduMain.find('h3', class_='gdlr-core-title-item-title gdlr-core-skin-title')\n",
    "            if educationAvailable:\n",
    "                educationAvailable = educationAvailable.text.strip()\n",
    "\n",
    "            # Exit loop if highest education is found and available\n",
    "            if highest_education is not None and k > 1 and educationAvailable is not None:\n",
    "                highest_education = highest_education.strip()\n",
    "                break\n",
    "            else:\n",
    "                highest_education = None\n",
    "                continue\n",
    "    \n",
    "    new_data = {'Id': None,\n",
    "            'Name': name,\n",
    "            'Designation': designation,\n",
    "            'HEC Approved PhD Supervisor': hec_approved,\n",
    "            'Highest Education': highest_education,\n",
    "            'Email': email,\n",
    "            'Department': department,\n",
    "            'Extension': extension_number,\n",
    "            'ImageURL': imageURL}\n",
    "    \n",
    "    new_df = pd.DataFrame([new_data])\n",
    "    khi_faculty = pd.concat([khi_faculty, new_df], ignore_index=True)"
   ]
  },
  {
   "cell_type": "markdown",
   "metadata": {},
   "source": [
    "Department of Science and Humanities Faculty"
   ]
  },
  {
   "cell_type": "code",
   "execution_count": 304,
   "metadata": {},
   "outputs": [
    {
     "data": {
      "text/plain": [
       "<Response [200]>"
      ]
     },
     "execution_count": 304,
     "metadata": {},
     "output_type": "execute_result"
    }
   ],
   "source": [
    "headers = {\n",
    "    'User-Agent': 'Chrome/92.0.4515.159 Safari/537.36'\n",
    "}\n",
    "khi_sh_faculty_href_res = requests.get(khi_sh_faculty_href, headers=headers)\n",
    "khi_sh_faculty_href_res"
   ]
  },
  {
   "cell_type": "code",
   "execution_count": 305,
   "metadata": {},
   "outputs": [],
   "source": [
    "khi_sh_soup = BeautifulSoup(khi_sh_faculty_href_res.content, 'html.parser')"
   ]
  },
  {
   "cell_type": "code",
   "execution_count": 306,
   "metadata": {},
   "outputs": [],
   "source": [
    "khi_sh_faculty_sections = khi_sh_soup.find_all('div', class_='gdlr-core-personnel-list-column')"
   ]
  },
  {
   "cell_type": "code",
   "execution_count": 307,
   "metadata": {},
   "outputs": [],
   "source": [
    "for member in khi_sh_faculty_sections:\n",
    "    # Extracting the faculty details\n",
    "    name = member.find('h3', class_='gdlr-core-personnel-list-title').get_text(strip=True)\n",
    "    designation = member.find('div', class_='gdlr-core-personnel-list-position').get_text(strip=True)\n",
    "    email = member.find('div', class_='kingster-type-email').get_text(strip=True)\n",
    "    extension_number = member.find('div', class_='kingster-type-phone').get_text(strip=True) if member.find('div', class_='kingster-type-phone') else None\n",
    "    imageURL = member.find('img')['src']\n",
    "    faculty_url = member.find('a')['href']\n",
    "    \n",
    "    # Finding department\n",
    "    department = khi_sh_soup.find('h1', class_='kingster-page-title').text\n",
    "    \n",
    "    # Check for PhD Supervisor from faculty details (assuming further detail page can have this info)\n",
    "    hec_approved = 'HEC Approved PhD Supervisor' in requests.get(faculty_url).text\n",
    "\n",
    "    # Visit individual faculty profile to get highest education\n",
    "    response3 = requests.get(faculty_url)\n",
    "    soup3 = BeautifulSoup(response3.content, \"html.parser\")\n",
    "    educationMainDiv = soup3.find('div', class_='gdlr-core-pbf-wrapper-container')\\\n",
    "        .find('div', class_='gdlr-core-column-40')\\\n",
    "        .find('div', class_='gdlr-core-pbf-column-content')\\\n",
    "        .findAll('div', class_='gdlr-core-pbf-element')\n",
    "\n",
    "    highest_education = None\n",
    "\n",
    "    # Iterate through the education all possible elements\n",
    "    for k in range(0, len(educationMainDiv), 1):\n",
    "        highestEduMain = educationMainDiv[k].find('div', class_='gdlr-core-item-pdlr')\n",
    "        if highestEduMain is not None:\n",
    "            highest_education = highestEduMain.find('ul')\n",
    "            if highest_education is not None:\n",
    "                highest_education = highest_education.find('li')\n",
    "                if highest_education is not None:\n",
    "                    highest_education = highest_education.find('div', class_='gdlr-core-icon-list-content-wrap')\n",
    "                    if highest_education is not None:\n",
    "                        # Extract the highest education text\n",
    "                        highest_education = highest_education.find('span').text.strip()\n",
    "                        break\n",
    "                    else:\n",
    "                        highest_education = highestEduMain.find('span', class_='gdlr-core-title-item-caption')\n",
    "            \n",
    "            # Check if education is available\n",
    "            educationAvailable = highestEduMain.find('h3', class_='gdlr-core-title-item-title gdlr-core-skin-title')\n",
    "            if educationAvailable:\n",
    "                educationAvailable = educationAvailable.text.strip()\n",
    "\n",
    "            # Exit loop if highest education is found and available\n",
    "            if highest_education is not None and k > 1 and educationAvailable is not None:\n",
    "                highest_education = highest_education.strip()\n",
    "                break\n",
    "            else:\n",
    "                highest_education = None\n",
    "                continue\n",
    "    \n",
    "    new_data = {'Id': None,\n",
    "            'Name': name,\n",
    "            'Designation': designation,\n",
    "            'HEC Approved PhD Supervisor': hec_approved,\n",
    "            'Highest Education': highest_education,\n",
    "            'Email': email,\n",
    "            'Department': department,\n",
    "            'Extension': extension_number,\n",
    "            'ImageURL': imageURL}\n",
    "    \n",
    "    new_df = pd.DataFrame([new_data])\n",
    "    khi_faculty = pd.concat([khi_faculty, new_df], ignore_index=True)"
   ]
  },
  {
   "cell_type": "code",
   "execution_count": 308,
   "metadata": {},
   "outputs": [
    {
     "name": "stderr",
     "output_type": "stream",
     "text": [
      "C:\\Users\\ATOnline\\AppData\\Local\\Temp\\ipykernel_13384\\3306126006.py:5: FutureWarning: Downcasting object dtype arrays on .fillna, .ffill, .bfill is deprecated and will change in a future version. Call result.infer_objects(copy=False) instead. To opt-in to the future behavior, set `pd.set_option('future.no_silent_downcasting', True)`\n",
      "  .fillna(0)\n"
     ]
    }
   ],
   "source": [
    "# Replace non-numeric values with NaN, then fill NaN with 0, and convert to int\n",
    "khi_faculty[['Id', 'Extension']] = (\n",
    "    khi_faculty[['Id', 'Extension']]\n",
    "    .replace('-', pd.NA)\n",
    "    .fillna(0)\n",
    "    .infer_objects(copy=False)   # Explicitly infer types after fillna\n",
    "    .astype(int)\n",
    ")\n",
    "\n",
    "# Other conversions\n",
    "khi_faculty['HEC Approved PhD Supervisor'] = khi_faculty['HEC Approved PhD Supervisor'].astype(bool)\n",
    "khi_faculty[['Name', 'Designation', 'Highest Education', 'Email', 'Department', 'ImageURL']] = (\n",
    "    khi_faculty[['Name', 'Designation', 'Highest Education', 'Email', 'Department', 'ImageURL']].astype('string')\n",
    ")"
   ]
  },
  {
   "cell_type": "code",
   "execution_count": 309,
   "metadata": {},
   "outputs": [
    {
     "data": {
      "text/html": [
       "<div>\n",
       "<style scoped>\n",
       "    .dataframe tbody tr th:only-of-type {\n",
       "        vertical-align: middle;\n",
       "    }\n",
       "\n",
       "    .dataframe tbody tr th {\n",
       "        vertical-align: top;\n",
       "    }\n",
       "\n",
       "    .dataframe thead th {\n",
       "        text-align: right;\n",
       "    }\n",
       "</style>\n",
       "<table border=\"1\" class=\"dataframe\">\n",
       "  <thead>\n",
       "    <tr style=\"text-align: right;\">\n",
       "      <th></th>\n",
       "      <th>Id</th>\n",
       "      <th>Name</th>\n",
       "      <th>Designation</th>\n",
       "      <th>HEC Approved PhD Supervisor</th>\n",
       "      <th>Highest Education</th>\n",
       "      <th>Email</th>\n",
       "      <th>Department</th>\n",
       "      <th>Extension</th>\n",
       "      <th>ImageURL</th>\n",
       "    </tr>\n",
       "  </thead>\n",
       "  <tbody>\n",
       "    <tr>\n",
       "      <th>0</th>\n",
       "      <td>0</td>\n",
       "      <td>Prof. Dr. Zulfiqar Ali Memon , PhD</td>\n",
       "      <td>Professor &amp; Director</td>\n",
       "      <td>True</td>\n",
       "      <td>PhD (Vrije University) Amsterdam, The Netherlands</td>\n",
       "      <td>zulfiqar.memon@nu.edu.pk</td>\n",
       "      <td>Department of Computer Science</td>\n",
       "      <td>213</td>\n",
       "      <td>https://khi.nu.edu.pk/wp-content/uploads/2023/...</td>\n",
       "    </tr>\n",
       "    <tr>\n",
       "      <th>1</th>\n",
       "      <td>0</td>\n",
       "      <td>Dr. Muhammad Atif Tahir, PhD</td>\n",
       "      <td>Professor &amp; Head of School (FSC)</td>\n",
       "      <td>False</td>\n",
       "      <td>Deep Learning</td>\n",
       "      <td>atif.tahir@nu.edu.pk</td>\n",
       "      <td>Department of Computer Science</td>\n",
       "      <td>214</td>\n",
       "      <td>https://khi.nu.edu.pk/wp-content/uploads/2023/...</td>\n",
       "    </tr>\n",
       "    <tr>\n",
       "      <th>2</th>\n",
       "      <td>0</td>\n",
       "      <td>Dr. Jawwad A. Shamsi, PhD</td>\n",
       "      <td>Professor &amp; Dean</td>\n",
       "      <td>False</td>\n",
       "      <td>&lt;NA&gt;</td>\n",
       "      <td>jawwad.shamsi@nu.edu.pk</td>\n",
       "      <td>Department of Computer Science</td>\n",
       "      <td>218</td>\n",
       "      <td>https://khi.nu.edu.pk/wp-content/uploads/2023/...</td>\n",
       "    </tr>\n",
       "    <tr>\n",
       "      <th>3</th>\n",
       "      <td>0</td>\n",
       "      <td>Dr. Ghufran Ahmed, PhD</td>\n",
       "      <td>Professor</td>\n",
       "      <td>False</td>\n",
       "      <td>PostDoc (UK), PhD (CS)</td>\n",
       "      <td>ghufran.ahmed@nu.edu.pk</td>\n",
       "      <td>Department of Computer Science</td>\n",
       "      <td>233</td>\n",
       "      <td>https://khi.nu.edu.pk/wp-content/uploads/2023/...</td>\n",
       "    </tr>\n",
       "    <tr>\n",
       "      <th>4</th>\n",
       "      <td>0</td>\n",
       "      <td>Dr. Nouman Durrani, PhD</td>\n",
       "      <td>Associate Professor</td>\n",
       "      <td>False</td>\n",
       "      <td>&lt;NA&gt;</td>\n",
       "      <td>muhammad.nouman@nu.edu.pk</td>\n",
       "      <td>Department of Computer Science</td>\n",
       "      <td>133</td>\n",
       "      <td>https://khi.nu.edu.pk/wp-content/uploads/2023/...</td>\n",
       "    </tr>\n",
       "  </tbody>\n",
       "</table>\n",
       "</div>"
      ],
      "text/plain": [
       "   Id                                Name                       Designation  \\\n",
       "0   0  Prof. Dr. Zulfiqar Ali Memon , PhD              Professor & Director   \n",
       "1   0        Dr. Muhammad Atif Tahir, PhD  Professor & Head of School (FSC)   \n",
       "2   0           Dr. Jawwad A. Shamsi, PhD                  Professor & Dean   \n",
       "3   0              Dr. Ghufran Ahmed, PhD                         Professor   \n",
       "4   0             Dr. Nouman Durrani, PhD               Associate Professor   \n",
       "\n",
       "   HEC Approved PhD Supervisor  \\\n",
       "0                         True   \n",
       "1                        False   \n",
       "2                        False   \n",
       "3                        False   \n",
       "4                        False   \n",
       "\n",
       "                                   Highest Education  \\\n",
       "0  PhD (Vrije University) Amsterdam, The Netherlands   \n",
       "1                                      Deep Learning   \n",
       "2                                               <NA>   \n",
       "3                             PostDoc (UK), PhD (CS)   \n",
       "4                                               <NA>   \n",
       "\n",
       "                       Email                      Department  Extension  \\\n",
       "0   zulfiqar.memon@nu.edu.pk  Department of Computer Science        213   \n",
       "1       atif.tahir@nu.edu.pk  Department of Computer Science        214   \n",
       "2    jawwad.shamsi@nu.edu.pk  Department of Computer Science        218   \n",
       "3    ghufran.ahmed@nu.edu.pk  Department of Computer Science        233   \n",
       "4  muhammad.nouman@nu.edu.pk  Department of Computer Science        133   \n",
       "\n",
       "                                            ImageURL  \n",
       "0  https://khi.nu.edu.pk/wp-content/uploads/2023/...  \n",
       "1  https://khi.nu.edu.pk/wp-content/uploads/2023/...  \n",
       "2  https://khi.nu.edu.pk/wp-content/uploads/2023/...  \n",
       "3  https://khi.nu.edu.pk/wp-content/uploads/2023/...  \n",
       "4  https://khi.nu.edu.pk/wp-content/uploads/2023/...  "
      ]
     },
     "execution_count": 309,
     "metadata": {},
     "output_type": "execute_result"
    }
   ],
   "source": [
    "khi_faculty.head(5)"
   ]
  },
  {
   "cell_type": "code",
   "execution_count": 310,
   "metadata": {},
   "outputs": [
    {
     "name": "stdout",
     "output_type": "stream",
     "text": [
      "<class 'pandas.core.frame.DataFrame'>\n",
      "RangeIndex: 147 entries, 0 to 146\n",
      "Data columns (total 9 columns):\n",
      " #   Column                       Non-Null Count  Dtype \n",
      "---  ------                       --------------  ----- \n",
      " 0   Id                           147 non-null    int32 \n",
      " 1   Name                         147 non-null    string\n",
      " 2   Designation                  147 non-null    string\n",
      " 3   HEC Approved PhD Supervisor  147 non-null    bool  \n",
      " 4   Highest Education            100 non-null    string\n",
      " 5   Email                        147 non-null    string\n",
      " 6   Department                   147 non-null    string\n",
      " 7   Extension                    147 non-null    int32 \n",
      " 8   ImageURL                     147 non-null    string\n",
      "dtypes: bool(1), int32(2), string(6)\n",
      "memory usage: 8.3 KB\n"
     ]
    }
   ],
   "source": [
    "khi_faculty.info()"
   ]
  },
  {
   "cell_type": "markdown",
   "metadata": {},
   "source": [
    "Converting into CSV file"
   ]
  },
  {
   "cell_type": "code",
   "execution_count": 130,
   "metadata": {},
   "outputs": [],
   "source": [
    "khi_faculty.to_csv('khi.csv')"
   ]
  },
  {
   "cell_type": "markdown",
   "metadata": {},
   "source": [
    "# Scraping Fast, Chiniot-Faislabad website to get Faculty Information"
   ]
  },
  {
   "cell_type": "code",
   "execution_count": 9,
   "metadata": {},
   "outputs": [],
   "source": [
    "cfd_depts_URL = 'https://cfd.nu.edu.pk/all-departments/'\n",
    "headers = {\n",
    "    'User-Agent': 'Chrome/92.0.4515.159 Safari/537.36'\n",
    "}\n",
    "cfd_res = requests.get(cfd_depts_URL, headers=headers)"
   ]
  },
  {
   "cell_type": "code",
   "execution_count": 10,
   "metadata": {},
   "outputs": [],
   "source": [
    "cfd_depts_info = BeautifulSoup(cfd_res.content, 'html.parser')"
   ]
  },
  {
   "cell_type": "code",
   "execution_count": 11,
   "metadata": {},
   "outputs": [],
   "source": [
    "# getting all divs havings links of each department\n",
    "all_depts = cfd_depts_info.find('div', class_='kc-elm kc-css-633007 kc_row kc_row_inner')"
   ]
  },
  {
   "cell_type": "code",
   "execution_count": 13,
   "metadata": {},
   "outputs": [],
   "source": [
    "# finding link tags for each department\n",
    "all_depts_link_tags = all_depts.find_all('a')"
   ]
  },
  {
   "cell_type": "code",
   "execution_count": 14,
   "metadata": {},
   "outputs": [],
   "source": [
    "href_links = []\n",
    "\n",
    "# iterating each a tag in order to get link for each department\n",
    "for dept in all_depts_link_tags:\n",
    "    href = dept.get('href')\n",
    "    # storing the href we get inside a list named as href_links\n",
    "    href_links.append(href)"
   ]
  },
  {
   "cell_type": "code",
   "execution_count": 15,
   "metadata": {},
   "outputs": [],
   "source": [
    "# checking whether href_links contain or not; if they exist store each link to respective variables\n",
    "if len(href_links) == 6:\n",
    "    cfd_cs_dept_link, cfd_se_dept_link, cfd_ai_dept_link, cfd_ee_dept_link, cfd_sh_dept_link, cfd_fsm_dept_link = href_links   \n",
    "else:\n",
    "    print('Error, the department links are not 4')"
   ]
  },
  {
   "cell_type": "code",
   "execution_count": 311,
   "metadata": {},
   "outputs": [],
   "source": [
    "# dataframe to store cfd faculty data\n",
    "cfd_faculty = pd.DataFrame(columns=['Id', 'Name', 'Designation', 'HEC Approved PhD Supervisor', 'Highest Education', 'Email', 'Department', 'Extension', 'ImageURL'])"
   ]
  },
  {
   "cell_type": "markdown",
   "metadata": {},
   "source": [
    "CS Department"
   ]
  },
  {
   "cell_type": "code",
   "execution_count": 312,
   "metadata": {},
   "outputs": [],
   "source": [
    "# define header to mimic a chrome browser\n",
    "headers = {\n",
    "    'User-Agent': 'Chrome/92.0.4515.159 Safari/537.36'\n",
    "}\n",
    "\n",
    "cfd_cs_dept_res = requests.get(cfd_cs_dept_link, headers=headers)"
   ]
  },
  {
   "cell_type": "code",
   "execution_count": 313,
   "metadata": {},
   "outputs": [],
   "source": [
    "cfd_cs_dept = BeautifulSoup(cfd_cs_dept_res.content, 'html.parser')"
   ]
  },
  {
   "cell_type": "code",
   "execution_count": 314,
   "metadata": {},
   "outputs": [],
   "source": [
    "cfd_cs_faculty_info = cfd_cs_dept.findAll('div', class_='unitech-teacher')"
   ]
  },
  {
   "cell_type": "code",
   "execution_count": 315,
   "metadata": {},
   "outputs": [],
   "source": [
    "for member in cfd_cs_faculty_info:\n",
    "    \n",
    "    # checking whether supervisor is hec approved or not\n",
    "    hec_element = member.find('ul', class_='unitech-teacher-social-icon').find('p', class_='hec')\n",
    "    if hec_element:\n",
    "        hec_approved = True\n",
    "    else:\n",
    "        hec_approved = False\n",
    "    \n",
    "    # getting department info using parsing\n",
    "    match = re.search(r'(cs)', cfd_cs_dept_link)\n",
    "    if match:\n",
    "        department = match.group(1)\n",
    "    else:\n",
    "        department = None\n",
    "        \n",
    "    # extracting faculity url    \n",
    "    cfd_cs_faculty_info_URL = member.find('div', class_='unitech-teacher__thumb').find('a').get('href')\n",
    "    headers = {\n",
    "    'User-Agent': 'Chrome/92.0.4515.159 Safari/537.36'\n",
    "    }\n",
    "    # recieving response after requesting faculty url\n",
    "    cfd_cs_faculty_info_res = requests.get(cfd_cs_faculty_info_URL, headers= headers)\n",
    "    \n",
    "    cfd_cs_faculty_info_soup = BeautifulSoup(cfd_cs_faculty_info_res.content, 'html.parser')\n",
    "    \n",
    "    degree = cfd_cs_faculty_info_soup.find('div', class_='htc__skill__container progress__bar--2')\n",
    "    if degree:\n",
    "        # Attempt to find the first <li> element\n",
    "        li_element = degree.find('li')\n",
    "    \n",
    "        if li_element:\n",
    "            li_text = li_element.text.strip()\n",
    "            \n",
    "            # Getting the characters before first comma\n",
    "            match = re.match(r'^[^,]+', li_text)\n",
    "            if match:\n",
    "                highest_education = match.group(0)  # Get the matched part\n",
    "    \n",
    "    # extracting extension number information\n",
    "    extension_link =  cfd_cs_faculty_info_soup.find('ul',class_='teacher__address')\n",
    "    list_items = extension_link.find_all('li')\n",
    "    ext_text = [li.get_text(strip=True) for li in list_items if 'Ext:' in li.get_text(strip=True)]\n",
    "    text = [chr.replace('Ext:', '').strip() for chr in ext_text]\n",
    "    extension_number = ' | '.join(text) if text else None\n",
    "                            \n",
    "    new_data = {'Id': None,\n",
    "                'Name': member.find(class_='unitech-teacher__inner').find('h4').text.strip(),\n",
    "                'Designation': member.find(class_='unitech-teacher__inner').find('h6').text,\n",
    "                'HEC Approved PhD Supervisor': hec_approved,\n",
    "                'Highest Education': highest_education,\n",
    "                'Email': member.find('ul', class_='unitech-teacher-social-icon').find('p').text,\n",
    "                'Department': department,\n",
    "                'Extension': extension_number,\n",
    "                'ImageURL': member.find('div', class_='unitech-teacher__thumb').find('img').get('src')}\n",
    "    \n",
    "    new_df = pd.DataFrame([new_data])\n",
    "    cfd_faculty = pd.concat([cfd_faculty, new_df], ignore_index=True)"
   ]
  },
  {
   "cell_type": "markdown",
   "metadata": {},
   "source": [
    "Software Engineering Department"
   ]
  },
  {
   "cell_type": "code",
   "execution_count": 316,
   "metadata": {},
   "outputs": [],
   "source": [
    "# define header to mimic a chrome browser\n",
    "headers = {\n",
    "    'User-Agent': 'Chrome/92.0.4515.159 Safari/537.36'\n",
    "}\n",
    "\n",
    "cfd_se_dept_res = requests.get(cfd_se_dept_link, headers=headers)"
   ]
  },
  {
   "cell_type": "code",
   "execution_count": 317,
   "metadata": {},
   "outputs": [],
   "source": [
    "cfd_se_dept = BeautifulSoup(cfd_se_dept_res.content, 'html.parser')"
   ]
  },
  {
   "cell_type": "code",
   "execution_count": 318,
   "metadata": {},
   "outputs": [],
   "source": [
    "cfd_se_faculty_info = cfd_se_dept.findAll('div', class_='unitech-teacher')"
   ]
  },
  {
   "cell_type": "code",
   "execution_count": 319,
   "metadata": {},
   "outputs": [],
   "source": [
    "for member in cfd_se_faculty_info:\n",
    "    \n",
    "    # checking whether supervisor is hec approved or not\n",
    "    hec_element = member.find('ul', class_='unitech-teacher-social-icon').find('p', class_='hec')\n",
    "    if hec_element:\n",
    "        hec_approved = True\n",
    "    else:\n",
    "        hec_approved = False\n",
    "    \n",
    "    # getting department info using parsing\n",
    "    match = re.search(r'(se)', cfd_se_dept_link)\n",
    "    if match:\n",
    "        department = match.group(1)\n",
    "    else:\n",
    "        department = None\n",
    "        \n",
    "    # extracting faculity url    \n",
    "    cfd_se_faculty_info_URL = member.find('div', class_='unitech-teacher__thumb').find('a').get('href')\n",
    "    headers = {\n",
    "    'User-Agent': 'Chrome/92.0.4515.159 Safari/537.36'\n",
    "    }\n",
    "    # recieving response after requesting faculty url\n",
    "    cfd_se_faculty_info_res = requests.get(cfd_se_faculty_info_URL, headers= headers)\n",
    "    \n",
    "    cfd_se_faculty_info_soup = BeautifulSoup(cfd_se_faculty_info_res.content, 'html.parser')\n",
    "    \n",
    "    degree = cfd_se_faculty_info_soup.find('div', class_='htc__skill__container progress__bar--2')\n",
    "    if degree:\n",
    "        # Attempt to find the first <li> element\n",
    "        li_element = degree.find('li')\n",
    "    \n",
    "        if li_element:\n",
    "            li_text = li_element.text.strip()\n",
    "            \n",
    "            # Getting the characters before first comma\n",
    "            match = re.match(r'^[^,]+', li_text)\n",
    "            if match:\n",
    "                highest_education = match.group(0)  # Get the matched part\n",
    "    \n",
    "    # extracting extension number information\n",
    "    extension_link =  cfd_se_faculty_info_soup.find('ul',class_='teacher__address')\n",
    "    list_items = extension_link.find_all('li')\n",
    "    ext_text = [li.get_text(strip=True) for li in list_items if 'Ext:' in li.get_text(strip=True)]\n",
    "    text = [chr.replace('Ext:', '').strip() for chr in ext_text]\n",
    "    extension_number = ' | '.join(text) if text else None\n",
    "                            \n",
    "    new_data = {'Id': None,\n",
    "                'Name': member.find(class_='unitech-teacher__inner').find('h4').text.strip(),\n",
    "                'Designation': member.find(class_='unitech-teacher__inner').find('h6').text,\n",
    "                'HEC Approved PhD Supervisor': hec_approved,\n",
    "                'Highest Education': highest_education,\n",
    "                'Email': member.find('ul', class_='unitech-teacher-social-icon').find('p').text,\n",
    "                'Department': department,\n",
    "                'Extension': extension_number,\n",
    "                'ImageURL': member.find('div', class_='unitech-teacher__thumb').find('img').get('src')}\n",
    "    \n",
    "    new_df = pd.DataFrame([new_data])\n",
    "    cfd_faculty = pd.concat([cfd_faculty, new_df], ignore_index=True)"
   ]
  },
  {
   "cell_type": "markdown",
   "metadata": {},
   "source": [
    "AI Department"
   ]
  },
  {
   "cell_type": "code",
   "execution_count": 320,
   "metadata": {},
   "outputs": [],
   "source": [
    "# define header to mimic a chrome browser\n",
    "headers = {\n",
    "    'User-Agent': 'Chrome/92.0.4515.159 Safari/537.36'\n",
    "}\n",
    "\n",
    "cfd_ai_dept_res = requests.get(cfd_ai_dept_link, headers=headers)"
   ]
  },
  {
   "cell_type": "code",
   "execution_count": 321,
   "metadata": {},
   "outputs": [],
   "source": [
    "cfd_ai_dept = BeautifulSoup(cfd_ai_dept_res.content, 'html.parser')"
   ]
  },
  {
   "cell_type": "code",
   "execution_count": 322,
   "metadata": {},
   "outputs": [],
   "source": [
    "cfd_ai_faculty_info = cfd_ai_dept.findAll('div', class_='unitech-teacher')"
   ]
  },
  {
   "cell_type": "code",
   "execution_count": 323,
   "metadata": {},
   "outputs": [],
   "source": [
    "for member in cfd_ai_faculty_info:\n",
    "    \n",
    "    # checking whether supervisor is hec approved or not\n",
    "    hec_element = member.find('ul', class_='unitech-teacher-social-icon').find('p', class_='hec')\n",
    "    if hec_element:\n",
    "        hec_approved = True\n",
    "    else:\n",
    "        hec_approved = False\n",
    "    \n",
    "    # getting department info using parsing\n",
    "    match = re.search(r'(ai)', cfd_ai_dept_link)\n",
    "    if match:\n",
    "        department = match.group(1)\n",
    "    else:\n",
    "        department = None\n",
    "        \n",
    "    # extracting faculity url    \n",
    "    cfd_ai_faculty_info_URL = member.find('div', class_='unitech-teacher__thumb').find('a').get('href')\n",
    "    headers = {\n",
    "    'User-Agent': 'Chrome/92.0.4515.159 Safari/537.36'\n",
    "    }\n",
    "    # recieving response after requesting faculty url\n",
    "    cfd_ai_faculty_info_res = requests.get(cfd_ai_faculty_info_URL, headers= headers)\n",
    "    \n",
    "    cfd_ai_faculty_info_soup = BeautifulSoup(cfd_ai_faculty_info_res.content, 'html.parser')\n",
    "    \n",
    "    degree = cfd_ai_faculty_info_soup.find('div', class_='htc__skill__container progress__bar--2')\n",
    "    if degree:\n",
    "        # Attempt to find the first <li> element\n",
    "        li_element = degree.find('li')\n",
    "    \n",
    "        if li_element:\n",
    "            li_text = li_element.text.strip()\n",
    "            \n",
    "            # Getting the characters before first comma\n",
    "            match = re.match(r'^[^,]+', li_text)\n",
    "            if match:\n",
    "                highest_education = match.group(0)  # Get the matched part\n",
    "    \n",
    "    # extracting extension number information\n",
    "    extension_link =  cfd_ai_faculty_info_soup.find('ul',class_='teacher__address')\n",
    "    list_items = extension_link.find_all('li')\n",
    "    ext_text = [li.get_text(strip=True) for li in list_items if 'Ext:' in li.get_text(strip=True)]\n",
    "    text = [chr.replace('Ext:', '').strip() for chr in ext_text]\n",
    "    extension_number = ' | '.join(text) if text else None\n",
    "                            \n",
    "    new_data = {'Id': None,\n",
    "                'Name': member.find(class_='unitech-teacher__inner').find('h4').text.strip(),\n",
    "                'Designation': member.find(class_='unitech-teacher__inner').find('h6').text,\n",
    "                'HEC Approved PhD Supervisor': hec_approved,\n",
    "                'Highest Education': highest_education,\n",
    "                'Email': member.find('ul', class_='unitech-teacher-social-icon').find('p').text,\n",
    "                'Department': department,\n",
    "                'Extension': extension_number,\n",
    "                'ImageURL': member.find('div', class_='unitech-teacher__thumb').find('img').get('src')}\n",
    "    \n",
    "    new_df = pd.DataFrame([new_data])\n",
    "    cfd_faculty = pd.concat([cfd_faculty, new_df], ignore_index=True)"
   ]
  },
  {
   "cell_type": "markdown",
   "metadata": {},
   "source": [
    "Electrical Department"
   ]
  },
  {
   "cell_type": "code",
   "execution_count": 324,
   "metadata": {},
   "outputs": [],
   "source": [
    "# define header to mimic a chrome browser\n",
    "headers = {\n",
    "    'User-Agent': 'Chrome/92.0.4515.159 Safari/537.36'\n",
    "}\n",
    "\n",
    "cfd_ee_dept_res = requests.get(cfd_ee_dept_link, headers=headers)"
   ]
  },
  {
   "cell_type": "code",
   "execution_count": 325,
   "metadata": {},
   "outputs": [],
   "source": [
    "cfd_ee_dept = BeautifulSoup(cfd_ee_dept_res.content, 'html.parser')"
   ]
  },
  {
   "cell_type": "code",
   "execution_count": 326,
   "metadata": {},
   "outputs": [],
   "source": [
    "cfd_ee_faculty_info = cfd_ee_dept.findAll('div', class_='unitech-teacher')"
   ]
  },
  {
   "cell_type": "code",
   "execution_count": 327,
   "metadata": {},
   "outputs": [],
   "source": [
    "for member in cfd_ee_faculty_info:\n",
    "    \n",
    "    # checking whether supervisor is hec approved or not\n",
    "    hec_element = member.find('ul', class_='unitech-teacher-social-icon').find('p', class_='hec')\n",
    "    if hec_element:\n",
    "        hec_approved = True\n",
    "    else:\n",
    "        hec_approved = False\n",
    "    \n",
    "    # getting department info using parsing\n",
    "    match = re.search(r'(ee)', cfd_ee_dept_link)\n",
    "    if match:\n",
    "        department = match.group(1)\n",
    "    else:\n",
    "        department = None\n",
    "        \n",
    "    # extracting faculity url    \n",
    "    cfd_ee_faculty_info_URL = member.find('div', class_='unitech-teacher__thumb').find('a').get('href')\n",
    "    headers = {\n",
    "    'User-Agent': 'Chrome/92.0.4515.159 Safari/537.36'\n",
    "    }\n",
    "    # recieving response after requesting faculty url\n",
    "    cfd_ee_faculty_info_res = requests.get(cfd_ee_faculty_info_URL, headers= headers)\n",
    "    \n",
    "    cfd_ee_faculty_info_soup = BeautifulSoup(cfd_ee_faculty_info_res.content, 'html.parser')\n",
    "    \n",
    "    degree = cfd_ee_faculty_info_soup.find('div', class_='htc__skill__container progress__bar--2')\n",
    "    if degree:\n",
    "        # Attempt to find the first <li> element\n",
    "        li_element = degree.find('li')\n",
    "    \n",
    "        if li_element:\n",
    "            li_text = li_element.text.strip()\n",
    "            \n",
    "            # Getting the characters before first comma\n",
    "            match = re.match(r'^[^,]+', li_text)\n",
    "            if match:\n",
    "                highest_education = match.group(0)  # Get the matched part\n",
    "    \n",
    "    # extracting extension number information\n",
    "    extension_link =  cfd_ee_faculty_info_soup.find('ul',class_='teacher__address')\n",
    "    list_items = extension_link.find_all('li')\n",
    "    ext_text = [li.get_text(strip=True) for li in list_items if 'Ext:' in li.get_text(strip=True)]\n",
    "    text = [chr.replace('Ext:', '').strip() for chr in ext_text]\n",
    "    extension_number = ' | '.join(text) if text else None\n",
    "                            \n",
    "    new_data = {'Id': None,\n",
    "                'Name': member.find(class_='unitech-teacher__inner').find('h4').text.strip(),\n",
    "                'Designation': member.find(class_='unitech-teacher__inner').find('h6').text,\n",
    "                'HEC Approved PhD Supervisor': hec_approved,\n",
    "                'Highest Education': highest_education,\n",
    "                'Email': member.find('ul', class_='unitech-teacher-social-icon').find('p').text,\n",
    "                'Department': department,\n",
    "                'Extension': extension_number,\n",
    "                'ImageURL': member.find('div', class_='unitech-teacher__thumb').find('img').get('src')}\n",
    "    \n",
    "    new_df = pd.DataFrame([new_data])\n",
    "    cfd_faculty = pd.concat([cfd_faculty, new_df], ignore_index=True)"
   ]
  },
  {
   "cell_type": "markdown",
   "metadata": {},
   "source": [
    "Science and Humanities Department"
   ]
  },
  {
   "cell_type": "code",
   "execution_count": 328,
   "metadata": {},
   "outputs": [],
   "source": [
    "# define header to mimic a chrome browser\n",
    "headers = {\n",
    "    'User-Agent': 'Chrome/92.0.4515.159 Safari/537.36'\n",
    "}\n",
    "\n",
    "cfd_sh_dept_res = requests.get(cfd_sh_dept_link, headers=headers)"
   ]
  },
  {
   "cell_type": "code",
   "execution_count": 329,
   "metadata": {},
   "outputs": [],
   "source": [
    "cfd_sh_dept = BeautifulSoup(cfd_sh_dept_res.content, 'html.parser')"
   ]
  },
  {
   "cell_type": "code",
   "execution_count": 330,
   "metadata": {},
   "outputs": [],
   "source": [
    "cfd_sh_faculty_info = cfd_sh_dept.findAll('div', class_='unitech-teacher')"
   ]
  },
  {
   "cell_type": "code",
   "execution_count": 331,
   "metadata": {},
   "outputs": [],
   "source": [
    "for member in cfd_sh_faculty_info:\n",
    "    \n",
    "    # checking whether supervisor is hec approved or not\n",
    "    hec_element = member.find('ul', class_='unitech-teacher-social-icon').find('p', class_='hec')\n",
    "    if hec_element:\n",
    "        hec_approved = True\n",
    "    else:\n",
    "        hec_approved = False\n",
    "    \n",
    "    # getting department info using parsing\n",
    "    match = re.search(r'(sh)', cfd_sh_dept_link)\n",
    "    if match:\n",
    "        department = match.group(1)\n",
    "    else:\n",
    "        department = None\n",
    "        \n",
    "    # extracting faculity url    \n",
    "    cfd_sh_faculty_info_URL = member.find('div', class_='unitech-teacher__thumb').find('a').get('href')\n",
    "    headers = {\n",
    "    'User-Agent': 'Chrome/92.0.4515.159 Safari/537.36'\n",
    "    }\n",
    "    # recieving response after requesting faculty url\n",
    "    cfd_sh_faculty_info_res = requests.get(cfd_sh_faculty_info_URL, headers= headers)\n",
    "    \n",
    "    cfd_sh_faculty_info_soup = BeautifulSoup(cfd_sh_faculty_info_res.content, 'html.parser')\n",
    "    \n",
    "    degree = cfd_sh_faculty_info_soup.find('div', class_='htc__skill__container progress__bar--2')\n",
    "    if degree:\n",
    "        # Attempt to find the first <li> element\n",
    "        li_element = degree.find('li')\n",
    "    \n",
    "        if li_element:\n",
    "            li_text = li_element.text.strip()\n",
    "            \n",
    "            # Getting the characters before first comma\n",
    "            match = re.match(r'^[^,]+', li_text)\n",
    "            if match:\n",
    "                highest_education = match.group(0)  # Get the matched part\n",
    "    \n",
    "    # extracting extension number information\n",
    "    extension_link =  cfd_sh_faculty_info_soup.find('ul',class_='teacher__address')\n",
    "    list_items = extension_link.find_all('li')\n",
    "    ext_text = [li.get_text(strip=True) for li in list_items if 'Ext:' in li.get_text(strip=True)]\n",
    "    text = [chr.replace('Ext:', '').strip() for chr in ext_text]\n",
    "    extension_number = ' | '.join(text) if text else None\n",
    "                            \n",
    "    new_data = {'Id': None,\n",
    "                'Name': member.find(class_='unitech-teacher__inner').find('h4').text.strip(),\n",
    "                'Designation': member.find(class_='unitech-teacher__inner').find('h6').text,\n",
    "                'HEC Approved PhD Supervisor': hec_approved,\n",
    "                'Highest Education': highest_education,\n",
    "                'Email': member.find('ul', class_='unitech-teacher-social-icon').find('p').text,\n",
    "                'Department': department,\n",
    "                'Extension': extension_number,\n",
    "                'ImageURL': member.find('div', class_='unitech-teacher__thumb').find('img').get('src')}\n",
    "    \n",
    "    new_df = pd.DataFrame([new_data])\n",
    "    cfd_faculty = pd.concat([cfd_faculty, new_df], ignore_index=True)"
   ]
  },
  {
   "cell_type": "markdown",
   "metadata": {},
   "source": [
    "Management Department"
   ]
  },
  {
   "cell_type": "code",
   "execution_count": 332,
   "metadata": {},
   "outputs": [],
   "source": [
    "# define header to mimic a chrome browser\n",
    "headers = {\n",
    "    'User-Agent': 'Chrome/92.0.4515.159 Safari/537.36'\n",
    "}\n",
    "\n",
    "cfd_fsm_dept_res = requests.get(cfd_fsm_dept_link, headers=headers)"
   ]
  },
  {
   "cell_type": "code",
   "execution_count": 333,
   "metadata": {},
   "outputs": [],
   "source": [
    "cfd_fsm_dept = BeautifulSoup(cfd_fsm_dept_res.content, 'html.parser')"
   ]
  },
  {
   "cell_type": "code",
   "execution_count": 334,
   "metadata": {},
   "outputs": [],
   "source": [
    "cfd_fsm_faculty_info = cfd_fsm_dept.findAll('div', class_='unitech-teacher')"
   ]
  },
  {
   "cell_type": "code",
   "execution_count": 335,
   "metadata": {},
   "outputs": [],
   "source": [
    "for member in cfd_fsm_faculty_info:\n",
    "    \n",
    "    # checking whether supervisor is hec approved or not\n",
    "    hec_element = member.find('ul', class_='unitech-teacher-social-icon').find('p', class_='hec')\n",
    "    if hec_element:\n",
    "        hec_approved = True\n",
    "    else:\n",
    "        hec_approved = False\n",
    "    \n",
    "    # getting department info using parsing\n",
    "    match = re.search(r'(fsm)', cfd_fsm_dept_link)\n",
    "    if match:\n",
    "        department = match.group(1)\n",
    "    else:\n",
    "        department = None\n",
    "        \n",
    "    # extracting faculity url    \n",
    "    cfd_fsm_faculty_info_URL = member.find('div', class_='unitech-teacher__thumb').find('a').get('href')\n",
    "    headers = {\n",
    "    'User-Agent': 'Chrome/92.0.4515.159 Safari/537.36'\n",
    "    }\n",
    "    # recieving response after requesting faculty url\n",
    "    cfd_fsm_faculty_info_res = requests.get(cfd_fsm_faculty_info_URL, headers= headers)\n",
    "    \n",
    "    cfd_fsm_faculty_info_soup = BeautifulSoup(cfd_fsm_faculty_info_res.content, 'html.parser')\n",
    "    \n",
    "    degree = cfd_fsm_faculty_info_soup.find('div', class_='htc__skill__container progress__bar--2')\n",
    "    if degree:\n",
    "        # Attempt to find the first <li> element\n",
    "        li_element = degree.find('li')\n",
    "    \n",
    "        if li_element:\n",
    "            li_text = li_element.text.strip()\n",
    "            \n",
    "            # Getting the characters before first comma\n",
    "            match = re.match(r'^[^,]+', li_text)\n",
    "            if match:\n",
    "                highest_education = match.group(0)  # Get the matched part\n",
    "    \n",
    "    # extracting extension number information\n",
    "    extension_link =  cfd_fsm_faculty_info_soup.find('ul',class_='teacher__address')\n",
    "    list_items = extension_link.find_all('li')\n",
    "    ext_text = [li.get_text(strip=True) for li in list_items if 'Ext:' in li.get_text(strip=True)]\n",
    "    text = [chr.replace('Ext:', '').strip() for chr in ext_text]\n",
    "    extension_number = ' | '.join(text) if text else None\n",
    "                            \n",
    "    new_data = {'Id': None,\n",
    "                'Name': member.find(class_='unitech-teacher__inner').find('h4').text.strip(),\n",
    "                'Designation': member.find(class_='unitech-teacher__inner').find('h6').text,\n",
    "                'HEC Approved PhD Supervisor': hec_approved,\n",
    "                'Highest Education': highest_education,\n",
    "                'Email': member.find('ul', class_='unitech-teacher-social-icon').find('p').text,\n",
    "                'Department': department,\n",
    "                'Extension': extension_number,\n",
    "                'ImageURL': member.find('div', class_='unitech-teacher__thumb').find('img').get('src')}\n",
    "    \n",
    "    new_df = pd.DataFrame([new_data])\n",
    "    cfd_faculty = pd.concat([cfd_faculty, new_df], ignore_index=True)"
   ]
  },
  {
   "cell_type": "code",
   "execution_count": 340,
   "metadata": {},
   "outputs": [],
   "source": [
    "# Changing type of the columns\n",
    "cfd_faculty[['Id', 'Extension']] = (\n",
    "    cfd_faculty[['Id', 'Extension']].fillna(0).infer_objects().astype(int)\n",
    ")\n",
    "cfd_faculty['HEC Approved PhD Supervisor'] = cfd_faculty['HEC Approved PhD Supervisor'].astype(bool)\n",
    "cfd_faculty[['Name', 'Designation', 'Highest Education', 'Email', 'Department', 'ImageURL']] = cfd_faculty[['Name', 'Designation', 'Highest Education', 'Email', 'Department', 'ImageURL']].astype('string')"
   ]
  },
  {
   "cell_type": "code",
   "execution_count": 344,
   "metadata": {},
   "outputs": [
    {
     "data": {
      "text/html": [
       "<div>\n",
       "<style scoped>\n",
       "    .dataframe tbody tr th:only-of-type {\n",
       "        vertical-align: middle;\n",
       "    }\n",
       "\n",
       "    .dataframe tbody tr th {\n",
       "        vertical-align: top;\n",
       "    }\n",
       "\n",
       "    .dataframe thead th {\n",
       "        text-align: right;\n",
       "    }\n",
       "</style>\n",
       "<table border=\"1\" class=\"dataframe\">\n",
       "  <thead>\n",
       "    <tr style=\"text-align: right;\">\n",
       "      <th></th>\n",
       "      <th>Id</th>\n",
       "      <th>Name</th>\n",
       "      <th>Designation</th>\n",
       "      <th>HEC Approved PhD Supervisor</th>\n",
       "      <th>Highest Education</th>\n",
       "      <th>Email</th>\n",
       "      <th>Department</th>\n",
       "      <th>Extension</th>\n",
       "      <th>ImageURL</th>\n",
       "    </tr>\n",
       "  </thead>\n",
       "  <tbody>\n",
       "    <tr>\n",
       "      <th>18</th>\n",
       "      <td>0</td>\n",
       "      <td>Mr. Ali Hamza</td>\n",
       "      <td>Lecturer</td>\n",
       "      <td>False</td>\n",
       "      <td>M.S(Computer Science)</td>\n",
       "      <td>ali.Hamza@nu.edu.pk</td>\n",
       "      <td>cs</td>\n",
       "      <td>122</td>\n",
       "      <td>https://cfd.nu.edu.pk/wp-content/uploads/2023/...</td>\n",
       "    </tr>\n",
       "    <tr>\n",
       "      <th>26</th>\n",
       "      <td>0</td>\n",
       "      <td>Mr. Masood Habib</td>\n",
       "      <td>Lecturer</td>\n",
       "      <td>False</td>\n",
       "      <td>M.S(Computer Science)</td>\n",
       "      <td>m.habib@nu.edu.pk</td>\n",
       "      <td>cs</td>\n",
       "      <td>190</td>\n",
       "      <td>https://cfd.nu.edu.pk/wp-content/uploads/2021/...</td>\n",
       "    </tr>\n",
       "    <tr>\n",
       "      <th>45</th>\n",
       "      <td>0</td>\n",
       "      <td>Ms. Gul E</td>\n",
       "      <td>Instructor</td>\n",
       "      <td>False</td>\n",
       "      <td>M.S(Computer Science)</td>\n",
       "      <td>Gul.Zahra@nu.edu.pk</td>\n",
       "      <td>cs</td>\n",
       "      <td>301</td>\n",
       "      <td>https://cfd.nu.edu.pk/wp-content/uploads/2024/...</td>\n",
       "    </tr>\n",
       "    <tr>\n",
       "      <th>27</th>\n",
       "      <td>0</td>\n",
       "      <td>Mr. Mazhar Hussain</td>\n",
       "      <td>Lecturer</td>\n",
       "      <td>False</td>\n",
       "      <td>M.S(Computer Science)</td>\n",
       "      <td>mazhar.h@nu.edu.pk</td>\n",
       "      <td>cs</td>\n",
       "      <td>0</td>\n",
       "      <td>https://cfd.nu.edu.pk/wp-content/uploads/2019/...</td>\n",
       "    </tr>\n",
       "    <tr>\n",
       "      <th>108</th>\n",
       "      <td>0</td>\n",
       "      <td>Ms. Zainab Mubarik</td>\n",
       "      <td>Lecturer</td>\n",
       "      <td>False</td>\n",
       "      <td>MPhil. (Physics) 2018</td>\n",
       "      <td>zainab.mubarik@nu.edu.pk</td>\n",
       "      <td>sh</td>\n",
       "      <td>281</td>\n",
       "      <td>https://cfd.nu.edu.pk/wp-content/uploads/2023/...</td>\n",
       "    </tr>\n",
       "  </tbody>\n",
       "</table>\n",
       "</div>"
      ],
      "text/plain": [
       "     Id                Name Designation  HEC Approved PhD Supervisor  \\\n",
       "18    0       Mr. Ali Hamza    Lecturer                        False   \n",
       "26    0    Mr. Masood Habib    Lecturer                        False   \n",
       "45    0           Ms. Gul E  Instructor                        False   \n",
       "27    0  Mr. Mazhar Hussain    Lecturer                        False   \n",
       "108   0  Ms. Zainab Mubarik    Lecturer                        False   \n",
       "\n",
       "         Highest Education                     Email Department  Extension  \\\n",
       "18   M.S(Computer Science)       ali.Hamza@nu.edu.pk         cs        122   \n",
       "26   M.S(Computer Science)         m.habib@nu.edu.pk         cs        190   \n",
       "45   M.S(Computer Science)       Gul.Zahra@nu.edu.pk         cs        301   \n",
       "27   M.S(Computer Science)        mazhar.h@nu.edu.pk         cs          0   \n",
       "108  MPhil. (Physics) 2018  zainab.mubarik@nu.edu.pk         sh        281   \n",
       "\n",
       "                                              ImageURL  \n",
       "18   https://cfd.nu.edu.pk/wp-content/uploads/2023/...  \n",
       "26   https://cfd.nu.edu.pk/wp-content/uploads/2021/...  \n",
       "45   https://cfd.nu.edu.pk/wp-content/uploads/2024/...  \n",
       "27   https://cfd.nu.edu.pk/wp-content/uploads/2019/...  \n",
       "108  https://cfd.nu.edu.pk/wp-content/uploads/2023/...  "
      ]
     },
     "execution_count": 344,
     "metadata": {},
     "output_type": "execute_result"
    }
   ],
   "source": [
    "cfd_faculty.sample(5)"
   ]
  },
  {
   "cell_type": "code",
   "execution_count": 342,
   "metadata": {},
   "outputs": [
    {
     "name": "stdout",
     "output_type": "stream",
     "text": [
      "<class 'pandas.core.frame.DataFrame'>\n",
      "RangeIndex: 121 entries, 0 to 120\n",
      "Data columns (total 9 columns):\n",
      " #   Column                       Non-Null Count  Dtype \n",
      "---  ------                       --------------  ----- \n",
      " 0   Id                           121 non-null    int32 \n",
      " 1   Name                         121 non-null    string\n",
      " 2   Designation                  121 non-null    string\n",
      " 3   HEC Approved PhD Supervisor  121 non-null    bool  \n",
      " 4   Highest Education            121 non-null    string\n",
      " 5   Email                        121 non-null    string\n",
      " 6   Department                   121 non-null    string\n",
      " 7   Extension                    121 non-null    int32 \n",
      " 8   ImageURL                     121 non-null    string\n",
      "dtypes: bool(1), int32(2), string(6)\n",
      "memory usage: 6.9 KB\n"
     ]
    }
   ],
   "source": [
    "cfd_faculty.info()"
   ]
  },
  {
   "cell_type": "markdown",
   "metadata": {},
   "source": [
    "Converting into CSV file"
   ]
  },
  {
   "cell_type": "code",
   "execution_count": 91,
   "metadata": {},
   "outputs": [],
   "source": [
    "cfd_faculty.to_csv('cfd.csv')"
   ]
  },
  {
   "cell_type": "markdown",
   "metadata": {},
   "source": [
    "# Concatenating each dataframe to form faculty.csv"
   ]
  },
  {
   "cell_type": "code",
   "execution_count": 366,
   "metadata": {},
   "outputs": [],
   "source": [
    "fast_faculty = pd.concat([lhr_faculty, isb_faculty, psw_faculty, khi_faculty, cfd_faculty], ignore_index=True)"
   ]
  },
  {
   "cell_type": "code",
   "execution_count": 369,
   "metadata": {},
   "outputs": [
    {
     "data": {
      "text/html": [
       "<div>\n",
       "<style scoped>\n",
       "    .dataframe tbody tr th:only-of-type {\n",
       "        vertical-align: middle;\n",
       "    }\n",
       "\n",
       "    .dataframe tbody tr th {\n",
       "        vertical-align: top;\n",
       "    }\n",
       "\n",
       "    .dataframe thead th {\n",
       "        text-align: right;\n",
       "    }\n",
       "</style>\n",
       "<table border=\"1\" class=\"dataframe\">\n",
       "  <thead>\n",
       "    <tr style=\"text-align: right;\">\n",
       "      <th></th>\n",
       "      <th>Id</th>\n",
       "      <th>Name</th>\n",
       "      <th>Designation</th>\n",
       "      <th>HEC Approved PhD Supervisor</th>\n",
       "      <th>Highest Education</th>\n",
       "      <th>Email</th>\n",
       "      <th>Department</th>\n",
       "      <th>Extension</th>\n",
       "      <th>ImageURL</th>\n",
       "    </tr>\n",
       "  </thead>\n",
       "  <tbody>\n",
       "    <tr>\n",
       "      <th>0</th>\n",
       "      <td>1238</td>\n",
       "      <td>Dr. Kashif Zafar</td>\n",
       "      <td>Professor &amp; HOD</td>\n",
       "      <td>True</td>\n",
       "      <td>PhD (CS)</td>\n",
       "      <td>kashif.zafar@nu.edu.pk</td>\n",
       "      <td>FAST School of Computing Faculty</td>\n",
       "      <td>569</td>\n",
       "      <td>https://lhr.nu.edu.pk/media/Faculty/01._Dr_Kas...</td>\n",
       "    </tr>\n",
       "    <tr>\n",
       "      <th>1</th>\n",
       "      <td>4027</td>\n",
       "      <td>Dr. Aamir Wali</td>\n",
       "      <td>Professor</td>\n",
       "      <td>True</td>\n",
       "      <td>PhD (CS)</td>\n",
       "      <td>aamir.wali@nu.edu.pk</td>\n",
       "      <td>FAST School of Computing Faculty</td>\n",
       "      <td>572</td>\n",
       "      <td>https://lhr.nu.edu.pk/media/Faculty/51._Dr_Aam...</td>\n",
       "    </tr>\n",
       "    <tr>\n",
       "      <th>2</th>\n",
       "      <td>4391</td>\n",
       "      <td>Dr. Asif Mahmood Gillani</td>\n",
       "      <td>Professor</td>\n",
       "      <td>True</td>\n",
       "      <td>Ph.D(Computing)</td>\n",
       "      <td>asif.gilani@nu.edu.pk</td>\n",
       "      <td>FAST School of Computing Faculty</td>\n",
       "      <td>558</td>\n",
       "      <td>https://lhr.nu.edu.pk/media/Faculty/02._Dr_Asi...</td>\n",
       "    </tr>\n",
       "    <tr>\n",
       "      <th>3</th>\n",
       "      <td>6113</td>\n",
       "      <td>Dr. Asma Naseer</td>\n",
       "      <td>Professor</td>\n",
       "      <td>True</td>\n",
       "      <td>PhD (CS)</td>\n",
       "      <td>asma.naseer@nu.edu.pk</td>\n",
       "      <td>FAST School of Computing Faculty</td>\n",
       "      <td>634</td>\n",
       "      <td>https://lhr.nu.edu.pk/media/Faculty/07._Dr_Asm...</td>\n",
       "    </tr>\n",
       "    <tr>\n",
       "      <th>4</th>\n",
       "      <td>4329</td>\n",
       "      <td>Dr. Zareen Alamgir</td>\n",
       "      <td>Professor</td>\n",
       "      <td>True</td>\n",
       "      <td>Ph.D (CS)</td>\n",
       "      <td>zareen.alamgir@nu.edu.pk</td>\n",
       "      <td>FAST School of Computing Faculty</td>\n",
       "      <td>612</td>\n",
       "      <td>https://lhr.nu.edu.pk/media/Faculty/03._Dr_Zar...</td>\n",
       "    </tr>\n",
       "    <tr>\n",
       "      <th>...</th>\n",
       "      <td>...</td>\n",
       "      <td>...</td>\n",
       "      <td>...</td>\n",
       "      <td>...</td>\n",
       "      <td>...</td>\n",
       "      <td>...</td>\n",
       "      <td>...</td>\n",
       "      <td>...</td>\n",
       "      <td>...</td>\n",
       "    </tr>\n",
       "    <tr>\n",
       "      <th>743</th>\n",
       "      <td>0</td>\n",
       "      <td>Mr. Syed Zeeshan</td>\n",
       "      <td>Assistant Professor</td>\n",
       "      <td>False</td>\n",
       "      <td>PhD Business Administration</td>\n",
       "      <td>zeeshan.syed@nu.edu.pk</td>\n",
       "      <td>fsm</td>\n",
       "      <td>266</td>\n",
       "      <td>https://cfd.nu.edu.pk/wp-content/uploads/2019/...</td>\n",
       "    </tr>\n",
       "    <tr>\n",
       "      <th>744</th>\n",
       "      <td>0</td>\n",
       "      <td>Mr. Ahmad Salah</td>\n",
       "      <td>Lecturer</td>\n",
       "      <td>False</td>\n",
       "      <td>PhD Business Administration</td>\n",
       "      <td>ahmad.salah@nu.edu.pk</td>\n",
       "      <td>fsm</td>\n",
       "      <td>256</td>\n",
       "      <td>https://cfd.nu.edu.pk/wp-content/uploads/2023/...</td>\n",
       "    </tr>\n",
       "    <tr>\n",
       "      <th>745</th>\n",
       "      <td>0</td>\n",
       "      <td>Ms. Amna Babar</td>\n",
       "      <td>Lecturer</td>\n",
       "      <td>False</td>\n",
       "      <td>PhD Business Administration</td>\n",
       "      <td>amna.Tirmizey@nu.edu.pk</td>\n",
       "      <td>fsm</td>\n",
       "      <td>0</td>\n",
       "      <td>https://cfd.nu.edu.pk/wp-content/uploads/2023/...</td>\n",
       "    </tr>\n",
       "    <tr>\n",
       "      <th>746</th>\n",
       "      <td>0</td>\n",
       "      <td>Mr. Hafiz Muhammad</td>\n",
       "      <td>Lecturer</td>\n",
       "      <td>False</td>\n",
       "      <td>MBA</td>\n",
       "      <td>Zeeshan.raza@nu.edu.pk</td>\n",
       "      <td>fsm</td>\n",
       "      <td>265</td>\n",
       "      <td>https://cfd.nu.edu.pk/wp-content/uploads/2019/...</td>\n",
       "    </tr>\n",
       "    <tr>\n",
       "      <th>747</th>\n",
       "      <td>0</td>\n",
       "      <td>Mr. Muhammad Nasif</td>\n",
       "      <td>Lecturer</td>\n",
       "      <td>False</td>\n",
       "      <td>MBA</td>\n",
       "      <td>m.nasif@nu.edu.pk</td>\n",
       "      <td>fsm</td>\n",
       "      <td>261</td>\n",
       "      <td>https://cfd.nu.edu.pk/wp-content/uploads/2019/...</td>\n",
       "    </tr>\n",
       "  </tbody>\n",
       "</table>\n",
       "<p>748 rows × 9 columns</p>\n",
       "</div>"
      ],
      "text/plain": [
       "       Id                      Name          Designation  \\\n",
       "0    1238          Dr. Kashif Zafar      Professor & HOD   \n",
       "1    4027            Dr. Aamir Wali            Professor   \n",
       "2    4391  Dr. Asif Mahmood Gillani            Professor   \n",
       "3    6113           Dr. Asma Naseer            Professor   \n",
       "4    4329        Dr. Zareen Alamgir            Professor   \n",
       "..    ...                       ...                  ...   \n",
       "743     0          Mr. Syed Zeeshan  Assistant Professor   \n",
       "744     0           Mr. Ahmad Salah             Lecturer   \n",
       "745     0            Ms. Amna Babar             Lecturer   \n",
       "746     0        Mr. Hafiz Muhammad             Lecturer   \n",
       "747     0        Mr. Muhammad Nasif             Lecturer   \n",
       "\n",
       "     HEC Approved PhD Supervisor            Highest Education  \\\n",
       "0                           True                     PhD (CS)   \n",
       "1                           True                     PhD (CS)   \n",
       "2                           True              Ph.D(Computing)   \n",
       "3                           True                     PhD (CS)   \n",
       "4                           True                    Ph.D (CS)   \n",
       "..                           ...                          ...   \n",
       "743                        False  PhD Business Administration   \n",
       "744                        False  PhD Business Administration   \n",
       "745                        False  PhD Business Administration   \n",
       "746                        False                          MBA   \n",
       "747                        False                          MBA   \n",
       "\n",
       "                        Email                        Department  Extension  \\\n",
       "0      kashif.zafar@nu.edu.pk  FAST School of Computing Faculty        569   \n",
       "1        aamir.wali@nu.edu.pk  FAST School of Computing Faculty        572   \n",
       "2       asif.gilani@nu.edu.pk  FAST School of Computing Faculty        558   \n",
       "3       asma.naseer@nu.edu.pk  FAST School of Computing Faculty        634   \n",
       "4    zareen.alamgir@nu.edu.pk  FAST School of Computing Faculty        612   \n",
       "..                        ...                               ...        ...   \n",
       "743    zeeshan.syed@nu.edu.pk                               fsm        266   \n",
       "744     ahmad.salah@nu.edu.pk                               fsm        256   \n",
       "745   amna.Tirmizey@nu.edu.pk                               fsm          0   \n",
       "746    Zeeshan.raza@nu.edu.pk                               fsm        265   \n",
       "747         m.nasif@nu.edu.pk                               fsm        261   \n",
       "\n",
       "                                              ImageURL  \n",
       "0    https://lhr.nu.edu.pk/media/Faculty/01._Dr_Kas...  \n",
       "1    https://lhr.nu.edu.pk/media/Faculty/51._Dr_Aam...  \n",
       "2    https://lhr.nu.edu.pk/media/Faculty/02._Dr_Asi...  \n",
       "3    https://lhr.nu.edu.pk/media/Faculty/07._Dr_Asm...  \n",
       "4    https://lhr.nu.edu.pk/media/Faculty/03._Dr_Zar...  \n",
       "..                                                 ...  \n",
       "743  https://cfd.nu.edu.pk/wp-content/uploads/2019/...  \n",
       "744  https://cfd.nu.edu.pk/wp-content/uploads/2023/...  \n",
       "745  https://cfd.nu.edu.pk/wp-content/uploads/2023/...  \n",
       "746  https://cfd.nu.edu.pk/wp-content/uploads/2019/...  \n",
       "747  https://cfd.nu.edu.pk/wp-content/uploads/2019/...  \n",
       "\n",
       "[748 rows x 9 columns]"
      ]
     },
     "execution_count": 369,
     "metadata": {},
     "output_type": "execute_result"
    }
   ],
   "source": [
    "fast_faculty"
   ]
  },
  {
   "cell_type": "code",
   "execution_count": 385,
   "metadata": {},
   "outputs": [
    {
     "name": "stdout",
     "output_type": "stream",
     "text": [
      "<class 'pandas.core.frame.DataFrame'>\n",
      "RangeIndex: 748 entries, 0 to 747\n",
      "Data columns (total 9 columns):\n",
      " #   Column                       Non-Null Count  Dtype \n",
      "---  ------                       --------------  ----- \n",
      " 0   Id                           748 non-null    int32 \n",
      " 1   Name                         748 non-null    string\n",
      " 2   Designation                  748 non-null    string\n",
      " 3   HEC Approved PhD Supervisor  748 non-null    bool  \n",
      " 4   Highest Education            697 non-null    object\n",
      " 5   Email                        744 non-null    string\n",
      " 6   Department                   748 non-null    object\n",
      " 7   Extension                    748 non-null    int32 \n",
      " 8   ImageURL                     745 non-null    string\n",
      "dtypes: bool(1), int32(2), object(2), string(4)\n",
      "memory usage: 41.8+ KB\n"
     ]
    }
   ],
   "source": [
    "fast_faculty.info()"
   ]
  },
  {
   "cell_type": "code",
   "execution_count": 370,
   "metadata": {},
   "outputs": [],
   "source": [
    "fast_faculty.to_csv('fast_faculty.csv')"
   ]
  },
  {
   "cell_type": "markdown",
   "metadata": {},
   "source": [
    "# Forming sample.csv file"
   ]
  },
  {
   "cell_type": "code",
   "execution_count": 371,
   "metadata": {},
   "outputs": [],
   "source": [
    "import pandas as pd"
   ]
  },
  {
   "cell_type": "code",
   "execution_count": 372,
   "metadata": {},
   "outputs": [],
   "source": [
    "# loading faculty.csv\n",
    "faculty = pd.read_csv('fast_faculty.csv')"
   ]
  },
  {
   "cell_type": "code",
   "execution_count": 383,
   "metadata": {},
   "outputs": [],
   "source": [
    "faculty.drop(faculty.columns[0], axis=1, inplace=True)"
   ]
  },
  {
   "cell_type": "code",
   "execution_count": 392,
   "metadata": {},
   "outputs": [
    {
     "data": {
      "text/html": [
       "<div>\n",
       "<style scoped>\n",
       "    .dataframe tbody tr th:only-of-type {\n",
       "        vertical-align: middle;\n",
       "    }\n",
       "\n",
       "    .dataframe tbody tr th {\n",
       "        vertical-align: top;\n",
       "    }\n",
       "\n",
       "    .dataframe thead th {\n",
       "        text-align: right;\n",
       "    }\n",
       "</style>\n",
       "<table border=\"1\" class=\"dataframe\">\n",
       "  <thead>\n",
       "    <tr style=\"text-align: right;\">\n",
       "      <th></th>\n",
       "      <th>Id</th>\n",
       "      <th>Name</th>\n",
       "      <th>Designation</th>\n",
       "      <th>HEC Approved PhD Supervisor</th>\n",
       "      <th>Highest Education</th>\n",
       "      <th>Email</th>\n",
       "      <th>Department</th>\n",
       "      <th>Extension</th>\n",
       "      <th>ImageURL</th>\n",
       "    </tr>\n",
       "  </thead>\n",
       "  <tbody>\n",
       "    <tr>\n",
       "      <th>291</th>\n",
       "      <td>6689</td>\n",
       "      <td>Atif Khurshid</td>\n",
       "      <td>Lecturer</td>\n",
       "      <td>False</td>\n",
       "      <td>MS</td>\n",
       "      <td>atif.khurshid@isb.nu.edu.pk\\r\\n</td>\n",
       "      <td>CS</td>\n",
       "      <td>0</td>\n",
       "      <td>/Images/Profile/CS/6689.jpg</td>\n",
       "    </tr>\n",
       "    <tr>\n",
       "      <th>292</th>\n",
       "      <td>6696</td>\n",
       "      <td>Mahnoor Tariq</td>\n",
       "      <td>Lecturer</td>\n",
       "      <td>False</td>\n",
       "      <td>MS</td>\n",
       "      <td>mahnoor.tariq@isb.nu.edu.pk\\r\\n</td>\n",
       "      <td>CS</td>\n",
       "      <td>0</td>\n",
       "      <td>/Images/Profile/CS/6696.jpg</td>\n",
       "    </tr>\n",
       "    <tr>\n",
       "      <th>290</th>\n",
       "      <td>6688</td>\n",
       "      <td>Muhammad Farrukh Bashir</td>\n",
       "      <td>Lecturer</td>\n",
       "      <td>False</td>\n",
       "      <td>MS</td>\n",
       "      <td>farrukh.bashir@isb.nu.edu.pk</td>\n",
       "      <td>CS</td>\n",
       "      <td>338</td>\n",
       "      <td>/Images/Profile/CS/6688.jpg</td>\n",
       "    </tr>\n",
       "    <tr>\n",
       "      <th>381</th>\n",
       "      <td>3813</td>\n",
       "      <td>Sadia Nadeem</td>\n",
       "      <td>Professor</td>\n",
       "      <td>True</td>\n",
       "      <td>PhD</td>\n",
       "      <td>sadia.nadeem@nu.edu.pk</td>\n",
       "      <td>MG</td>\n",
       "      <td>182</td>\n",
       "      <td>/Images/Profile/FSM/3813.jpg</td>\n",
       "    </tr>\n",
       "    <tr>\n",
       "      <th>448</th>\n",
       "      <td>5913</td>\n",
       "      <td>Sara Rehmat</td>\n",
       "      <td>Lecturer</td>\n",
       "      <td>False</td>\n",
       "      <td>MS (CS)</td>\n",
       "      <td>sara.rehmat@nu.edu.pk</td>\n",
       "      <td>cs</td>\n",
       "      <td>147</td>\n",
       "      <td>http://pwr.nu.edu.pk/images/faculty/thumb5913.jpg</td>\n",
       "    </tr>\n",
       "  </tbody>\n",
       "</table>\n",
       "</div>"
      ],
      "text/plain": [
       "       Id                     Name Designation  HEC Approved PhD Supervisor  \\\n",
       "291  6689            Atif Khurshid    Lecturer                        False   \n",
       "292  6696            Mahnoor Tariq    Lecturer                        False   \n",
       "290  6688  Muhammad Farrukh Bashir    Lecturer                        False   \n",
       "381  3813             Sadia Nadeem   Professor                         True   \n",
       "448  5913              Sara Rehmat    Lecturer                        False   \n",
       "\n",
       "    Highest Education                            Email Department  Extension  \\\n",
       "291                MS  atif.khurshid@isb.nu.edu.pk\\r\\n         CS          0   \n",
       "292                MS  mahnoor.tariq@isb.nu.edu.pk\\r\\n         CS          0   \n",
       "290                MS     farrukh.bashir@isb.nu.edu.pk         CS        338   \n",
       "381               PhD           sadia.nadeem@nu.edu.pk         MG        182   \n",
       "448           MS (CS)            sara.rehmat@nu.edu.pk         cs        147   \n",
       "\n",
       "                                              ImageURL  \n",
       "291                        /Images/Profile/CS/6689.jpg  \n",
       "292                        /Images/Profile/CS/6696.jpg  \n",
       "290                        /Images/Profile/CS/6688.jpg  \n",
       "381                       /Images/Profile/FSM/3813.jpg  \n",
       "448  http://pwr.nu.edu.pk/images/faculty/thumb5913.jpg  "
      ]
     },
     "execution_count": 392,
     "metadata": {},
     "output_type": "execute_result"
    }
   ],
   "source": [
    "faculty.sample(5)"
   ]
  },
  {
   "cell_type": "code",
   "execution_count": 399,
   "metadata": {},
   "outputs": [],
   "source": [
    "my_Rollno = 5257\n",
    "my_Rollno_last_digit = 7"
   ]
  },
  {
   "cell_type": "code",
   "execution_count": 400,
   "metadata": {},
   "outputs": [],
   "source": [
    "value = my_Rollno_last_digit / 10"
   ]
  },
  {
   "cell_type": "code",
   "execution_count": 402,
   "metadata": {},
   "outputs": [],
   "source": [
    "sample_ = faculty.sample(frac= value)"
   ]
  },
  {
   "cell_type": "code",
   "execution_count": 404,
   "metadata": {},
   "outputs": [],
   "source": [
    "sample_.to_csv('sample_.csv')"
   ]
  }
 ],
 "metadata": {
  "kernelspec": {
   "display_name": "Python 3",
   "language": "python",
   "name": "python3"
  },
  "language_info": {
   "codemirror_mode": {
    "name": "ipython",
    "version": 3
   },
   "file_extension": ".py",
   "mimetype": "text/x-python",
   "name": "python",
   "nbconvert_exporter": "python",
   "pygments_lexer": "ipython3",
   "version": "3.12.4"
  }
 },
 "nbformat": 4,
 "nbformat_minor": 2
}
